{
  "nbformat": 4,
  "nbformat_minor": 0,
  "metadata": {
    "colab": {
      "name": "Predicting air passengers using auto_arima.ipynb",
      "provenance": [],
      "authorship_tag": "ABX9TyPzHS1fLToPQ27OlZ0/wNgE"
    },
    "kernelspec": {
      "name": "python3",
      "display_name": "Python 3"
    }
  },
  "cells": [
    {
      "cell_type": "markdown",
      "metadata": {
        "id": "9rkSh7o5hJXb",
        "colab_type": "text"
      },
      "source": [
        "# Predicting air passengers\n",
        "\n",
        "Models we will use are ARIMA (Autoregressive Integrated Moving Average), LSTM (Long Short Term Memory Neural Network) and Facebook Prophet."
      ]
    },
    {
      "cell_type": "code",
      "metadata": {
        "id": "EwZQx_tFhGKB",
        "colab_type": "code",
        "colab": {
          "base_uri": "https://localhost:8080/",
          "height": 496
        },
        "outputId": "34252753-adca-44b6-f78e-82094768f758"
      },
      "source": [
        "!pip install pmdarima"
      ],
      "execution_count": 1,
      "outputs": [
        {
          "output_type": "stream",
          "text": [
            "Collecting pmdarima\n",
            "\u001b[?25l  Downloading https://files.pythonhosted.org/packages/4b/15/0dfc38deb2f5582b79baff6523b245d6a3dbe877e3fb96a1ee39ec63b626/pmdarima-1.6.1-cp36-cp36m-manylinux1_x86_64.whl (1.5MB)\n",
            "\u001b[K     |████████████████████████████████| 1.5MB 2.7MB/s \n",
            "\u001b[?25hRequirement already satisfied: scikit-learn>=0.22 in /usr/local/lib/python3.6/dist-packages (from pmdarima) (0.22.2.post1)\n",
            "Collecting Cython<0.29.18,>=0.29\n",
            "\u001b[?25l  Downloading https://files.pythonhosted.org/packages/e7/d7/510ddef0248f3e1e91f9cc7e31c0f35f8954d0af92c5c3fd4c853e859ebe/Cython-0.29.17-cp36-cp36m-manylinux1_x86_64.whl (2.1MB)\n",
            "\u001b[K     |████████████████████████████████| 2.1MB 15.6MB/s \n",
            "\u001b[?25hRequirement already satisfied: pandas>=0.19 in /usr/local/lib/python3.6/dist-packages (from pmdarima) (1.0.4)\n",
            "Requirement already satisfied: scipy>=1.3.2 in /usr/local/lib/python3.6/dist-packages (from pmdarima) (1.4.1)\n",
            "Collecting statsmodels>=0.11\n",
            "\u001b[?25l  Downloading https://files.pythonhosted.org/packages/cb/83/540fd83238a18abe6c2d280fa8e489ac5fcefa1f370f0ca1acd16ae1b860/statsmodels-0.11.1-cp36-cp36m-manylinux1_x86_64.whl (8.7MB)\n",
            "\u001b[K     |████████████████████████████████| 8.7MB 14.6MB/s \n",
            "\u001b[?25hRequirement already satisfied: urllib3 in /usr/local/lib/python3.6/dist-packages (from pmdarima) (1.24.3)\n",
            "Requirement already satisfied: numpy>=1.17.3 in /usr/local/lib/python3.6/dist-packages (from pmdarima) (1.18.4)\n",
            "Requirement already satisfied: joblib>=0.11 in /usr/local/lib/python3.6/dist-packages (from pmdarima) (0.15.1)\n",
            "Requirement already satisfied: pytz>=2017.2 in /usr/local/lib/python3.6/dist-packages (from pandas>=0.19->pmdarima) (2018.9)\n",
            "Requirement already satisfied: python-dateutil>=2.6.1 in /usr/local/lib/python3.6/dist-packages (from pandas>=0.19->pmdarima) (2.8.1)\n",
            "Requirement already satisfied: patsy>=0.5 in /usr/local/lib/python3.6/dist-packages (from statsmodels>=0.11->pmdarima) (0.5.1)\n",
            "Requirement already satisfied: six>=1.5 in /usr/local/lib/python3.6/dist-packages (from python-dateutil>=2.6.1->pandas>=0.19->pmdarima) (1.12.0)\n",
            "Installing collected packages: Cython, statsmodels, pmdarima\n",
            "  Found existing installation: Cython 0.29.19\n",
            "    Uninstalling Cython-0.29.19:\n",
            "      Successfully uninstalled Cython-0.29.19\n",
            "  Found existing installation: statsmodels 0.10.2\n",
            "    Uninstalling statsmodels-0.10.2:\n",
            "      Successfully uninstalled statsmodels-0.10.2\n",
            "Successfully installed Cython-0.29.17 pmdarima-1.6.1 statsmodels-0.11.1\n"
          ],
          "name": "stdout"
        }
      ]
    },
    {
      "cell_type": "code",
      "metadata": {
        "id": "I0G2aoh6hMLy",
        "colab_type": "code",
        "colab": {}
      },
      "source": [
        "import numpy as np\n",
        "import pandas as pd\n",
        "\n",
        "import matplotlib.pyplot as plt\n",
        "import seaborn as sns\n",
        "\n",
        "from pmdarima import auto_arima\n",
        "from statsmodels.tsa.stattools import adfuller\n",
        "from statsmodels.tsa.statespace.sarimax import SARIMAX\n",
        "from statsmodels.graphics.tsaplots import plot_acf,plot_pacf\n",
        "from statsmodels.tsa.seasonal import seasonal_decompose\n",
        "from sklearn.metrics import mean_squared_error\n",
        "from statsmodels.tools.eval_measures import rmse"
      ],
      "execution_count": 0,
      "outputs": []
    },
    {
      "cell_type": "code",
      "metadata": {
        "id": "tEbT4NkchZuu",
        "colab_type": "code",
        "colab": {
          "base_uri": "https://localhost:8080/",
          "height": 1000
        },
        "outputId": "1b3a4469-94fb-4114-aebe-cdce17e76c93"
      },
      "source": [
        "import os\n",
        "from google.colab import drive\n",
        "drive.mount('/content/gdrive',force_remount=True)\n",
        "!pwd\n",
        "os.chdir('gdrive/My Drive/Colab Notebooks/')\n",
        "!pwd\n",
        "!ls"
      ],
      "execution_count": 3,
      "outputs": [
        {
          "output_type": "stream",
          "text": [
            "Go to this URL in a browser: https://accounts.google.com/o/oauth2/auth?client_id=947318989803-6bn6qk8qdgf4n4g3pfee6491hc0brc4i.apps.googleusercontent.com&redirect_uri=urn%3aietf%3awg%3aoauth%3a2.0%3aoob&response_type=code&scope=email%20https%3a%2f%2fwww.googleapis.com%2fauth%2fdocs.test%20https%3a%2f%2fwww.googleapis.com%2fauth%2fdrive%20https%3a%2f%2fwww.googleapis.com%2fauth%2fdrive.photos.readonly%20https%3a%2f%2fwww.googleapis.com%2fauth%2fpeopleapi.readonly\n",
            "\n",
            "Enter your authorization code:\n",
            "··········\n",
            "Mounted at /content/gdrive\n",
            "/content\n",
            "/content/gdrive/My Drive/Colab Notebooks\n",
            " abcnews-date-text.csv\n",
            " ab_data.csv\n",
            "'A B Test.ipynb'\n",
            " AirPassengers.csv\n",
            "'A method to categorical variable in flight delay datasets.ipynb'\n",
            "'ARIMA Forecasting.ipynb'\n",
            " assignment0.ipynb\n",
            "'assignment2_(release).ipynb'\n",
            " assignment2_sol.ipynb\n",
            "'Building a Simple Chatbot.ipynb'\n",
            " chatbot.txt\n",
            "'Concrete Compressive Strength Prediction.ipynb'\n",
            "'Copy of Lecture_6_in_class.ipynb'\n",
            " corpus\n",
            "'COVID-19 Data by ZIP Code.csv'\n",
            " dask.ipynb\n",
            " datasets\n",
            "'Data Visualization'\n",
            "'db\\wine_data.sqlite'\n",
            "'Deep Q-learning.ipynb'\n",
            "'Donald-Tweets!.csv'\n",
            " Econometrics\n",
            "'Emergency Department Timeliness.xlsx'\n",
            "'Exploratory Data Analysis for Natural Language Processing.ipynb'\n",
            "'Exploratory Data Analysis for Text Data.ipynb'\n",
            " Final_Project.ipynb\n",
            "'Flight Delay Analysis.ipynb'\n",
            " Flight_Delay_Analysis_Using_H2O.ipynb\n",
            " f_test.dec\n",
            " f_test.enc\n",
            " f_train.dec\n",
            " f_train.enc\n",
            " gbm_def\n",
            " gdrive\n",
            " glm_def\n",
            " Glove_solution.ipynb\n",
            "'Hospitals (1)_V2.xlsx'\n",
            "'Hospital-wide 30-day unplanned readmission rate.xlsx'\n",
            " korea.jpg\n",
            " Lime_Machine_Learning\n",
            " load_n_demo.ipynb\n",
            " loss_female_epo200.npy\n",
            " loss_female_epo2.npy\n",
            " loss_female_epo40.npy\n",
            " loss_female_epo4.npy\n",
            " loss_female_epo5.npy\n",
            " loss_female_sche_sampling_epo1.npy\n",
            " loss_female_sche_sampling_epo200.npy\n",
            " loss_female_sche_sampling_epo2.npy\n",
            " loss_male_epo200.npy\n",
            " loss_male_epo2.npy\n",
            " loss_male_epo5.npy\n",
            " loss_male_prob_feed_epo200.npy\n",
            " loss_male_sche_sampling_epo200.npy\n",
            " loss.png\n",
            " main.py\n",
            " Market-Mix-Modelling.ipynb\n",
            " merge_hospital_final.xlsx\n",
            " merge_hospital.xlsx\n",
            " Merge.ipynb\n",
            "'ML Practice'\n",
            " MMM.xlsx\n",
            "'Model 4 generator'\n",
            "'Model 5 RL'\n",
            " model_female_prob_feed_epo141.pth\n",
            " model_female_prob_feed_epo199.pth\n",
            " model_female_prob_feed_epo200.pth\n",
            "'New York ER Wait Times and Violations.xlsx'\n",
            "'Optimization Methods in Machine Learning'\n",
            "'Patient Satisfaction.xlsx'\n",
            "'Predicting air passengers using auto_arima.ipynb'\n",
            "'Predicting Wine Quality with Classification Techniques.ipynb'\n",
            "'Project Choice #1.ipynb'\n",
            " pth\n",
            " Schedule_Sampling_Seq2Seq-female.ipynb\n",
            "'Schedule Sampling Seq2Seq-Movie_Script Chatbot-PyTorch.ipynb'\n",
            "'Sentiment Analysis for NLP.ipynb'\n",
            "'Seq2Seq using PyTorch.ipynb'\n",
            "'Simple LSTM for Spam Detection.ipynb'\n",
            " spam.csv\n",
            " Spam_Detection_BERT.ipynb\n",
            " Spam_Detection.ipynb\n",
            " SparkNLP.ipynb\n",
            "'Time Series Analysis.ipynb'\n",
            " winemag-data-130k-v2.csv\n",
            " winequality-red.csv\n"
          ],
          "name": "stdout"
        }
      ]
    },
    {
      "cell_type": "code",
      "metadata": {
        "id": "024hp281hbc3",
        "colab_type": "code",
        "colab": {
          "base_uri": "https://localhost:8080/",
          "height": 204
        },
        "outputId": "de79dd24-e0e4-4168-ee22-0b045501bacc"
      },
      "source": [
        "#load the data\n",
        "df = pd.read_csv('AirPassengers.csv')\n",
        "df.head()"
      ],
      "execution_count": 40,
      "outputs": [
        {
          "output_type": "execute_result",
          "data": {
            "text/html": [
              "<div>\n",
              "<style scoped>\n",
              "    .dataframe tbody tr th:only-of-type {\n",
              "        vertical-align: middle;\n",
              "    }\n",
              "\n",
              "    .dataframe tbody tr th {\n",
              "        vertical-align: top;\n",
              "    }\n",
              "\n",
              "    .dataframe thead th {\n",
              "        text-align: right;\n",
              "    }\n",
              "</style>\n",
              "<table border=\"1\" class=\"dataframe\">\n",
              "  <thead>\n",
              "    <tr style=\"text-align: right;\">\n",
              "      <th></th>\n",
              "      <th>Month</th>\n",
              "      <th>#Passengers</th>\n",
              "    </tr>\n",
              "  </thead>\n",
              "  <tbody>\n",
              "    <tr>\n",
              "      <th>0</th>\n",
              "      <td>1949-01</td>\n",
              "      <td>112</td>\n",
              "    </tr>\n",
              "    <tr>\n",
              "      <th>1</th>\n",
              "      <td>1949-02</td>\n",
              "      <td>118</td>\n",
              "    </tr>\n",
              "    <tr>\n",
              "      <th>2</th>\n",
              "      <td>1949-03</td>\n",
              "      <td>132</td>\n",
              "    </tr>\n",
              "    <tr>\n",
              "      <th>3</th>\n",
              "      <td>1949-04</td>\n",
              "      <td>129</td>\n",
              "    </tr>\n",
              "    <tr>\n",
              "      <th>4</th>\n",
              "      <td>1949-05</td>\n",
              "      <td>121</td>\n",
              "    </tr>\n",
              "  </tbody>\n",
              "</table>\n",
              "</div>"
            ],
            "text/plain": [
              "     Month  #Passengers\n",
              "0  1949-01          112\n",
              "1  1949-02          118\n",
              "2  1949-03          132\n",
              "3  1949-04          129\n",
              "4  1949-05          121"
            ]
          },
          "metadata": {
            "tags": []
          },
          "execution_count": 40
        }
      ]
    },
    {
      "cell_type": "markdown",
      "metadata": {
        "id": "DVVWy-zqhh4L",
        "colab_type": "text"
      },
      "source": [
        "## Exploratory Data Analysis (EDA)"
      ]
    },
    {
      "cell_type": "code",
      "metadata": {
        "id": "Pjg1GYxRhjMm",
        "colab_type": "code",
        "colab": {
          "base_uri": "https://localhost:8080/",
          "height": 170
        },
        "outputId": "0bd97590-5007-4e97-b020-35ac8928c638"
      },
      "source": [
        "df.info()"
      ],
      "execution_count": 5,
      "outputs": [
        {
          "output_type": "stream",
          "text": [
            "<class 'pandas.core.frame.DataFrame'>\n",
            "RangeIndex: 144 entries, 0 to 143\n",
            "Data columns (total 2 columns):\n",
            " #   Column       Non-Null Count  Dtype \n",
            "---  ------       --------------  ----- \n",
            " 0   Month        144 non-null    object\n",
            " 1   #Passengers  144 non-null    int64 \n",
            "dtypes: int64(1), object(1)\n",
            "memory usage: 2.4+ KB\n"
          ],
          "name": "stdout"
        }
      ]
    },
    {
      "cell_type": "markdown",
      "metadata": {
        "id": "qSTF9eL1hqm7",
        "colab_type": "text"
      },
      "source": [
        "## Data Preprocessing"
      ]
    },
    {
      "cell_type": "code",
      "metadata": {
        "id": "cdm0sFXqhoys",
        "colab_type": "code",
        "colab": {
          "base_uri": "https://localhost:8080/",
          "height": 204
        },
        "outputId": "80010689-2498-4d2f-ba6e-7329f56386ef"
      },
      "source": [
        "df['Month'] = pd.to_datetime(df.Month)\n",
        "df.head()"
      ],
      "execution_count": 6,
      "outputs": [
        {
          "output_type": "execute_result",
          "data": {
            "text/html": [
              "<div>\n",
              "<style scoped>\n",
              "    .dataframe tbody tr th:only-of-type {\n",
              "        vertical-align: middle;\n",
              "    }\n",
              "\n",
              "    .dataframe tbody tr th {\n",
              "        vertical-align: top;\n",
              "    }\n",
              "\n",
              "    .dataframe thead th {\n",
              "        text-align: right;\n",
              "    }\n",
              "</style>\n",
              "<table border=\"1\" class=\"dataframe\">\n",
              "  <thead>\n",
              "    <tr style=\"text-align: right;\">\n",
              "      <th></th>\n",
              "      <th>Month</th>\n",
              "      <th>#Passengers</th>\n",
              "    </tr>\n",
              "  </thead>\n",
              "  <tbody>\n",
              "    <tr>\n",
              "      <th>0</th>\n",
              "      <td>1949-01-01</td>\n",
              "      <td>112</td>\n",
              "    </tr>\n",
              "    <tr>\n",
              "      <th>1</th>\n",
              "      <td>1949-02-01</td>\n",
              "      <td>118</td>\n",
              "    </tr>\n",
              "    <tr>\n",
              "      <th>2</th>\n",
              "      <td>1949-03-01</td>\n",
              "      <td>132</td>\n",
              "    </tr>\n",
              "    <tr>\n",
              "      <th>3</th>\n",
              "      <td>1949-04-01</td>\n",
              "      <td>129</td>\n",
              "    </tr>\n",
              "    <tr>\n",
              "      <th>4</th>\n",
              "      <td>1949-05-01</td>\n",
              "      <td>121</td>\n",
              "    </tr>\n",
              "  </tbody>\n",
              "</table>\n",
              "</div>"
            ],
            "text/plain": [
              "       Month  #Passengers\n",
              "0 1949-01-01          112\n",
              "1 1949-02-01          118\n",
              "2 1949-03-01          132\n",
              "3 1949-04-01          129\n",
              "4 1949-05-01          121"
            ]
          },
          "metadata": {
            "tags": []
          },
          "execution_count": 6
        }
      ]
    },
    {
      "cell_type": "code",
      "metadata": {
        "id": "Svz6EGRkhwuI",
        "colab_type": "code",
        "colab": {
          "base_uri": "https://localhost:8080/",
          "height": 326
        },
        "outputId": "a0ce3933-d08e-4eef-a28c-a76c59126726"
      },
      "source": [
        "#divide into train and validation set\n",
        "train = df.loc[:len(df)-12, :] #data[:int(0.7*(len(data)))]\n",
        "test = df.loc[len(df)-12:, :] #data[int(0.7*(len(data))):]\n",
        "\n",
        "fig, ax = plt.subplots(figsize=(25, 5))\n",
        "ax.plot('Month', '#Passengers', data=train, label='Train')\n",
        "ax.plot('Month', '#Passengers', data=test, label='Test')\n",
        "ax.legend()\n",
        "ax.set_title('No of air passengers')"
      ],
      "execution_count": 8,
      "outputs": [
        {
          "output_type": "execute_result",
          "data": {
            "text/plain": [
              "Text(0.5, 1.0, 'No of air passengers')"
            ]
          },
          "metadata": {
            "tags": []
          },
          "execution_count": 8
        },
        {
          "output_type": "display_data",
          "data": {
            "image/png": "[encoded data removed]",
            "text/plain": [
              "<Figure size 1800x360 with 1 Axes>"
            ]
          },
          "metadata": {
            "tags": [],
            "needs_background": "light"
          }
        }
      ]
    },
    {
      "cell_type": "markdown",
      "metadata": {
        "id": "P0DpKu2gh1qC",
        "colab_type": "text"
      },
      "source": [
        "## Building the model"
      ]
    },
    {
      "cell_type": "code",
      "metadata": {
        "id": "kwhBj3gRh0fA",
        "colab_type": "code",
        "colab": {
          "base_uri": "https://localhost:8080/",
          "height": 995
        },
        "outputId": "f109dbad-9cc1-4d76-8e38-e3c8954f082b"
      },
      "source": [
        "# model = auto_arima(train['#Passengers'], trace=True, error_action='ignore', suppress_warnings=True)\n",
        "model = auto_arima(train['#Passengers'], \n",
        "                   seasonal=True, \n",
        "                   m=12,\n",
        "                   max_p=7, max_d=5, max_q=7, \n",
        "                   max_P=4, max_D=4, max_Q=4, \n",
        "                   scoring='mse',\n",
        "                   trace=True, error_action='ignore', suppress_warnings=True)\n",
        "model.fit(train['#Passengers'])\n",
        "\n",
        "forecast = test.copy()\n",
        "forecast['Predicted_Passengers'] = model.predict(n_periods=len(test))\n",
        "\n",
        "fig, ax = plt.subplots(figsize=(25, 5))\n",
        "ax.plot(train['Month'], train['#Passengers'], label='Train')\n",
        "ax.plot(test['Month'], test['#Passengers'], label='Valid')\n",
        "ax.plot(forecast['Month'], forecast['Predicted_Passengers'], label='Prediction')\n",
        "fig.autofmt_xdate() # make space for and rotate the x-axis tick labels\n",
        "ax.legend()\n",
        "ax.set_title('No of air passengers')"
      ],
      "execution_count": 9,
      "outputs": [
        {
          "output_type": "stream",
          "text": [
            "Performing stepwise search to minimize aic\n",
            "Fit ARIMA(2,1,2)x(1,1,1,12) [intercept=True]; AIC=906.706, BIC=929.006, Time=3.154 seconds\n",
            "Fit ARIMA(0,1,0)x(0,1,0,12) [intercept=True]; AIC=914.490, BIC=920.065, Time=0.030 seconds\n",
            "Fit ARIMA(1,1,0)x(1,1,0,12) [intercept=True]; AIC=909.252, BIC=920.402, Time=0.511 seconds\n",
            "Fit ARIMA(0,1,1)x(0,1,1,12) [intercept=True]; AIC=910.189, BIC=921.339, Time=0.525 seconds\n",
            "Fit ARIMA(0,1,0)x(0,1,0,12) [intercept=False]; AIC=912.700, BIC=915.487, Time=0.026 seconds\n",
            "Fit ARIMA(2,1,2)x(0,1,1,12) [intercept=True]; AIC=907.382, BIC=926.895, Time=2.932 seconds\n",
            "Near non-invertible roots for order (2, 1, 2)(0, 1, 1, 12); setting score to inf (at least one inverse root too close to the border of the unit circle: 1.000)\n",
            "Fit ARIMA(2,1,2)x(1,1,0,12) [intercept=True]; AIC=907.138, BIC=926.650, Time=3.283 seconds\n",
            "Near non-invertible roots for order (2, 1, 2)(1, 1, 0, 12); setting score to inf (at least one inverse root too close to the border of the unit circle: 1.000)\n",
            "Fit ARIMA(2,1,2)x(2,1,1,12) [intercept=True]; AIC=903.357, BIC=928.444, Time=8.526 seconds\n",
            "Near non-invertible roots for order (2, 1, 2)(2, 1, 1, 12); setting score to inf (at least one inverse root too close to the border of the unit circle: 0.997)\n",
            "Fit ARIMA(2,1,2)x(1,1,2,12) [intercept=True]; AIC=902.114, BIC=927.202, Time=7.262 seconds\n",
            "Near non-invertible roots for order (2, 1, 2)(1, 1, 2, 12); setting score to inf (at least one inverse root too close to the border of the unit circle: 0.996)\n",
            "Fit ARIMA(2,1,2)x(0,1,0,12) [intercept=True]; AIC=906.549, BIC=923.274, Time=0.960 seconds\n",
            "Near non-invertible roots for order (2, 1, 2)(0, 1, 0, 12); setting score to inf (at least one inverse root too close to the border of the unit circle: 1.000)\n",
            "Fit ARIMA(2,1,2)x(0,1,2,12) [intercept=True]; AIC=908.036, BIC=930.336, Time=6.228 seconds\n",
            "Near non-invertible roots for order (2, 1, 2)(0, 1, 2, 12); setting score to inf (at least one inverse root too close to the border of the unit circle: 1.000)\n",
            "Fit ARIMA(2,1,2)x(2,1,0,12) [intercept=True]; AIC=907.836, BIC=930.136, Time=7.516 seconds\n",
            "Near non-invertible roots for order (2, 1, 2)(2, 1, 0, 12); setting score to inf (at least one inverse root too close to the border of the unit circle: 1.000)\n",
            "Fit ARIMA(2,1,2)x(2,1,2,12) [intercept=True]; AIC=908.333, BIC=936.208, Time=9.600 seconds\n",
            "Near non-invertible roots for order (2, 1, 2)(2, 1, 2, 12); setting score to inf (at least one inverse root too close to the border of the unit circle: 0.997)\n",
            "Fit ARIMA(1,1,2)x(1,1,1,12) [intercept=True]; AIC=911.695, BIC=931.207, Time=2.820 seconds\n",
            "Near non-invertible roots for order (1, 1, 2)(1, 1, 1, 12); setting score to inf (at least one inverse root too close to the border of the unit circle: 0.998)\n",
            "Fit ARIMA(2,1,1)x(1,1,1,12) [intercept=True]; AIC=911.707, BIC=931.219, Time=2.839 seconds\n",
            "Near non-invertible roots for order (2, 1, 1)(1, 1, 1, 12); setting score to inf (at least one inverse root too close to the border of the unit circle: 0.998)\n",
            "Fit ARIMA(3,1,2)x(1,1,1,12) [intercept=True]; AIC=908.109, BIC=933.196, Time=3.746 seconds\n",
            "Near non-invertible roots for order (3, 1, 2)(1, 1, 1, 12); setting score to inf (at least one inverse root too close to the border of the unit circle: 0.999)\n",
            "Fit ARIMA(2,1,3)x(1,1,1,12) [intercept=True]; AIC=910.324, BIC=935.412, Time=4.211 seconds\n",
            "Near non-invertible roots for order (2, 1, 3)(1, 1, 1, 12); setting score to inf (at least one inverse root too close to the border of the unit circle: 0.994)\n",
            "Fit ARIMA(1,1,1)x(1,1,1,12) [intercept=True]; AIC=909.705, BIC=926.430, Time=2.567 seconds\n",
            "Near non-invertible roots for order (1, 1, 1)(1, 1, 1, 12); setting score to inf (at least one inverse root too close to the border of the unit circle: 0.999)\n",
            "Fit ARIMA(1,1,3)x(1,1,1,12) [intercept=True]; AIC=906.301, BIC=928.601, Time=3.816 seconds\n",
            "Near non-invertible roots for order (1, 1, 3)(1, 1, 1, 12); setting score to inf (at least one inverse root too close to the border of the unit circle: 0.999)\n",
            "Fit ARIMA(3,1,1)x(1,1,1,12) [intercept=True]; AIC=906.126, BIC=928.426, Time=3.305 seconds\n",
            "Near non-invertible roots for order (3, 1, 1)(1, 1, 1, 12); setting score to inf (at least one inverse root too close to the border of the unit circle: 0.999)\n",
            "Fit ARIMA(3,1,3)x(1,1,1,12) [intercept=True]; AIC=907.945, BIC=935.820, Time=4.500 seconds\n",
            "Near non-invertible roots for order (3, 1, 3)(1, 1, 1, 12); setting score to inf (at least one inverse root too close to the border of the unit circle: 0.995)\n",
            "Total fit time: 78.440 seconds\n"
          ],
          "name": "stdout"
        },
        {
          "output_type": "execute_result",
          "data": {
            "text/plain": [
              "Text(0.5, 1.0, 'No of air passengers')"
            ]
          },
          "metadata": {
            "tags": []
          },
          "execution_count": 9
        },
        {
          "output_type": "display_data",
          "data": {
            "image/png": "[encoded data removed]",
            "text/plain": [
              "<Figure size 1800x360 with 1 Axes>"
            ]
          },
          "metadata": {
            "tags": [],
            "needs_background": "light"
          }
        }
      ]
    },
    {
      "cell_type": "code",
      "metadata": {
        "id": "aHEhkYs2h6lu",
        "colab_type": "code",
        "colab": {
          "base_uri": "https://localhost:8080/",
          "height": 549
        },
        "outputId": "934470c6-8144-4b6d-d190-82a042c41c5c"
      },
      "source": [
        "model.summary()"
      ],
      "execution_count": 14,
      "outputs": [
        {
          "output_type": "execute_result",
          "data": {
            "text/html": [
              "<table class=\"simpletable\">\n",
              "<caption>SARIMAX Results</caption>\n",
              "<tr>\n",
              "  <th>Dep. Variable:</th>                  <td>y</td>               <th>  No. Observations:  </th>    <td>133</td>  \n",
              "</tr>\n",
              "<tr>\n",
              "  <th>Model:</th>           <td>SARIMAX(2, 1, 2)x(1, 1, 2, 12)</td> <th>  Log Likelihood     </th> <td>-442.057</td>\n",
              "</tr>\n",
              "<tr>\n",
              "  <th>Date:</th>                   <td>Sat, 06 Jun 2020</td>        <th>  AIC                </th>  <td>902.114</td>\n",
              "</tr>\n",
              "<tr>\n",
              "  <th>Time:</th>                       <td>03:14:03</td>            <th>  BIC                </th>  <td>927.202</td>\n",
              "</tr>\n",
              "<tr>\n",
              "  <th>Sample:</th>                         <td>0</td>               <th>  HQIC               </th>  <td>912.302</td>\n",
              "</tr>\n",
              "<tr>\n",
              "  <th></th>                             <td> - 133</td>             <th>                     </th>     <td> </td>   \n",
              "</tr>\n",
              "<tr>\n",
              "  <th>Covariance Type:</th>               <td>opg</td>              <th>                     </th>     <td> </td>   \n",
              "</tr>\n",
              "</table>\n",
              "<table class=\"simpletable\">\n",
              "<tr>\n",
              "      <td></td>         <th>coef</th>     <th>std err</th>      <th>z</th>      <th>P>|z|</th>  <th>[0.025</th>    <th>0.975]</th>  \n",
              "</tr>\n",
              "<tr>\n",
              "  <th>intercept</th> <td>    0.0008</td> <td>    0.008</td> <td>    0.104</td> <td> 0.917</td> <td>   -0.015</td> <td>    0.016</td>\n",
              "</tr>\n",
              "<tr>\n",
              "  <th>ar.L1</th>     <td>    0.3818</td> <td>    0.430</td> <td>    0.889</td> <td> 0.374</td> <td>   -0.460</td> <td>    1.224</td>\n",
              "</tr>\n",
              "<tr>\n",
              "  <th>ar.L2</th>     <td>    0.3962</td> <td>    0.341</td> <td>    1.161</td> <td> 0.246</td> <td>   -0.273</td> <td>    1.065</td>\n",
              "</tr>\n",
              "<tr>\n",
              "  <th>ma.L1</th>     <td>   -0.7453</td> <td>    0.464</td> <td>   -1.605</td> <td> 0.108</td> <td>   -1.655</td> <td>    0.165</td>\n",
              "</tr>\n",
              "<tr>\n",
              "  <th>ma.L2</th>     <td>   -0.2498</td> <td>    0.445</td> <td>   -0.562</td> <td> 0.574</td> <td>   -1.121</td> <td>    0.622</td>\n",
              "</tr>\n",
              "<tr>\n",
              "  <th>ar.S.L12</th>  <td>    0.9805</td> <td>    0.184</td> <td>    5.336</td> <td> 0.000</td> <td>    0.620</td> <td>    1.341</td>\n",
              "</tr>\n",
              "<tr>\n",
              "  <th>ma.S.L12</th>  <td>   -1.2650</td> <td>    0.495</td> <td>   -2.557</td> <td> 0.011</td> <td>   -2.235</td> <td>   -0.295</td>\n",
              "</tr>\n",
              "<tr>\n",
              "  <th>ma.S.L24</th>  <td>    0.3501</td> <td>    0.155</td> <td>    2.255</td> <td> 0.024</td> <td>    0.046</td> <td>    0.654</td>\n",
              "</tr>\n",
              "<tr>\n",
              "  <th>sigma2</th>    <td>   78.5873</td> <td>   27.288</td> <td>    2.880</td> <td> 0.004</td> <td>   25.104</td> <td>  132.071</td>\n",
              "</tr>\n",
              "</table>\n",
              "<table class=\"simpletable\">\n",
              "<tr>\n",
              "  <th>Ljung-Box (Q):</th>          <td>40.70</td> <th>  Jarque-Bera (JB):  </th> <td>7.28</td> \n",
              "</tr>\n",
              "<tr>\n",
              "  <th>Prob(Q):</th>                <td>0.44</td>  <th>  Prob(JB):          </th> <td>0.03</td> \n",
              "</tr>\n",
              "<tr>\n",
              "  <th>Heteroskedasticity (H):</th> <td>1.65</td>  <th>  Skew:              </th> <td>-0.28</td>\n",
              "</tr>\n",
              "<tr>\n",
              "  <th>Prob(H) (two-sided):</th>    <td>0.12</td>  <th>  Kurtosis:          </th> <td>4.07</td> \n",
              "</tr>\n",
              "</table><br/><br/>Warnings:<br/>[1] Covariance matrix calculated using the outer product of gradients (complex-step)."
            ],
            "text/plain": [
              "<class 'statsmodels.iolib.summary.Summary'>\n",
              "\"\"\"\n",
              "                                     SARIMAX Results                                      \n",
              "==========================================================================================\n",
              "Dep. Variable:                                  y   No. Observations:                  133\n",
              "Model:             SARIMAX(2, 1, 2)x(1, 1, 2, 12)   Log Likelihood                -442.057\n",
              "Date:                            Sat, 06 Jun 2020   AIC                            902.114\n",
              "Time:                                    03:14:03   BIC                            927.202\n",
              "Sample:                                         0   HQIC                           912.302\n",
              "                                            - 133                                         \n",
              "Covariance Type:                              opg                                         \n",
              "==============================================================================\n",
              "                 coef    std err          z      P>|z|      [0.025      0.975]\n",
              "------------------------------------------------------------------------------\n",
              "intercept      0.0008      0.008      0.104      0.917      -0.015       0.016\n",
              "ar.L1          0.3818      0.430      0.889      0.374      -0.460       1.224\n",
              "ar.L2          0.3962      0.341      1.161      0.246      -0.273       1.065\n",
              "ma.L1         -0.7453      0.464     -1.605      0.108      -1.655       0.165\n",
              "ma.L2         -0.2498      0.445     -0.562      0.574      -1.121       0.622\n",
              "ar.S.L12       0.9805      0.184      5.336      0.000       0.620       1.341\n",
              "ma.S.L12      -1.2650      0.495     -2.557      0.011      -2.235      -0.295\n",
              "ma.S.L24       0.3501      0.155      2.255      0.024       0.046       0.654\n",
              "sigma2        78.5873     27.288      2.880      0.004      25.104     132.071\n",
              "===================================================================================\n",
              "Ljung-Box (Q):                       40.70   Jarque-Bera (JB):                 7.28\n",
              "Prob(Q):                              0.44   Prob(JB):                         0.03\n",
              "Heteroskedasticity (H):               1.65   Skew:                            -0.28\n",
              "Prob(H) (two-sided):                  0.12   Kurtosis:                         4.07\n",
              "===================================================================================\n",
              "\n",
              "Warnings:\n",
              "[1] Covariance matrix calculated using the outer product of gradients (complex-step).\n",
              "\"\"\""
            ]
          },
          "metadata": {
            "tags": []
          },
          "execution_count": 14
        }
      ]
    },
    {
      "cell_type": "markdown",
      "metadata": {
        "id": "7FhrzJSniBO6",
        "colab_type": "text"
      },
      "source": [
        "## Interpretation"
      ]
    },
    {
      "cell_type": "code",
      "metadata": {
        "id": "FPas2SuTiBu4",
        "colab_type": "code",
        "colab": {
          "base_uri": "https://localhost:8080/",
          "height": 204
        },
        "outputId": "51fa13c0-f22c-48f6-9d55-0f2c6f1d5617"
      },
      "source": [
        "forecast.head()"
      ],
      "execution_count": 11,
      "outputs": [
        {
          "output_type": "execute_result",
          "data": {
            "text/html": [
              "<div>\n",
              "<style scoped>\n",
              "    .dataframe tbody tr th:only-of-type {\n",
              "        vertical-align: middle;\n",
              "    }\n",
              "\n",
              "    .dataframe tbody tr th {\n",
              "        vertical-align: top;\n",
              "    }\n",
              "\n",
              "    .dataframe thead th {\n",
              "        text-align: right;\n",
              "    }\n",
              "</style>\n",
              "<table border=\"1\" class=\"dataframe\">\n",
              "  <thead>\n",
              "    <tr style=\"text-align: right;\">\n",
              "      <th></th>\n",
              "      <th>Month</th>\n",
              "      <th>#Passengers</th>\n",
              "      <th>Predicted_Passengers</th>\n",
              "    </tr>\n",
              "  </thead>\n",
              "  <tbody>\n",
              "    <tr>\n",
              "      <th>132</th>\n",
              "      <td>1960-01-01</td>\n",
              "      <td>417</td>\n",
              "      <td>395.231482</td>\n",
              "    </tr>\n",
              "    <tr>\n",
              "      <th>133</th>\n",
              "      <td>1960-02-01</td>\n",
              "      <td>391</td>\n",
              "      <td>455.985205</td>\n",
              "    </tr>\n",
              "    <tr>\n",
              "      <th>134</th>\n",
              "      <td>1960-03-01</td>\n",
              "      <td>419</td>\n",
              "      <td>443.794329</td>\n",
              "    </tr>\n",
              "    <tr>\n",
              "      <th>135</th>\n",
              "      <td>1960-04-01</td>\n",
              "      <td>461</td>\n",
              "      <td>465.781786</td>\n",
              "    </tr>\n",
              "    <tr>\n",
              "      <th>136</th>\n",
              "      <td>1960-05-01</td>\n",
              "      <td>472</td>\n",
              "      <td>529.031305</td>\n",
              "    </tr>\n",
              "  </tbody>\n",
              "</table>\n",
              "</div>"
            ],
            "text/plain": [
              "         Month  #Passengers  Predicted_Passengers\n",
              "132 1960-01-01          417            395.231482\n",
              "133 1960-02-01          391            455.985205\n",
              "134 1960-03-01          419            443.794329\n",
              "135 1960-04-01          461            465.781786\n",
              "136 1960-05-01          472            529.031305"
            ]
          },
          "metadata": {
            "tags": []
          },
          "execution_count": 11
        }
      ]
    },
    {
      "cell_type": "code",
      "metadata": {
        "id": "MtH6vRzYiEK3",
        "colab_type": "code",
        "colab": {
          "base_uri": "https://localhost:8080/",
          "height": 34
        },
        "outputId": "c50bf841-8ee2-4465-8f77-830c0a1aff54"
      },
      "source": [
        "#calculate rmse\n",
        "rmse = np.sqrt(mean_squared_error(test['#Passengers'], forecast['Predicted_Passengers']))\n",
        "print('RMSE: ', rmse)"
      ],
      "execution_count": 12,
      "outputs": [
        {
          "output_type": "stream",
          "text": [
            "RMSE:  52.16960769610415\n"
          ],
          "name": "stdout"
        }
      ]
    },
    {
      "cell_type": "markdown",
      "metadata": {
        "id": "blAEMejPzuZZ",
        "colab_type": "text"
      },
      "source": [
        "## ARIMA Forecast\n",
        "Let’s run auto_arima() function to get best p,d,q,P,D,Q values"
      ]
    },
    {
      "cell_type": "code",
      "metadata": {
        "id": "_6Ov1tLRz7aN",
        "colab_type": "code",
        "colab": {}
      },
      "source": [
        "#load the data\n",
        "df = pd.read_csv('AirPassengers.csv')"
      ],
      "execution_count": 0,
      "outputs": []
    },
    {
      "cell_type": "code",
      "metadata": {
        "id": "YNG54497zwKh",
        "colab_type": "code",
        "colab": {
          "base_uri": "https://localhost:8080/",
          "height": 204
        },
        "outputId": "56fb67b9-5231-4e76-bb25-9ab67ba461af"
      },
      "source": [
        "df.head()"
      ],
      "execution_count": 5,
      "outputs": [
        {
          "output_type": "execute_result",
          "data": {
            "text/html": [
              "<div>\n",
              "<style scoped>\n",
              "    .dataframe tbody tr th:only-of-type {\n",
              "        vertical-align: middle;\n",
              "    }\n",
              "\n",
              "    .dataframe tbody tr th {\n",
              "        vertical-align: top;\n",
              "    }\n",
              "\n",
              "    .dataframe thead th {\n",
              "        text-align: right;\n",
              "    }\n",
              "</style>\n",
              "<table border=\"1\" class=\"dataframe\">\n",
              "  <thead>\n",
              "    <tr style=\"text-align: right;\">\n",
              "      <th></th>\n",
              "      <th>Month</th>\n",
              "      <th>#Passengers</th>\n",
              "    </tr>\n",
              "  </thead>\n",
              "  <tbody>\n",
              "    <tr>\n",
              "      <th>0</th>\n",
              "      <td>1949-01</td>\n",
              "      <td>112</td>\n",
              "    </tr>\n",
              "    <tr>\n",
              "      <th>1</th>\n",
              "      <td>1949-02</td>\n",
              "      <td>118</td>\n",
              "    </tr>\n",
              "    <tr>\n",
              "      <th>2</th>\n",
              "      <td>1949-03</td>\n",
              "      <td>132</td>\n",
              "    </tr>\n",
              "    <tr>\n",
              "      <th>3</th>\n",
              "      <td>1949-04</td>\n",
              "      <td>129</td>\n",
              "    </tr>\n",
              "    <tr>\n",
              "      <th>4</th>\n",
              "      <td>1949-05</td>\n",
              "      <td>121</td>\n",
              "    </tr>\n",
              "  </tbody>\n",
              "</table>\n",
              "</div>"
            ],
            "text/plain": [
              "     Month  #Passengers\n",
              "0  1949-01          112\n",
              "1  1949-02          118\n",
              "2  1949-03          132\n",
              "3  1949-04          129\n",
              "4  1949-05          121"
            ]
          },
          "metadata": {
            "tags": []
          },
          "execution_count": 5
        }
      ]
    },
    {
      "cell_type": "code",
      "metadata": {
        "id": "lKkmwtyNzzq8",
        "colab_type": "code",
        "colab": {
          "base_uri": "https://localhost:8080/",
          "height": 170
        },
        "outputId": "0e3ff099-f419-4c17-ee11-ffd385da1297"
      },
      "source": [
        "df.info()"
      ],
      "execution_count": 6,
      "outputs": [
        {
          "output_type": "stream",
          "text": [
            "<class 'pandas.core.frame.DataFrame'>\n",
            "RangeIndex: 144 entries, 0 to 143\n",
            "Data columns (total 2 columns):\n",
            " #   Column       Non-Null Count  Dtype \n",
            "---  ------       --------------  ----- \n",
            " 0   Month        144 non-null    object\n",
            " 1   #Passengers  144 non-null    int64 \n",
            "dtypes: int64(1), object(1)\n",
            "memory usage: 2.4+ KB\n"
          ],
          "name": "stdout"
        }
      ]
    },
    {
      "cell_type": "code",
      "metadata": {
        "id": "NQBi-GbZz4HQ",
        "colab_type": "code",
        "colab": {
          "base_uri": "https://localhost:8080/",
          "height": 235
        },
        "outputId": "25f808e5-6313-4e95-8c13-e5f0f806e6e4"
      },
      "source": [
        "df.Month = pd.to_datetime(df.Month)\n",
        "df = df.set_index(\"Month\")\n",
        "df.head()"
      ],
      "execution_count": 7,
      "outputs": [
        {
          "output_type": "execute_result",
          "data": {
            "text/html": [
              "<div>\n",
              "<style scoped>\n",
              "    .dataframe tbody tr th:only-of-type {\n",
              "        vertical-align: middle;\n",
              "    }\n",
              "\n",
              "    .dataframe tbody tr th {\n",
              "        vertical-align: top;\n",
              "    }\n",
              "\n",
              "    .dataframe thead th {\n",
              "        text-align: right;\n",
              "    }\n",
              "</style>\n",
              "<table border=\"1\" class=\"dataframe\">\n",
              "  <thead>\n",
              "    <tr style=\"text-align: right;\">\n",
              "      <th></th>\n",
              "      <th>#Passengers</th>\n",
              "    </tr>\n",
              "    <tr>\n",
              "      <th>Month</th>\n",
              "      <th></th>\n",
              "    </tr>\n",
              "  </thead>\n",
              "  <tbody>\n",
              "    <tr>\n",
              "      <th>1949-01-01</th>\n",
              "      <td>112</td>\n",
              "    </tr>\n",
              "    <tr>\n",
              "      <th>1949-02-01</th>\n",
              "      <td>118</td>\n",
              "    </tr>\n",
              "    <tr>\n",
              "      <th>1949-03-01</th>\n",
              "      <td>132</td>\n",
              "    </tr>\n",
              "    <tr>\n",
              "      <th>1949-04-01</th>\n",
              "      <td>129</td>\n",
              "    </tr>\n",
              "    <tr>\n",
              "      <th>1949-05-01</th>\n",
              "      <td>121</td>\n",
              "    </tr>\n",
              "  </tbody>\n",
              "</table>\n",
              "</div>"
            ],
            "text/plain": [
              "            #Passengers\n",
              "Month                  \n",
              "1949-01-01          112\n",
              "1949-02-01          118\n",
              "1949-03-01          132\n",
              "1949-04-01          129\n",
              "1949-05-01          121"
            ]
          },
          "metadata": {
            "tags": []
          },
          "execution_count": 7
        }
      ]
    },
    {
      "cell_type": "code",
      "metadata": {
        "id": "lY_I6r5Mkq3h",
        "colab_type": "code",
        "colab": {
          "base_uri": "https://localhost:8080/",
          "height": 350
        },
        "outputId": "5c665632-f6ea-47fd-aacc-e64362bcc0b6"
      },
      "source": [
        "df.index.freq = 'MS'\n",
        "ax = df['#Passengers'].plot(figsize = (16,5), title = \"Monthly Passengers\")\n",
        "ax.set(xlabel='Dates', ylabel='Total Passengers');"
      ],
      "execution_count": 8,
      "outputs": [
        {
          "output_type": "display_data",
          "data": {
            "image/png": "[encoded data removed]",
            "text/plain": [
              "<Figure size 1152x360 with 1 Axes>"
            ]
          },
          "metadata": {
            "tags": [],
            "needs_background": "light"
          }
        }
      ]
    },
    {
      "cell_type": "markdown",
      "metadata": {
        "id": "C7qT2XL00MZg",
        "colab_type": "text"
      },
      "source": [
        "When we look at plot we can sey there is a seasonality in data. That’s why we will use SARIMA (Seasonal ARIMA) instead of ARIMA.\n",
        "\n",
        "Seasonal ARIMA, is an extension of ARIMA that explicitly supports univariate time series data with a seasonal component. It adds three new hyperparameters to specify the autoregression (AR), differencing (I) and moving average (MA) for the seasonal component of the series, as well as an additional parameter for the period of the seasonality.\n",
        "\n",
        "There are four seasonal elements that are not part of ARIMA that must be configured; they are:\n",
        "- P: Seasonal autoregressive order.\n",
        "- D: Seasonal difference order.\n",
        "- Q: Seasonal moving average order.\n",
        "- m: The number of time steps for a single seasonal period."
      ]
    },
    {
      "cell_type": "code",
      "metadata": {
        "id": "Pr3TrrBNkrR2",
        "colab_type": "code",
        "colab": {
          "base_uri": "https://localhost:8080/",
          "height": 297
        },
        "outputId": "36b60ee1-ce40-4407-cf74-ee5dcdfd5b9b"
      },
      "source": [
        "a = seasonal_decompose(df[\"#Passengers\"], model = \"add\")\n",
        "a.plot();"
      ],
      "execution_count": 9,
      "outputs": [
        {
          "output_type": "display_data",
          "data": {
            "image/png": "[encoded data removed]",
            "text/plain": [
              "<Figure size 432x288 with 4 Axes>"
            ]
          },
          "metadata": {
            "tags": [],
            "needs_background": "light"
          }
        }
      ]
    },
    {
      "cell_type": "code",
      "metadata": {
        "id": "5Fy8Hu49kt-_",
        "colab_type": "code",
        "colab": {
          "base_uri": "https://localhost:8080/",
          "height": 442
        },
        "outputId": "1d596269-f0e8-4dac-af26-3c6204f232d4"
      },
      "source": [
        "import matplotlib.pyplot as plt\n",
        "plt.figure(figsize = (16,7))\n",
        "a.seasonal.plot();"
      ],
      "execution_count": 10,
      "outputs": [
        {
          "output_type": "display_data",
          "data": {
            "image/png": "[encoded data removed]",
            "text/plain": [
              "<Figure size 1152x504 with 1 Axes>"
            ]
          },
          "metadata": {
            "tags": [],
            "needs_background": "light"
          }
        }
      ]
    },
    {
      "cell_type": "code",
      "metadata": {
        "id": "zliw8_H5kwNA",
        "colab_type": "code",
        "colab": {
          "base_uri": "https://localhost:8080/",
          "height": 1000
        },
        "outputId": "e01f581d-cda2-4a1d-b1ef-37eca2948b75"
      },
      "source": [
        "auto_arima(df['#Passengers'], seasonal=True, m=12,\n",
        "           max_p=7, max_d=5, max_q=7,\n",
        "           max_P=4, max_D=4, max_Q=4).summary()"
      ],
      "execution_count": 11,
      "outputs": [
        {
          "output_type": "stream",
          "text": [
            "/usr/local/lib/python3.6/dist-packages/statsmodels/base/model.py:568: ConvergenceWarning: Maximum Likelihood optimization failed to converge. Check mle_retvals\n",
            "  \"Check mle_retvals\", ConvergenceWarning)\n",
            "/usr/local/lib/python3.6/dist-packages/statsmodels/base/model.py:568: ConvergenceWarning: Maximum Likelihood optimization failed to converge. Check mle_retvals\n",
            "  \"Check mle_retvals\", ConvergenceWarning)\n",
            "/usr/local/lib/python3.6/dist-packages/statsmodels/base/model.py:568: ConvergenceWarning: Maximum Likelihood optimization failed to converge. Check mle_retvals\n",
            "  \"Check mle_retvals\", ConvergenceWarning)\n",
            "/usr/local/lib/python3.6/dist-packages/statsmodels/base/model.py:568: ConvergenceWarning: Maximum Likelihood optimization failed to converge. Check mle_retvals\n",
            "  \"Check mle_retvals\", ConvergenceWarning)\n",
            "/usr/local/lib/python3.6/dist-packages/statsmodels/base/model.py:568: ConvergenceWarning: Maximum Likelihood optimization failed to converge. Check mle_retvals\n",
            "  \"Check mle_retvals\", ConvergenceWarning)\n",
            "/usr/local/lib/python3.6/dist-packages/statsmodels/base/model.py:568: ConvergenceWarning: Maximum Likelihood optimization failed to converge. Check mle_retvals\n",
            "  \"Check mle_retvals\", ConvergenceWarning)\n",
            "/usr/local/lib/python3.6/dist-packages/statsmodels/base/model.py:568: ConvergenceWarning: Maximum Likelihood optimization failed to converge. Check mle_retvals\n",
            "  \"Check mle_retvals\", ConvergenceWarning)\n",
            "/usr/local/lib/python3.6/dist-packages/statsmodels/tsa/statespace/sarimax.py:963: UserWarning: Non-stationary starting autoregressive parameters found. Using zeros as starting parameters.\n",
            "  warn('Non-stationary starting autoregressive parameters'\n",
            "/usr/local/lib/python3.6/dist-packages/statsmodels/tsa/statespace/sarimax.py:975: UserWarning: Non-invertible starting MA parameters found. Using zeros as starting parameters.\n",
            "  warn('Non-invertible starting MA parameters found.'\n",
            "/usr/local/lib/python3.6/dist-packages/statsmodels/base/model.py:568: ConvergenceWarning: Maximum Likelihood optimization failed to converge. Check mle_retvals\n",
            "  \"Check mle_retvals\", ConvergenceWarning)\n",
            "/usr/local/lib/python3.6/dist-packages/statsmodels/base/model.py:568: ConvergenceWarning: Maximum Likelihood optimization failed to converge. Check mle_retvals\n",
            "  \"Check mle_retvals\", ConvergenceWarning)\n",
            "/usr/local/lib/python3.6/dist-packages/statsmodels/base/model.py:568: ConvergenceWarning: Maximum Likelihood optimization failed to converge. Check mle_retvals\n",
            "  \"Check mle_retvals\", ConvergenceWarning)\n",
            "/usr/local/lib/python3.6/dist-packages/statsmodels/base/model.py:568: ConvergenceWarning: Maximum Likelihood optimization failed to converge. Check mle_retvals\n",
            "  \"Check mle_retvals\", ConvergenceWarning)\n"
          ],
          "name": "stderr"
        },
        {
          "output_type": "execute_result",
          "data": {
            "text/html": [
              "<table class=\"simpletable\">\n",
              "<caption>SARIMAX Results</caption>\n",
              "<tr>\n",
              "  <th>Dep. Variable:</th>                   <td>y</td>                <th>  No. Observations:  </th>    <td>144</td>  \n",
              "</tr>\n",
              "<tr>\n",
              "  <th>Model:</th>           <td>SARIMAX(3, 1, 3)x(1, 1, [1], 12)</td> <th>  Log Likelihood     </th> <td>-497.354</td>\n",
              "</tr>\n",
              "<tr>\n",
              "  <th>Date:</th>                    <td>Sat, 06 Jun 2020</td>         <th>  AIC                </th> <td>1014.707</td>\n",
              "</tr>\n",
              "<tr>\n",
              "  <th>Time:</th>                        <td>04:33:51</td>             <th>  BIC                </th> <td>1043.459</td>\n",
              "</tr>\n",
              "<tr>\n",
              "  <th>Sample:</th>                          <td>0</td>                <th>  HQIC               </th> <td>1026.390</td>\n",
              "</tr>\n",
              "<tr>\n",
              "  <th></th>                              <td> - 144</td>              <th>                     </th>     <td> </td>   \n",
              "</tr>\n",
              "<tr>\n",
              "  <th>Covariance Type:</th>                <td>opg</td>               <th>                     </th>     <td> </td>   \n",
              "</tr>\n",
              "</table>\n",
              "<table class=\"simpletable\">\n",
              "<tr>\n",
              "      <td></td>         <th>coef</th>     <th>std err</th>      <th>z</th>      <th>P>|z|</th>  <th>[0.025</th>    <th>0.975]</th>  \n",
              "</tr>\n",
              "<tr>\n",
              "  <th>intercept</th> <td>    0.2521</td> <td>    0.159</td> <td>    1.587</td> <td> 0.113</td> <td>   -0.059</td> <td>    0.563</td>\n",
              "</tr>\n",
              "<tr>\n",
              "  <th>ar.L1</th>     <td>   -0.2279</td> <td>    0.092</td> <td>   -2.472</td> <td> 0.013</td> <td>   -0.409</td> <td>   -0.047</td>\n",
              "</tr>\n",
              "<tr>\n",
              "  <th>ar.L2</th>     <td>   -0.1712</td> <td>    0.094</td> <td>   -1.819</td> <td> 0.069</td> <td>   -0.356</td> <td>    0.013</td>\n",
              "</tr>\n",
              "<tr>\n",
              "  <th>ar.L3</th>     <td>    0.7038</td> <td>    0.092</td> <td>    7.673</td> <td> 0.000</td> <td>    0.524</td> <td>    0.884</td>\n",
              "</tr>\n",
              "<tr>\n",
              "  <th>ma.L1</th>     <td>   -0.1101</td> <td>    1.361</td> <td>   -0.081</td> <td> 0.936</td> <td>   -2.777</td> <td>    2.557</td>\n",
              "</tr>\n",
              "<tr>\n",
              "  <th>ma.L2</th>     <td>    0.0900</td> <td>    1.212</td> <td>    0.074</td> <td> 0.941</td> <td>   -2.285</td> <td>    2.465</td>\n",
              "</tr>\n",
              "<tr>\n",
              "  <th>ma.L3</th>     <td>   -0.9784</td> <td>    1.345</td> <td>   -0.727</td> <td> 0.467</td> <td>   -3.615</td> <td>    1.658</td>\n",
              "</tr>\n",
              "<tr>\n",
              "  <th>ar.S.L12</th>  <td>   -0.9243</td> <td>    0.207</td> <td>   -4.472</td> <td> 0.000</td> <td>   -1.329</td> <td>   -0.519</td>\n",
              "</tr>\n",
              "<tr>\n",
              "  <th>ma.S.L12</th>  <td>    0.8335</td> <td>    0.302</td> <td>    2.759</td> <td> 0.006</td> <td>    0.241</td> <td>    1.426</td>\n",
              "</tr>\n",
              "<tr>\n",
              "  <th>sigma2</th>    <td>  110.8868</td> <td>  148.548</td> <td>    0.746</td> <td> 0.455</td> <td> -180.262</td> <td>  402.035</td>\n",
              "</tr>\n",
              "</table>\n",
              "<table class=\"simpletable\">\n",
              "<tr>\n",
              "  <th>Ljung-Box (Q):</th>          <td>39.09</td> <th>  Jarque-Bera (JB):  </th> <td>8.36</td>\n",
              "</tr>\n",
              "<tr>\n",
              "  <th>Prob(Q):</th>                <td>0.51</td>  <th>  Prob(JB):          </th> <td>0.02</td>\n",
              "</tr>\n",
              "<tr>\n",
              "  <th>Heteroskedasticity (H):</th> <td>2.25</td>  <th>  Skew:              </th> <td>0.09</td>\n",
              "</tr>\n",
              "<tr>\n",
              "  <th>Prob(H) (two-sided):</th>    <td>0.01</td>  <th>  Kurtosis:          </th> <td>4.22</td>\n",
              "</tr>\n",
              "</table><br/><br/>Warnings:<br/>[1] Covariance matrix calculated using the outer product of gradients (complex-step)."
            ],
            "text/plain": [
              "<class 'statsmodels.iolib.summary.Summary'>\n",
              "\"\"\"\n",
              "                                      SARIMAX Results                                       \n",
              "============================================================================================\n",
              "Dep. Variable:                                    y   No. Observations:                  144\n",
              "Model:             SARIMAX(3, 1, 3)x(1, 1, [1], 12)   Log Likelihood                -497.354\n",
              "Date:                              Sat, 06 Jun 2020   AIC                           1014.707\n",
              "Time:                                      04:33:51   BIC                           1043.459\n",
              "Sample:                                           0   HQIC                          1026.390\n",
              "                                              - 144                                         \n",
              "Covariance Type:                                opg                                         \n",
              "==============================================================================\n",
              "                 coef    std err          z      P>|z|      [0.025      0.975]\n",
              "------------------------------------------------------------------------------\n",
              "intercept      0.2521      0.159      1.587      0.113      -0.059       0.563\n",
              "ar.L1         -0.2279      0.092     -2.472      0.013      -0.409      -0.047\n",
              "ar.L2         -0.1712      0.094     -1.819      0.069      -0.356       0.013\n",
              "ar.L3          0.7038      0.092      7.673      0.000       0.524       0.884\n",
              "ma.L1         -0.1101      1.361     -0.081      0.936      -2.777       2.557\n",
              "ma.L2          0.0900      1.212      0.074      0.941      -2.285       2.465\n",
              "ma.L3         -0.9784      1.345     -0.727      0.467      -3.615       1.658\n",
              "ar.S.L12      -0.9243      0.207     -4.472      0.000      -1.329      -0.519\n",
              "ma.S.L12       0.8335      0.302      2.759      0.006       0.241       1.426\n",
              "sigma2       110.8868    148.548      0.746      0.455    -180.262     402.035\n",
              "===================================================================================\n",
              "Ljung-Box (Q):                       39.09   Jarque-Bera (JB):                 8.36\n",
              "Prob(Q):                              0.51   Prob(JB):                         0.02\n",
              "Heteroskedasticity (H):               2.25   Skew:                             0.09\n",
              "Prob(H) (two-sided):                  0.01   Kurtosis:                         4.22\n",
              "===================================================================================\n",
              "\n",
              "Warnings:\n",
              "[1] Covariance matrix calculated using the outer product of gradients (complex-step).\n",
              "\"\"\""
            ]
          },
          "metadata": {
            "tags": []
          },
          "execution_count": 11
        }
      ]
    },
    {
      "cell_type": "markdown",
      "metadata": {
        "id": "I1EehTk7lDLD",
        "colab_type": "text"
      },
      "source": [
        "Let’s split the data into train and test set"
      ]
    },
    {
      "cell_type": "code",
      "metadata": {
        "id": "4_I0_MKWk5hW",
        "colab_type": "code",
        "colab": {
          "base_uri": "https://localhost:8080/",
          "height": 603
        },
        "outputId": "14a40767-8f26-4869-f2f3-5c2254005f27"
      },
      "source": [
        "train_data = df[:len(df)-12]\n",
        "test_data = df[len(df)-12:]\n",
        "arima_model = SARIMAX(train_data['#Passengers'], order = (3,1,3), seasonal_order = (1,1,1,12))\n",
        "arima_result = arima_model.fit()\n",
        "arima_result.summary()"
      ],
      "execution_count": 12,
      "outputs": [
        {
          "output_type": "stream",
          "text": [
            "/usr/local/lib/python3.6/dist-packages/statsmodels/base/model.py:568: ConvergenceWarning: Maximum Likelihood optimization failed to converge. Check mle_retvals\n",
            "  \"Check mle_retvals\", ConvergenceWarning)\n"
          ],
          "name": "stderr"
        },
        {
          "output_type": "execute_result",
          "data": {
            "text/html": [
              "<table class=\"simpletable\">\n",
              "<caption>SARIMAX Results</caption>\n",
              "<tr>\n",
              "  <th>Dep. Variable:</th>              <td>#Passengers</td>           <th>  No. Observations:  </th>    <td>132</td>  \n",
              "</tr>\n",
              "<tr>\n",
              "  <th>Model:</th>           <td>SARIMAX(3, 1, 3)x(1, 1, [1], 12)</td> <th>  Log Likelihood     </th> <td>-442.058</td>\n",
              "</tr>\n",
              "<tr>\n",
              "  <th>Date:</th>                    <td>Sat, 06 Jun 2020</td>         <th>  AIC                </th>  <td>902.117</td>\n",
              "</tr>\n",
              "<tr>\n",
              "  <th>Time:</th>                        <td>04:33:55</td>             <th>  BIC                </th>  <td>927.129</td>\n",
              "</tr>\n",
              "<tr>\n",
              "  <th>Sample:</th>                     <td>01-01-1949</td>            <th>  HQIC               </th>  <td>912.274</td>\n",
              "</tr>\n",
              "<tr>\n",
              "  <th></th>                           <td>- 12-01-1959</td>           <th>                     </th>     <td> </td>   \n",
              "</tr>\n",
              "<tr>\n",
              "  <th>Covariance Type:</th>                <td>opg</td>               <th>                     </th>     <td> </td>   \n",
              "</tr>\n",
              "</table>\n",
              "<table class=\"simpletable\">\n",
              "<tr>\n",
              "      <td></td>        <th>coef</th>     <th>std err</th>      <th>z</th>      <th>P>|z|</th>  <th>[0.025</th>    <th>0.975]</th>  \n",
              "</tr>\n",
              "<tr>\n",
              "  <th>ar.L1</th>    <td>    0.2785</td> <td>    0.344</td> <td>    0.809</td> <td> 0.419</td> <td>   -0.396</td> <td>    0.953</td>\n",
              "</tr>\n",
              "<tr>\n",
              "  <th>ar.L2</th>    <td>   -0.1156</td> <td>    0.297</td> <td>   -0.389</td> <td> 0.697</td> <td>   -0.698</td> <td>    0.467</td>\n",
              "</tr>\n",
              "<tr>\n",
              "  <th>ar.L3</th>    <td>    0.4212</td> <td>    0.264</td> <td>    1.593</td> <td> 0.111</td> <td>   -0.097</td> <td>    0.939</td>\n",
              "</tr>\n",
              "<tr>\n",
              "  <th>ma.L1</th>    <td>   -0.5329</td> <td>    0.323</td> <td>   -1.649</td> <td> 0.099</td> <td>   -1.166</td> <td>    0.100</td>\n",
              "</tr>\n",
              "<tr>\n",
              "  <th>ma.L2</th>    <td>    0.2777</td> <td>    0.285</td> <td>    0.974</td> <td> 0.330</td> <td>   -0.281</td> <td>    0.837</td>\n",
              "</tr>\n",
              "<tr>\n",
              "  <th>ma.L3</th>    <td>   -0.6808</td> <td>    0.230</td> <td>   -2.965</td> <td> 0.003</td> <td>   -1.131</td> <td>   -0.231</td>\n",
              "</tr>\n",
              "<tr>\n",
              "  <th>ar.S.L12</th> <td>   -0.9516</td> <td>    0.204</td> <td>   -4.675</td> <td> 0.000</td> <td>   -1.351</td> <td>   -0.553</td>\n",
              "</tr>\n",
              "<tr>\n",
              "  <th>ma.S.L12</th> <td>    0.8811</td> <td>    0.314</td> <td>    2.804</td> <td> 0.005</td> <td>    0.265</td> <td>    1.497</td>\n",
              "</tr>\n",
              "<tr>\n",
              "  <th>sigma2</th>   <td>   95.8332</td> <td>   11.592</td> <td>    8.267</td> <td> 0.000</td> <td>   73.113</td> <td>  118.553</td>\n",
              "</tr>\n",
              "</table>\n",
              "<table class=\"simpletable\">\n",
              "<tr>\n",
              "  <th>Ljung-Box (Q):</th>          <td>35.50</td> <th>  Jarque-Bera (JB):  </th> <td>5.35</td> \n",
              "</tr>\n",
              "<tr>\n",
              "  <th>Prob(Q):</th>                <td>0.67</td>  <th>  Prob(JB):          </th> <td>0.07</td> \n",
              "</tr>\n",
              "<tr>\n",
              "  <th>Heteroskedasticity (H):</th> <td>1.44</td>  <th>  Skew:              </th> <td>-0.19</td>\n",
              "</tr>\n",
              "<tr>\n",
              "  <th>Prob(H) (two-sided):</th>    <td>0.25</td>  <th>  Kurtosis:          </th> <td>3.97</td> \n",
              "</tr>\n",
              "</table><br/><br/>Warnings:<br/>[1] Covariance matrix calculated using the outer product of gradients (complex-step)."
            ],
            "text/plain": [
              "<class 'statsmodels.iolib.summary.Summary'>\n",
              "\"\"\"\n",
              "                                      SARIMAX Results                                       \n",
              "============================================================================================\n",
              "Dep. Variable:                          #Passengers   No. Observations:                  132\n",
              "Model:             SARIMAX(3, 1, 3)x(1, 1, [1], 12)   Log Likelihood                -442.058\n",
              "Date:                              Sat, 06 Jun 2020   AIC                            902.117\n",
              "Time:                                      04:33:55   BIC                            927.129\n",
              "Sample:                                  01-01-1949   HQIC                           912.274\n",
              "                                       - 12-01-1959                                         \n",
              "Covariance Type:                                opg                                         \n",
              "==============================================================================\n",
              "                 coef    std err          z      P>|z|      [0.025      0.975]\n",
              "------------------------------------------------------------------------------\n",
              "ar.L1          0.2785      0.344      0.809      0.419      -0.396       0.953\n",
              "ar.L2         -0.1156      0.297     -0.389      0.697      -0.698       0.467\n",
              "ar.L3          0.4212      0.264      1.593      0.111      -0.097       0.939\n",
              "ma.L1         -0.5329      0.323     -1.649      0.099      -1.166       0.100\n",
              "ma.L2          0.2777      0.285      0.974      0.330      -0.281       0.837\n",
              "ma.L3         -0.6808      0.230     -2.965      0.003      -1.131      -0.231\n",
              "ar.S.L12      -0.9516      0.204     -4.675      0.000      -1.351      -0.553\n",
              "ma.S.L12       0.8811      0.314      2.804      0.005       0.265       1.497\n",
              "sigma2        95.8332     11.592      8.267      0.000      73.113     118.553\n",
              "===================================================================================\n",
              "Ljung-Box (Q):                       35.50   Jarque-Bera (JB):                 5.35\n",
              "Prob(Q):                              0.67   Prob(JB):                         0.07\n",
              "Heteroskedasticity (H):               1.44   Skew:                            -0.19\n",
              "Prob(H) (two-sided):                  0.25   Kurtosis:                         3.97\n",
              "===================================================================================\n",
              "\n",
              "Warnings:\n",
              "[1] Covariance matrix calculated using the outer product of gradients (complex-step).\n",
              "\"\"\""
            ]
          },
          "metadata": {
            "tags": []
          },
          "execution_count": 12
        }
      ]
    },
    {
      "cell_type": "code",
      "metadata": {
        "id": "gkpLyq-olBGf",
        "colab_type": "code",
        "colab": {
          "base_uri": "https://localhost:8080/",
          "height": 238
        },
        "outputId": "031ad97f-b816-4c7e-adb7-87e62dd799f5"
      },
      "source": [
        "arima_pred = arima_result.predict(start = len(train_data), end = len(df)-1, typ=\"levels\").rename(\"ARIMA Predictions\")\n",
        "arima_pred"
      ],
      "execution_count": 13,
      "outputs": [
        {
          "output_type": "execute_result",
          "data": {
            "text/plain": [
              "1960-01-01    420.798199\n",
              "1960-02-01    401.655389\n",
              "1960-03-01    454.274940\n",
              "1960-04-01    438.848317\n",
              "1960-05-01    462.561876\n",
              "1960-06-01    516.249154\n",
              "1960-07-01    588.343206\n",
              "1960-08-01    600.021293\n",
              "1960-09-01    499.664879\n",
              "1960-10-01    444.317476\n",
              "1960-11-01    399.645898\n",
              "1960-12-01    440.910631\n",
              "Freq: MS, Name: ARIMA Predictions, dtype: float64"
            ]
          },
          "metadata": {
            "tags": []
          },
          "execution_count": 13
        }
      ]
    },
    {
      "cell_type": "code",
      "metadata": {
        "id": "VS6_bKSglFf_",
        "colab_type": "code",
        "colab": {
          "base_uri": "https://localhost:8080/",
          "height": 345
        },
        "outputId": "0130e227-24a4-4a3c-a703-044d8534e436"
      },
      "source": [
        "test_data['#Passengers'].plot(figsize = (16,5), legend=True)\n",
        "arima_pred.plot(legend = True);"
      ],
      "execution_count": 14,
      "outputs": [
        {
          "output_type": "display_data",
          "data": {
            "image/png": "[encoded data removed]",
            "text/plain": [
              "<Figure size 1152x360 with 1 Axes>"
            ]
          },
          "metadata": {
            "tags": [],
            "needs_background": "light"
          }
        }
      ]
    },
    {
      "cell_type": "code",
      "metadata": {
        "id": "PtmOu5FqlL2w",
        "colab_type": "code",
        "colab": {
          "base_uri": "https://localhost:8080/",
          "height": 68
        },
        "outputId": "9901c1d1-eb1b-4bae-e055-58836d92ab76"
      },
      "source": [
        "arima_rmse_error = rmse(test_data['#Passengers'], arima_pred)\n",
        "arima_mse_error = arima_rmse_error**2\n",
        "mean_value = df['#Passengers'].mean()\n",
        "\n",
        "print(f'MSE Error: {arima_mse_error}\\nRMSE Error: {arima_rmse_error}\\nMean: {mean_value}')"
      ],
      "execution_count": 15,
      "outputs": [
        {
          "output_type": "stream",
          "text": [
            "MSE Error: 332.70022659614386\n",
            "RMSE Error: 18.240072000848677\n",
            "Mean: 280.2986111111111\n"
          ],
          "name": "stdout"
        }
      ]
    },
    {
      "cell_type": "code",
      "metadata": {
        "id": "BLDZl3kSlQJl",
        "colab_type": "code",
        "colab": {
          "base_uri": "https://localhost:8080/",
          "height": 119
        },
        "outputId": "23215e17-a78a-4157-e70d-844c9dd0e46a"
      },
      "source": [
        "test_data['ARIMA_Predictions'] = arima_pred"
      ],
      "execution_count": 16,
      "outputs": [
        {
          "output_type": "stream",
          "text": [
            "/usr/local/lib/python3.6/dist-packages/ipykernel_launcher.py:1: SettingWithCopyWarning: \n",
            "A value is trying to be set on a copy of a slice from a DataFrame.\n",
            "Try using .loc[row_indexer,col_indexer] = value instead\n",
            "\n",
            "See the caveats in the documentation: https://pandas.pydata.org/pandas-docs/stable/user_guide/indexing.html#returning-a-view-versus-a-copy\n",
            "  \"\"\"Entry point for launching an IPython kernel.\n"
          ],
          "name": "stderr"
        }
      ]
    },
    {
      "cell_type": "markdown",
      "metadata": {
        "id": "tijVcz4omd1p",
        "colab_type": "text"
      },
      "source": [
        "## LSTM Forecast\n",
        "First, we’ll scale our train and test data with MinMaxScaler\n"
      ]
    },
    {
      "cell_type": "code",
      "metadata": {
        "id": "NdQOXbCplRrb",
        "colab_type": "code",
        "colab": {}
      },
      "source": [
        "from sklearn.preprocessing import MinMaxScaler\n",
        "scaler = MinMaxScaler()\n",
        "scaler.fit(train_data)\n",
        "scaled_train_data = scaler.transform(train_data)\n",
        "scaled_test_data = scaler.transform(test_data)"
      ],
      "execution_count": 0,
      "outputs": []
    },
    {
      "cell_type": "markdown",
      "metadata": {
        "id": "vgSyINY13aQ3",
        "colab_type": "text"
      },
      "source": [
        "Before creating LSTM model we should create a Time Series Generator object."
      ]
    },
    {
      "cell_type": "code",
      "metadata": {
        "id": "ZCwVqbELmj-A",
        "colab_type": "code",
        "colab": {
          "base_uri": "https://localhost:8080/",
          "height": 238
        },
        "outputId": "9e08c6d7-0905-488e-a032-db837cd3e8e4"
      },
      "source": [
        "from keras.preprocessing.sequence import TimeseriesGenerator\n",
        "\n",
        "n_input = 12\n",
        "n_features= 1\n",
        "generator = TimeseriesGenerator(scaled_train_data, scaled_train_data, length=n_input, batch_size=1)\n",
        "from keras.models import Sequential\n",
        "from keras.layers import Dense\n",
        "from keras.layers import LSTM\n",
        "\n",
        "lstm_model = Sequential()\n",
        "lstm_model.add(LSTM(200, activation='relu', input_shape=(n_input, n_features)))\n",
        "lstm_model.add(Dense(1))\n",
        "lstm_model.compile(optimizer='adam', loss='mse')\n",
        "\n",
        "lstm_model.summary()"
      ],
      "execution_count": 18,
      "outputs": [
        {
          "output_type": "stream",
          "text": [
            "Using TensorFlow backend.\n"
          ],
          "name": "stderr"
        },
        {
          "output_type": "stream",
          "text": [
            "Model: \"sequential_1\"\n",
            "_________________________________________________________________\n",
            "Layer (type)                 Output Shape              Param #   \n",
            "=================================================================\n",
            "lstm_1 (LSTM)                (None, 200)               161600    \n",
            "_________________________________________________________________\n",
            "dense_1 (Dense)              (None, 1)                 201       \n",
            "=================================================================\n",
            "Total params: 161,801\n",
            "Trainable params: 161,801\n",
            "Non-trainable params: 0\n",
            "_________________________________________________________________\n"
          ],
          "name": "stdout"
        }
      ]
    },
    {
      "cell_type": "code",
      "metadata": {
        "id": "ZWe3jMazmmVs",
        "colab_type": "code",
        "colab": {
          "base_uri": "https://localhost:8080/",
          "height": 714
        },
        "outputId": "bb02a6c8-89ac-4fd0-fd52-66d4d40642b9"
      },
      "source": [
        "lstm_model.fit_generator(generator,epochs=20)"
      ],
      "execution_count": 19,
      "outputs": [
        {
          "output_type": "stream",
          "text": [
            "Epoch 1/20\n",
            "120/120 [==============================] - 2s 15ms/step - loss: 0.0264\n",
            "Epoch 2/20\n",
            "120/120 [==============================] - 1s 12ms/step - loss: 0.0142\n",
            "Epoch 3/20\n",
            "120/120 [==============================] - 1s 11ms/step - loss: 0.0122\n",
            "Epoch 4/20\n",
            "120/120 [==============================] - 1s 11ms/step - loss: 0.0113\n",
            "Epoch 5/20\n",
            "120/120 [==============================] - 1s 11ms/step - loss: 0.0102\n",
            "Epoch 6/20\n",
            "120/120 [==============================] - 1s 11ms/step - loss: 0.0090\n",
            "Epoch 7/20\n",
            "120/120 [==============================] - 1s 12ms/step - loss: 0.0077\n",
            "Epoch 8/20\n",
            "120/120 [==============================] - 1s 11ms/step - loss: 0.0049\n",
            "Epoch 9/20\n",
            "120/120 [==============================] - 1s 11ms/step - loss: 0.0062\n",
            "Epoch 10/20\n",
            "120/120 [==============================] - 1s 12ms/step - loss: 0.0058\n",
            "Epoch 11/20\n",
            "120/120 [==============================] - 2s 13ms/step - loss: 0.0032\n",
            "Epoch 12/20\n",
            "120/120 [==============================] - 1s 12ms/step - loss: 0.0030\n",
            "Epoch 13/20\n",
            "120/120 [==============================] - 1s 12ms/step - loss: 0.0030\n",
            "Epoch 14/20\n",
            "120/120 [==============================] - 1s 11ms/step - loss: 0.0027\n",
            "Epoch 15/20\n",
            "120/120 [==============================] - 1s 11ms/step - loss: 0.0024\n",
            "Epoch 16/20\n",
            "120/120 [==============================] - 1s 12ms/step - loss: 0.0020\n",
            "Epoch 17/20\n",
            "120/120 [==============================] - 1s 12ms/step - loss: 0.0024\n",
            "Epoch 18/20\n",
            "120/120 [==============================] - 1s 11ms/step - loss: 0.0017\n",
            "Epoch 19/20\n",
            "120/120 [==============================] - 1s 11ms/step - loss: 0.0023\n",
            "Epoch 20/20\n",
            "120/120 [==============================] - 1s 11ms/step - loss: 0.0033\n"
          ],
          "name": "stdout"
        },
        {
          "output_type": "execute_result",
          "data": {
            "text/plain": [
              "<keras.callbacks.callbacks.History at 0x7f2c9fe8d940>"
            ]
          },
          "metadata": {
            "tags": []
          },
          "execution_count": 19
        }
      ]
    },
    {
      "cell_type": "code",
      "metadata": {
        "id": "WorL9mrGmoTB",
        "colab_type": "code",
        "colab": {
          "base_uri": "https://localhost:8080/",
          "height": 279
        },
        "outputId": "8763a118-e094-451e-d83b-b07f9f5c35ff"
      },
      "source": [
        "losses_lstm = lstm_model.history.history['loss']\n",
        "plt.figure(figsize=(12,4))\n",
        "plt.xlabel(\"Epochs\")\n",
        "plt.ylabel(\"Loss\")\n",
        "plt.xticks(np.arange(0,21,1))\n",
        "plt.plot(range(len(losses_lstm)),losses_lstm);"
      ],
      "execution_count": 20,
      "outputs": [
        {
          "output_type": "display_data",
          "data": {
            "image/png": "[encoded data removed]",
            "text/plain": [
              "<Figure size 864x288 with 1 Axes>"
            ]
          },
          "metadata": {
            "tags": [],
            "needs_background": "light"
          }
        }
      ]
    },
    {
      "cell_type": "code",
      "metadata": {
        "id": "1DpiX_Lomqm3",
        "colab_type": "code",
        "colab": {}
      },
      "source": [
        "lstm_predictions_scaled = list()\n",
        "\n",
        "batch = scaled_train_data[-n_input:]\n",
        "current_batch = batch.reshape((1, n_input, n_features))\n",
        "\n",
        "for i in range(len(test_data)):   \n",
        "    lstm_pred = lstm_model.predict(current_batch)[0]\n",
        "    lstm_predictions_scaled.append(lstm_pred) \n",
        "    current_batch = np.append(current_batch[:,1:,:],[[lstm_pred]],axis=1)"
      ],
      "execution_count": 0,
      "outputs": []
    },
    {
      "cell_type": "code",
      "metadata": {
        "id": "zesxdXkRmsi2",
        "colab_type": "code",
        "colab": {
          "base_uri": "https://localhost:8080/",
          "height": 221
        },
        "outputId": "df9a67ab-4ced-4fca-c497-f1c6af0968cf"
      },
      "source": [
        "lstm_predictions_scaled"
      ],
      "execution_count": 22,
      "outputs": [
        {
          "output_type": "execute_result",
          "data": {
            "text/plain": [
              "[array([0.57851446], dtype=float32),\n",
              " array([0.57377595], dtype=float32),\n",
              " array([0.62551117], dtype=float32),\n",
              " array([0.65480185], dtype=float32),\n",
              " array([0.72674537], dtype=float32),\n",
              " array([0.8238914], dtype=float32),\n",
              " array([0.9015736], dtype=float32),\n",
              " array([0.93272793], dtype=float32),\n",
              " array([0.8443284], dtype=float32),\n",
              " array([0.7225582], dtype=float32),\n",
              " array([0.6494849], dtype=float32),\n",
              " array([0.6440703], dtype=float32)]"
            ]
          },
          "metadata": {
            "tags": []
          },
          "execution_count": 22
        }
      ]
    },
    {
      "cell_type": "code",
      "metadata": {
        "id": "wBItAc55muOy",
        "colab_type": "code",
        "colab": {
          "base_uri": "https://localhost:8080/",
          "height": 221
        },
        "outputId": "5cec97af-95ed-4964-eb44-7b6c745a4689"
      },
      "source": [
        "lstm_predictions = scaler.inverse_transform(lstm_predictions_scaled)\n",
        "lstm_predictions"
      ],
      "execution_count": 23,
      "outputs": [
        {
          "output_type": "execute_result",
          "data": {
            "text/plain": [
              "array([[367.22407782],\n",
              "       [365.06805593],\n",
              "       [388.60758209],\n",
              "       [401.93483973],\n",
              "       [434.66914201],\n",
              "       [478.87058759],\n",
              "       [514.21598727],\n",
              "       [528.39120948],\n",
              "       [488.16942358],\n",
              "       [432.76398116],\n",
              "       [399.51561713],\n",
              "       [397.05199891]])"
            ]
          },
          "metadata": {
            "tags": []
          },
          "execution_count": 23
        }
      ]
    },
    {
      "cell_type": "code",
      "metadata": {
        "id": "1hkK-UrMmvgj",
        "colab_type": "code",
        "colab": {
          "base_uri": "https://localhost:8080/",
          "height": 554
        },
        "outputId": "5f2ccbb9-751f-42fd-c6ba-d466d91ba5f4"
      },
      "source": [
        "test_data['LSTM_Predictions'] = lstm_predictions\n",
        "test_data"
      ],
      "execution_count": 24,
      "outputs": [
        {
          "output_type": "stream",
          "text": [
            "/usr/local/lib/python3.6/dist-packages/ipykernel_launcher.py:1: SettingWithCopyWarning: \n",
            "A value is trying to be set on a copy of a slice from a DataFrame.\n",
            "Try using .loc[row_indexer,col_indexer] = value instead\n",
            "\n",
            "See the caveats in the documentation: https://pandas.pydata.org/pandas-docs/stable/user_guide/indexing.html#returning-a-view-versus-a-copy\n",
            "  \"\"\"Entry point for launching an IPython kernel.\n"
          ],
          "name": "stderr"
        },
        {
          "output_type": "execute_result",
          "data": {
            "text/html": [
              "<div>\n",
              "<style scoped>\n",
              "    .dataframe tbody tr th:only-of-type {\n",
              "        vertical-align: middle;\n",
              "    }\n",
              "\n",
              "    .dataframe tbody tr th {\n",
              "        vertical-align: top;\n",
              "    }\n",
              "\n",
              "    .dataframe thead th {\n",
              "        text-align: right;\n",
              "    }\n",
              "</style>\n",
              "<table border=\"1\" class=\"dataframe\">\n",
              "  <thead>\n",
              "    <tr style=\"text-align: right;\">\n",
              "      <th></th>\n",
              "      <th>#Passengers</th>\n",
              "      <th>ARIMA_Predictions</th>\n",
              "      <th>LSTM_Predictions</th>\n",
              "    </tr>\n",
              "    <tr>\n",
              "      <th>Month</th>\n",
              "      <th></th>\n",
              "      <th></th>\n",
              "      <th></th>\n",
              "    </tr>\n",
              "  </thead>\n",
              "  <tbody>\n",
              "    <tr>\n",
              "      <th>1960-01-01</th>\n",
              "      <td>417</td>\n",
              "      <td>420.798199</td>\n",
              "      <td>367.224078</td>\n",
              "    </tr>\n",
              "    <tr>\n",
              "      <th>1960-02-01</th>\n",
              "      <td>391</td>\n",
              "      <td>401.655389</td>\n",
              "      <td>365.068056</td>\n",
              "    </tr>\n",
              "    <tr>\n",
              "      <th>1960-03-01</th>\n",
              "      <td>419</td>\n",
              "      <td>454.274940</td>\n",
              "      <td>388.607582</td>\n",
              "    </tr>\n",
              "    <tr>\n",
              "      <th>1960-04-01</th>\n",
              "      <td>461</td>\n",
              "      <td>438.848317</td>\n",
              "      <td>401.934840</td>\n",
              "    </tr>\n",
              "    <tr>\n",
              "      <th>1960-05-01</th>\n",
              "      <td>472</td>\n",
              "      <td>462.561876</td>\n",
              "      <td>434.669142</td>\n",
              "    </tr>\n",
              "    <tr>\n",
              "      <th>1960-06-01</th>\n",
              "      <td>535</td>\n",
              "      <td>516.249154</td>\n",
              "      <td>478.870588</td>\n",
              "    </tr>\n",
              "    <tr>\n",
              "      <th>1960-07-01</th>\n",
              "      <td>622</td>\n",
              "      <td>588.343206</td>\n",
              "      <td>514.215987</td>\n",
              "    </tr>\n",
              "    <tr>\n",
              "      <th>1960-08-01</th>\n",
              "      <td>606</td>\n",
              "      <td>600.021293</td>\n",
              "      <td>528.391209</td>\n",
              "    </tr>\n",
              "    <tr>\n",
              "      <th>1960-09-01</th>\n",
              "      <td>508</td>\n",
              "      <td>499.664879</td>\n",
              "      <td>488.169424</td>\n",
              "    </tr>\n",
              "    <tr>\n",
              "      <th>1960-10-01</th>\n",
              "      <td>461</td>\n",
              "      <td>444.317476</td>\n",
              "      <td>432.763981</td>\n",
              "    </tr>\n",
              "    <tr>\n",
              "      <th>1960-11-01</th>\n",
              "      <td>390</td>\n",
              "      <td>399.645898</td>\n",
              "      <td>399.515617</td>\n",
              "    </tr>\n",
              "    <tr>\n",
              "      <th>1960-12-01</th>\n",
              "      <td>432</td>\n",
              "      <td>440.910631</td>\n",
              "      <td>397.051999</td>\n",
              "    </tr>\n",
              "  </tbody>\n",
              "</table>\n",
              "</div>"
            ],
            "text/plain": [
              "            #Passengers  ARIMA_Predictions  LSTM_Predictions\n",
              "Month                                                       \n",
              "1960-01-01          417         420.798199        367.224078\n",
              "1960-02-01          391         401.655389        365.068056\n",
              "1960-03-01          419         454.274940        388.607582\n",
              "1960-04-01          461         438.848317        401.934840\n",
              "1960-05-01          472         462.561876        434.669142\n",
              "1960-06-01          535         516.249154        478.870588\n",
              "1960-07-01          622         588.343206        514.215987\n",
              "1960-08-01          606         600.021293        528.391209\n",
              "1960-09-01          508         499.664879        488.169424\n",
              "1960-10-01          461         444.317476        432.763981\n",
              "1960-11-01          390         399.645898        399.515617\n",
              "1960-12-01          432         440.910631        397.051999"
            ]
          },
          "metadata": {
            "tags": []
          },
          "execution_count": 24
        }
      ]
    },
    {
      "cell_type": "code",
      "metadata": {
        "id": "E0pGxTrfmxK1",
        "colab_type": "code",
        "colab": {
          "base_uri": "https://localhost:8080/",
          "height": 345
        },
        "outputId": "4b967922-2977-4f6f-bcca-ed4811e56fc8"
      },
      "source": [
        "test_data['#Passengers'].plot(figsize = (16,5), legend=True)\n",
        "test_data['LSTM_Predictions'].plot(legend = True);"
      ],
      "execution_count": 25,
      "outputs": [
        {
          "output_type": "display_data",
          "data": {
            "image/png": "[encoded data removed]",
            "text/plain": [
              "<Figure size 1152x360 with 1 Axes>"
            ]
          },
          "metadata": {
            "tags": [],
            "needs_background": "light"
          }
        }
      ]
    },
    {
      "cell_type": "code",
      "metadata": {
        "id": "yzIJiKvMmzEM",
        "colab_type": "code",
        "colab": {
          "base_uri": "https://localhost:8080/",
          "height": 68
        },
        "outputId": "2c64eba7-ea79-43f6-814d-ae18d9ccdf96"
      },
      "source": [
        "lstm_rmse_error = rmse(test_data['#Passengers'], test_data[\"LSTM_Predictions\"])\n",
        "lstm_mse_error = lstm_rmse_error**2\n",
        "mean_value = df['#Passengers'].mean()\n",
        "\n",
        "print(f'MSE Error: {lstm_mse_error}\\nRMSE Error: {lstm_rmse_error}\\nMean: {mean_value}')"
      ],
      "execution_count": 26,
      "outputs": [
        {
          "output_type": "stream",
          "text": [
            "MSE Error: 2687.463025822784\n",
            "RMSE Error: 51.84074677146138\n",
            "Mean: 280.2986111111111\n"
          ],
          "name": "stdout"
        }
      ]
    },
    {
      "cell_type": "markdown",
      "metadata": {
        "id": "jVAiPfLT5vdV",
        "colab_type": "text"
      },
      "source": [
        "## Prophet Forecast"
      ]
    },
    {
      "cell_type": "code",
      "metadata": {
        "id": "P2lTG3WF5u06",
        "colab_type": "code",
        "colab": {
          "base_uri": "https://localhost:8080/",
          "height": 170
        },
        "outputId": "43e55a0b-b9e9-49bd-a927-5f7f2793694a"
      },
      "source": [
        "df.info()"
      ],
      "execution_count": 27,
      "outputs": [
        {
          "output_type": "stream",
          "text": [
            "<class 'pandas.core.frame.DataFrame'>\n",
            "DatetimeIndex: 144 entries, 1949-01-01 to 1960-12-01\n",
            "Freq: MS\n",
            "Data columns (total 1 columns):\n",
            " #   Column       Non-Null Count  Dtype\n",
            "---  ------       --------------  -----\n",
            " 0   #Passengers  144 non-null    int64\n",
            "dtypes: int64(1)\n",
            "memory usage: 2.2 KB\n"
          ],
          "name": "stdout"
        }
      ]
    },
    {
      "cell_type": "code",
      "metadata": {
        "id": "VnQDcix05ypw",
        "colab_type": "code",
        "colab": {
          "base_uri": "https://localhost:8080/",
          "height": 360
        },
        "outputId": "cdb15445-b0d9-49ba-cd5f-603700b63388"
      },
      "source": [
        "df_pr = df.copy()\n",
        "df_pr = df.reset_index()\n",
        "df_pr.columns = ['ds','y'] # To use prophet column names should be like that\n",
        "train_data_pr = df_pr.iloc[:len(df)-12]\n",
        "test_data_pr = df_pr.iloc[len(df)-12:]\n",
        "from fbprophet import Prophet\n",
        "m = Prophet()\n",
        "m.fit(train_data_pr)\n",
        "future = m.make_future_dataframe(periods=12,freq='MS')\n",
        "prophet_pred = m.predict(future)\n",
        "prophet_pred.tail()"
      ],
      "execution_count": 28,
      "outputs": [
        {
          "output_type": "stream",
          "text": [
            "INFO:numexpr.utils:NumExpr defaulting to 2 threads.\n",
            "INFO:fbprophet:Disabling weekly seasonality. Run prophet with weekly_seasonality=True to override this.\n",
            "INFO:fbprophet:Disabling daily seasonality. Run prophet with daily_seasonality=True to override this.\n"
          ],
          "name": "stderr"
        },
        {
          "output_type": "execute_result",
          "data": {
            "text/html": [
              "<div>\n",
              "<style scoped>\n",
              "    .dataframe tbody tr th:only-of-type {\n",
              "        vertical-align: middle;\n",
              "    }\n",
              "\n",
              "    .dataframe tbody tr th {\n",
              "        vertical-align: top;\n",
              "    }\n",
              "\n",
              "    .dataframe thead th {\n",
              "        text-align: right;\n",
              "    }\n",
              "</style>\n",
              "<table border=\"1\" class=\"dataframe\">\n",
              "  <thead>\n",
              "    <tr style=\"text-align: right;\">\n",
              "      <th></th>\n",
              "      <th>ds</th>\n",
              "      <th>trend</th>\n",
              "      <th>yhat_lower</th>\n",
              "      <th>yhat_upper</th>\n",
              "      <th>trend_lower</th>\n",
              "      <th>trend_upper</th>\n",
              "      <th>additive_terms</th>\n",
              "      <th>additive_terms_lower</th>\n",
              "      <th>additive_terms_upper</th>\n",
              "      <th>yearly</th>\n",
              "      <th>yearly_lower</th>\n",
              "      <th>yearly_upper</th>\n",
              "      <th>multiplicative_terms</th>\n",
              "      <th>multiplicative_terms_lower</th>\n",
              "      <th>multiplicative_terms_upper</th>\n",
              "      <th>yhat</th>\n",
              "    </tr>\n",
              "  </thead>\n",
              "  <tbody>\n",
              "    <tr>\n",
              "      <th>139</th>\n",
              "      <td>1960-08-01</td>\n",
              "      <td>467.898670</td>\n",
              "      <td>501.422964</td>\n",
              "      <td>551.953784</td>\n",
              "      <td>467.630152</td>\n",
              "      <td>468.168429</td>\n",
              "      <td>59.311557</td>\n",
              "      <td>59.311557</td>\n",
              "      <td>59.311557</td>\n",
              "      <td>59.311557</td>\n",
              "      <td>59.311557</td>\n",
              "      <td>59.311557</td>\n",
              "      <td>0.0</td>\n",
              "      <td>0.0</td>\n",
              "      <td>0.0</td>\n",
              "      <td>527.210227</td>\n",
              "    </tr>\n",
              "    <tr>\n",
              "      <th>140</th>\n",
              "      <td>1960-09-01</td>\n",
              "      <td>470.917288</td>\n",
              "      <td>460.552940</td>\n",
              "      <td>512.566938</td>\n",
              "      <td>470.577176</td>\n",
              "      <td>471.248594</td>\n",
              "      <td>15.113870</td>\n",
              "      <td>15.113870</td>\n",
              "      <td>15.113870</td>\n",
              "      <td>15.113870</td>\n",
              "      <td>15.113870</td>\n",
              "      <td>15.113870</td>\n",
              "      <td>0.0</td>\n",
              "      <td>0.0</td>\n",
              "      <td>0.0</td>\n",
              "      <td>486.031158</td>\n",
              "    </tr>\n",
              "    <tr>\n",
              "      <th>141</th>\n",
              "      <td>1960-10-01</td>\n",
              "      <td>473.838531</td>\n",
              "      <td>427.725494</td>\n",
              "      <td>478.654959</td>\n",
              "      <td>473.428603</td>\n",
              "      <td>474.229886</td>\n",
              "      <td>-21.492966</td>\n",
              "      <td>-21.492966</td>\n",
              "      <td>-21.492966</td>\n",
              "      <td>-21.492966</td>\n",
              "      <td>-21.492966</td>\n",
              "      <td>-21.492966</td>\n",
              "      <td>0.0</td>\n",
              "      <td>0.0</td>\n",
              "      <td>0.0</td>\n",
              "      <td>452.345565</td>\n",
              "    </tr>\n",
              "    <tr>\n",
              "      <th>142</th>\n",
              "      <td>1960-11-01</td>\n",
              "      <td>476.857149</td>\n",
              "      <td>395.777668</td>\n",
              "      <td>447.325968</td>\n",
              "      <td>476.399610</td>\n",
              "      <td>477.324160</td>\n",
              "      <td>-54.321689</td>\n",
              "      <td>-54.321689</td>\n",
              "      <td>-54.321689</td>\n",
              "      <td>-54.321689</td>\n",
              "      <td>-54.321689</td>\n",
              "      <td>-54.321689</td>\n",
              "      <td>0.0</td>\n",
              "      <td>0.0</td>\n",
              "      <td>0.0</td>\n",
              "      <td>422.535460</td>\n",
              "    </tr>\n",
              "    <tr>\n",
              "      <th>143</th>\n",
              "      <td>1960-12-01</td>\n",
              "      <td>479.778392</td>\n",
              "      <td>423.024820</td>\n",
              "      <td>474.179297</td>\n",
              "      <td>479.249653</td>\n",
              "      <td>480.320542</td>\n",
              "      <td>-31.949742</td>\n",
              "      <td>-31.949742</td>\n",
              "      <td>-31.949742</td>\n",
              "      <td>-31.949742</td>\n",
              "      <td>-31.949742</td>\n",
              "      <td>-31.949742</td>\n",
              "      <td>0.0</td>\n",
              "      <td>0.0</td>\n",
              "      <td>0.0</td>\n",
              "      <td>447.828651</td>\n",
              "    </tr>\n",
              "  </tbody>\n",
              "</table>\n",
              "</div>"
            ],
            "text/plain": [
              "            ds       trend  ...  multiplicative_terms_upper        yhat\n",
              "139 1960-08-01  467.898670  ...                         0.0  527.210227\n",
              "140 1960-09-01  470.917288  ...                         0.0  486.031158\n",
              "141 1960-10-01  473.838531  ...                         0.0  452.345565\n",
              "142 1960-11-01  476.857149  ...                         0.0  422.535460\n",
              "143 1960-12-01  479.778392  ...                         0.0  447.828651\n",
              "\n",
              "[5 rows x 16 columns]"
            ]
          },
          "metadata": {
            "tags": []
          },
          "execution_count": 28
        }
      ]
    },
    {
      "cell_type": "code",
      "metadata": {
        "id": "hBilkwMP55PU",
        "colab_type": "code",
        "colab": {
          "base_uri": "https://localhost:8080/",
          "height": 452
        },
        "outputId": "8887af92-8263-4f8c-9c3b-b395b510bcad"
      },
      "source": [
        "prophet_pred = pd.DataFrame({\"Date\" : prophet_pred[-12:]['ds'], \"Pred\" : prophet_pred[-12:][\"yhat\"]})\n",
        "prophet_pred = prophet_pred.set_index(\"Date\")\n",
        "prophet_pred.index.freq = \"MS\"\n",
        "prophet_pred"
      ],
      "execution_count": 29,
      "outputs": [
        {
          "output_type": "execute_result",
          "data": {
            "text/html": [
              "<div>\n",
              "<style scoped>\n",
              "    .dataframe tbody tr th:only-of-type {\n",
              "        vertical-align: middle;\n",
              "    }\n",
              "\n",
              "    .dataframe tbody tr th {\n",
              "        vertical-align: top;\n",
              "    }\n",
              "\n",
              "    .dataframe thead th {\n",
              "        text-align: right;\n",
              "    }\n",
              "</style>\n",
              "<table border=\"1\" class=\"dataframe\">\n",
              "  <thead>\n",
              "    <tr style=\"text-align: right;\">\n",
              "      <th></th>\n",
              "      <th>Pred</th>\n",
              "    </tr>\n",
              "    <tr>\n",
              "      <th>Date</th>\n",
              "      <th></th>\n",
              "    </tr>\n",
              "  </thead>\n",
              "  <tbody>\n",
              "    <tr>\n",
              "      <th>1960-01-01</th>\n",
              "      <td>424.867297</td>\n",
              "    </tr>\n",
              "    <tr>\n",
              "      <th>1960-02-01</th>\n",
              "      <td>421.474389</td>\n",
              "    </tr>\n",
              "    <tr>\n",
              "      <th>1960-03-01</th>\n",
              "      <td>456.964802</td>\n",
              "    </tr>\n",
              "    <tr>\n",
              "      <th>1960-04-01</th>\n",
              "      <td>451.392919</td>\n",
              "    </tr>\n",
              "    <tr>\n",
              "      <th>1960-05-01</th>\n",
              "      <td>453.879051</td>\n",
              "    </tr>\n",
              "    <tr>\n",
              "      <th>1960-06-01</th>\n",
              "      <td>493.694875</td>\n",
              "    </tr>\n",
              "    <tr>\n",
              "      <th>1960-07-01</th>\n",
              "      <td>523.773060</td>\n",
              "    </tr>\n",
              "    <tr>\n",
              "      <th>1960-08-01</th>\n",
              "      <td>527.210227</td>\n",
              "    </tr>\n",
              "    <tr>\n",
              "      <th>1960-09-01</th>\n",
              "      <td>486.031158</td>\n",
              "    </tr>\n",
              "    <tr>\n",
              "      <th>1960-10-01</th>\n",
              "      <td>452.345565</td>\n",
              "    </tr>\n",
              "    <tr>\n",
              "      <th>1960-11-01</th>\n",
              "      <td>422.535460</td>\n",
              "    </tr>\n",
              "    <tr>\n",
              "      <th>1960-12-01</th>\n",
              "      <td>447.828651</td>\n",
              "    </tr>\n",
              "  </tbody>\n",
              "</table>\n",
              "</div>"
            ],
            "text/plain": [
              "                  Pred\n",
              "Date                  \n",
              "1960-01-01  424.867297\n",
              "1960-02-01  421.474389\n",
              "1960-03-01  456.964802\n",
              "1960-04-01  451.392919\n",
              "1960-05-01  453.879051\n",
              "1960-06-01  493.694875\n",
              "1960-07-01  523.773060\n",
              "1960-08-01  527.210227\n",
              "1960-09-01  486.031158\n",
              "1960-10-01  452.345565\n",
              "1960-11-01  422.535460\n",
              "1960-12-01  447.828651"
            ]
          },
          "metadata": {
            "tags": []
          },
          "execution_count": 29
        }
      ]
    },
    {
      "cell_type": "code",
      "metadata": {
        "id": "LEUAypUn57Nv",
        "colab_type": "code",
        "colab": {
          "base_uri": "https://localhost:8080/",
          "height": 470
        },
        "outputId": "934b4cbe-945a-40f1-f6fa-4f2ae4b73f67"
      },
      "source": [
        "test_data[\"Prophet_Predictions\"] = prophet_pred['Pred'].values\n",
        "import seaborn as sns\n",
        "plt.figure(figsize=(16,5))\n",
        "ax = sns.lineplot(x= test_data.index, y=test_data[\"#Passengers\"])\n",
        "sns.lineplot(x=test_data.index, y = test_data[\"Prophet_Predictions\"]);"
      ],
      "execution_count": 30,
      "outputs": [
        {
          "output_type": "stream",
          "text": [
            "/usr/local/lib/python3.6/dist-packages/ipykernel_launcher.py:1: SettingWithCopyWarning:\n",
            "\n",
            "\n",
            "A value is trying to be set on a copy of a slice from a DataFrame.\n",
            "Try using .loc[row_indexer,col_indexer] = value instead\n",
            "\n",
            "See the caveats in the documentation: https://pandas.pydata.org/pandas-docs/stable/user_guide/indexing.html#returning-a-view-versus-a-copy\n",
            "\n"
          ],
          "name": "stderr"
        },
        {
          "output_type": "display_data",
          "data": {
            "image/png": "[encoded data removed]",
            "text/plain": [
              "<Figure size 1152x360 with 1 Axes>"
            ]
          },
          "metadata": {
            "tags": [],
            "needs_background": "light"
          }
        }
      ]
    },
    {
      "cell_type": "code",
      "metadata": {
        "id": "vLhZew2C6Bi8",
        "colab_type": "code",
        "colab": {
          "base_uri": "https://localhost:8080/",
          "height": 68
        },
        "outputId": "566e3e83-89cf-41f9-e805-0a025ead787c"
      },
      "source": [
        "prophet_rmse_error = rmse(test_data['#Passengers'], test_data[\"Prophet_Predictions\"])\n",
        "prophet_mse_error = prophet_rmse_error**2\n",
        "mean_value = df['#Passengers'].mean()\n",
        "\n",
        "print(f'MSE Error: {prophet_mse_error}\\nRMSE Error: {prophet_rmse_error}\\nMean: {mean_value}')"
      ],
      "execution_count": 31,
      "outputs": [
        {
          "output_type": "stream",
          "text": [
            "MSE Error: 1856.8065682600466\n",
            "RMSE Error: 43.090678438150015\n",
            "Mean: 280.2986111111111\n"
          ],
          "name": "stdout"
        }
      ]
    },
    {
      "cell_type": "code",
      "metadata": {
        "id": "dZjGrvcg6FQC",
        "colab_type": "code",
        "colab": {
          "base_uri": "https://localhost:8080/",
          "height": 554
        },
        "outputId": "e288875c-6ab8-4179-be0d-fce490601d8d"
      },
      "source": [
        "rmse_errors = [arima_rmse_error, lstm_rmse_error, prophet_rmse_error]\n",
        "mse_errors = [arima_mse_error, lstm_mse_error, prophet_mse_error]\n",
        "errors = pd.DataFrame({\"Models\" : [\"ARIMA\", \"LSTM\", \"Prophet\"],\"RMSE Errors\" : rmse_errors, \"MSE Errors\" : mse_errors})\n",
        "plt.figure(figsize=(16,9))\n",
        "plt.plot_date(test_data.index, test_data[\"#Passengers\"], linestyle=\"-\")\n",
        "plt.plot_date(test_data.index, test_data[\"ARIMA_Predictions\"], linestyle=\"-.\")\n",
        "plt.plot_date(test_data.index, test_data[\"LSTM_Predictions\"], linestyle=\"--\")\n",
        "plt.plot_date(test_data.index, test_data[\"Prophet_Predictions\"], linestyle=\":\")\n",
        "plt.legend()\n",
        "plt.show()"
      ],
      "execution_count": 32,
      "outputs": [
        {
          "output_type": "stream",
          "text": [
            "WARNING:matplotlib.legend:No handles with labels found to put in legend.\n"
          ],
          "name": "stderr"
        },
        {
          "output_type": "display_data",
          "data": {
            "image/png": "[encoded data removed]",
            "text/plain": [
              "<Figure size 1152x648 with 1 Axes>"
            ]
          },
          "metadata": {
            "tags": [],
            "needs_background": "light"
          }
        }
      ]
    },
    {
      "cell_type": "code",
      "metadata": {
        "id": "hf4Gpt0c6KUw",
        "colab_type": "code",
        "colab": {
          "base_uri": "https://localhost:8080/",
          "height": 159
        },
        "outputId": "1149bb13-2d8e-4590-ee37-c29efbf4d127"
      },
      "source": [
        "print(f\"Mean: {test_data['#Passengers'].mean()}\")\n",
        "errors"
      ],
      "execution_count": 34,
      "outputs": [
        {
          "output_type": "stream",
          "text": [
            "Mean: 476.1666666666667\n"
          ],
          "name": "stdout"
        },
        {
          "output_type": "execute_result",
          "data": {
            "text/html": [
              "<div>\n",
              "<style scoped>\n",
              "    .dataframe tbody tr th:only-of-type {\n",
              "        vertical-align: middle;\n",
              "    }\n",
              "\n",
              "    .dataframe tbody tr th {\n",
              "        vertical-align: top;\n",
              "    }\n",
              "\n",
              "    .dataframe thead th {\n",
              "        text-align: right;\n",
              "    }\n",
              "</style>\n",
              "<table border=\"1\" class=\"dataframe\">\n",
              "  <thead>\n",
              "    <tr style=\"text-align: right;\">\n",
              "      <th></th>\n",
              "      <th>Models</th>\n",
              "      <th>RMSE Errors</th>\n",
              "      <th>MSE Errors</th>\n",
              "    </tr>\n",
              "  </thead>\n",
              "  <tbody>\n",
              "    <tr>\n",
              "      <th>0</th>\n",
              "      <td>ARIMA</td>\n",
              "      <td>18.240072</td>\n",
              "      <td>332.700227</td>\n",
              "    </tr>\n",
              "    <tr>\n",
              "      <th>1</th>\n",
              "      <td>LSTM</td>\n",
              "      <td>51.840747</td>\n",
              "      <td>2687.463026</td>\n",
              "    </tr>\n",
              "    <tr>\n",
              "      <th>2</th>\n",
              "      <td>Prophet</td>\n",
              "      <td>43.090678</td>\n",
              "      <td>1856.806568</td>\n",
              "    </tr>\n",
              "  </tbody>\n",
              "</table>\n",
              "</div>"
            ],
            "text/plain": [
              "    Models  RMSE Errors   MSE Errors\n",
              "0    ARIMA    18.240072   332.700227\n",
              "1     LSTM    51.840747  2687.463026\n",
              "2  Prophet    43.090678  1856.806568"
            ]
          },
          "metadata": {
            "tags": []
          },
          "execution_count": 34
        }
      ]
    },
    {
      "cell_type": "code",
      "metadata": {
        "id": "EiBLXtB56NuC",
        "colab_type": "code",
        "colab": {
          "base_uri": "https://localhost:8080/",
          "height": 452
        },
        "outputId": "8fc797dc-81cc-4cd4-8c65-8ddec4a66d72"
      },
      "source": [
        "test_data"
      ],
      "execution_count": 35,
      "outputs": [
        {
          "output_type": "execute_result",
          "data": {
            "text/html": [
              "<div>\n",
              "<style scoped>\n",
              "    .dataframe tbody tr th:only-of-type {\n",
              "        vertical-align: middle;\n",
              "    }\n",
              "\n",
              "    .dataframe tbody tr th {\n",
              "        vertical-align: top;\n",
              "    }\n",
              "\n",
              "    .dataframe thead th {\n",
              "        text-align: right;\n",
              "    }\n",
              "</style>\n",
              "<table border=\"1\" class=\"dataframe\">\n",
              "  <thead>\n",
              "    <tr style=\"text-align: right;\">\n",
              "      <th></th>\n",
              "      <th>#Passengers</th>\n",
              "      <th>ARIMA_Predictions</th>\n",
              "      <th>LSTM_Predictions</th>\n",
              "      <th>Prophet_Predictions</th>\n",
              "    </tr>\n",
              "    <tr>\n",
              "      <th>Month</th>\n",
              "      <th></th>\n",
              "      <th></th>\n",
              "      <th></th>\n",
              "      <th></th>\n",
              "    </tr>\n",
              "  </thead>\n",
              "  <tbody>\n",
              "    <tr>\n",
              "      <th>1960-01-01</th>\n",
              "      <td>417</td>\n",
              "      <td>420.798199</td>\n",
              "      <td>367.224078</td>\n",
              "      <td>424.867297</td>\n",
              "    </tr>\n",
              "    <tr>\n",
              "      <th>1960-02-01</th>\n",
              "      <td>391</td>\n",
              "      <td>401.655389</td>\n",
              "      <td>365.068056</td>\n",
              "      <td>421.474389</td>\n",
              "    </tr>\n",
              "    <tr>\n",
              "      <th>1960-03-01</th>\n",
              "      <td>419</td>\n",
              "      <td>454.274940</td>\n",
              "      <td>388.607582</td>\n",
              "      <td>456.964802</td>\n",
              "    </tr>\n",
              "    <tr>\n",
              "      <th>1960-04-01</th>\n",
              "      <td>461</td>\n",
              "      <td>438.848317</td>\n",
              "      <td>401.934840</td>\n",
              "      <td>451.392919</td>\n",
              "    </tr>\n",
              "    <tr>\n",
              "      <th>1960-05-01</th>\n",
              "      <td>472</td>\n",
              "      <td>462.561876</td>\n",
              "      <td>434.669142</td>\n",
              "      <td>453.879051</td>\n",
              "    </tr>\n",
              "    <tr>\n",
              "      <th>1960-06-01</th>\n",
              "      <td>535</td>\n",
              "      <td>516.249154</td>\n",
              "      <td>478.870588</td>\n",
              "      <td>493.694875</td>\n",
              "    </tr>\n",
              "    <tr>\n",
              "      <th>1960-07-01</th>\n",
              "      <td>622</td>\n",
              "      <td>588.343206</td>\n",
              "      <td>514.215987</td>\n",
              "      <td>523.773060</td>\n",
              "    </tr>\n",
              "    <tr>\n",
              "      <th>1960-08-01</th>\n",
              "      <td>606</td>\n",
              "      <td>600.021293</td>\n",
              "      <td>528.391209</td>\n",
              "      <td>527.210227</td>\n",
              "    </tr>\n",
              "    <tr>\n",
              "      <th>1960-09-01</th>\n",
              "      <td>508</td>\n",
              "      <td>499.664879</td>\n",
              "      <td>488.169424</td>\n",
              "      <td>486.031158</td>\n",
              "    </tr>\n",
              "    <tr>\n",
              "      <th>1960-10-01</th>\n",
              "      <td>461</td>\n",
              "      <td>444.317476</td>\n",
              "      <td>432.763981</td>\n",
              "      <td>452.345565</td>\n",
              "    </tr>\n",
              "    <tr>\n",
              "      <th>1960-11-01</th>\n",
              "      <td>390</td>\n",
              "      <td>399.645898</td>\n",
              "      <td>399.515617</td>\n",
              "      <td>422.535460</td>\n",
              "    </tr>\n",
              "    <tr>\n",
              "      <th>1960-12-01</th>\n",
              "      <td>432</td>\n",
              "      <td>440.910631</td>\n",
              "      <td>397.051999</td>\n",
              "      <td>447.828651</td>\n",
              "    </tr>\n",
              "  </tbody>\n",
              "</table>\n",
              "</div>"
            ],
            "text/plain": [
              "            #Passengers  ...  Prophet_Predictions\n",
              "Month                    ...                     \n",
              "1960-01-01          417  ...           424.867297\n",
              "1960-02-01          391  ...           421.474389\n",
              "1960-03-01          419  ...           456.964802\n",
              "1960-04-01          461  ...           451.392919\n",
              "1960-05-01          472  ...           453.879051\n",
              "1960-06-01          535  ...           493.694875\n",
              "1960-07-01          622  ...           523.773060\n",
              "1960-08-01          606  ...           527.210227\n",
              "1960-09-01          508  ...           486.031158\n",
              "1960-10-01          461  ...           452.345565\n",
              "1960-11-01          390  ...           422.535460\n",
              "1960-12-01          432  ...           447.828651\n",
              "\n",
              "[12 rows x 4 columns]"
            ]
          },
          "metadata": {
            "tags": []
          },
          "execution_count": 35
        }
      ]
    },
    {
      "cell_type": "markdown",
      "metadata": {
        "id": "6GARerXI6Yjl",
        "colab_type": "text"
      },
      "source": [
        "These ways are just quick and basic predictions. Therefore, you can improve these models with tuning and according to your data and business knowledge."
      ]
    }
  ]
}
