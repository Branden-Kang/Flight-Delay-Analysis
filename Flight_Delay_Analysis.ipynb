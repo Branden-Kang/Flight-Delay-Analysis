{
  "nbformat": 4,
  "nbformat_minor": 0,
  "metadata": {
    "colab": {
      "name": "Flight Delay Analysis.ipynb",
      "provenance": []
    },
    "kernelspec": {
      "name": "python3",
      "display_name": "Python 3"
    }
  },
  "cells": [
    {
      "cell_type": "code",
      "metadata": {
        "id": "nDcPAhh8PSJ6",
        "colab_type": "code",
        "colab": {}
      },
      "source": [
        "import os\n",
        "from google.colab import drive\n",
        "drive.mount('/content/gdrive')\n",
        "!pwd\n",
        "os.chdir('gdrive/My Drive/research/Datasets/flight-delays')\n",
        "!pwd"
      ],
      "execution_count": 0,
      "outputs": []
    },
    {
      "cell_type": "code",
      "metadata": {
        "id": "utZfKxQOfbRb",
        "colab_type": "code",
        "colab": {
          "base_uri": "https://localhost:8080/",
          "height": 117
        },
        "outputId": "087b7172-a4a2-47e0-9fd2-c2fb54a97a17"
      },
      "source": [
        "# basic function of python\n",
        "import pandas as pd\n",
        "import matplotlib.pyplot as plt\n",
        "import seaborn as sb\n",
        "%matplotlib inline\n",
        "import numpy as np\n",
        "\n",
        "# feature selection\n",
        "from sklearn.ensemble import ExtraTreesClassifier\n",
        "from sklearn import feature_selection\n",
        "\n",
        "# oversampling\n",
        "from sklearn.utils import resample\n",
        "from imblearn.over_sampling import SMOTE\n",
        "\n",
        "# building the models\n",
        "from sklearn.tree import DecisionTreeClassifier\n",
        "from sklearn.metrics import accuracy_score\n",
        "from sklearn.linear_model import LogisticRegression\n",
        "from sklearn.model_selection import GridSearchCV\n",
        "from sklearn.neighbors import KNeighborsClassifier\n",
        "from sklearn import tree\n",
        "from sklearn.ensemble import RandomForestClassifier\n",
        "from sklearn.svm import SVC\n",
        "import tensorflow\n",
        "from tensorflow.contrib.keras import models, layers\n",
        "from tensorflow.contrib.keras import activations, optimizers, losses\n",
        "\n",
        "# standardize the vaiable\n",
        "from sklearn.preprocessing import StandardScaler\n",
        "\n",
        "# from sklearn.cross_validation import train_test_split\n",
        "from sklearn.model_selection import train_test_split\n",
        "\n",
        "# validation\n",
        "from sklearn.metrics import confusion_matrix,classification_report"
      ],
      "execution_count": 2,
      "outputs": [
        {
          "output_type": "stream",
          "text": [
            "/usr/local/lib/python3.6/dist-packages/sklearn/externals/six.py:31: DeprecationWarning: The module is deprecated in version 0.21 and will be removed in version 0.23 since we've dropped support for Python 2.7. Please rely on the official version of six (https://pypi.org/project/six/).\n",
            "  \"(https://pypi.org/project/six/).\", DeprecationWarning)\n"
          ],
          "name": "stderr"
        },
        {
          "output_type": "display_data",
          "data": {
            "text/html": [
              "<p style=\"color: red;\">\n",
              "The default version of TensorFlow in Colab will soon switch to TensorFlow 2.x.<br>\n",
              "We recommend you <a href=\"https://www.tensorflow.org/guide/migrate\" target=\"_blank\">upgrade</a> now \n",
              "or ensure your notebook will continue to use TensorFlow 1.x via the <code>%tensorflow_version 1.x</code> magic:\n",
              "<a href=\"https://colab.research.google.com/notebooks/tensorflow_version.ipynb\" target=\"_blank\">more info</a>.</p>\n"
            ],
            "text/plain": [
              "<IPython.core.display.HTML object>"
            ]
          },
          "metadata": {
            "tags": []
          }
        }
      ]
    },
    {
      "cell_type": "markdown",
      "metadata": {
        "id": "_GTEG48TBAPM",
        "colab_type": "text"
      },
      "source": [
        "# Get the Data"
      ]
    },
    {
      "cell_type": "code",
      "metadata": {
        "id": "ke1fawYUWXqh",
        "colab_type": "code",
        "colab": {
          "base_uri": "https://localhost:8080/",
          "height": 71
        },
        "outputId": "57bb7396-f263-4d34-8c22-4bb9adc35693"
      },
      "source": [
        "data = pd.read_csv(\"./flights.csv\")"
      ],
      "execution_count": 4,
      "outputs": [
        {
          "output_type": "stream",
          "text": [
            "/usr/local/lib/python3.6/dist-packages/IPython/core/interactiveshell.py:2718: DtypeWarning: Columns (7,8) have mixed types. Specify dtype option on import or set low_memory=False.\n",
            "  interactivity=interactivity, compiler=compiler, result=result)\n"
          ],
          "name": "stderr"
        }
      ]
    },
    {
      "cell_type": "code",
      "metadata": {
        "id": "if3mOeq7faiX",
        "colab_type": "code",
        "colab": {}
      },
      "source": [
        "airport = pd.read_csv('./airports.csv')\n",
        "airlines = pd.read_csv('./airlines.csv')"
      ],
      "execution_count": 0,
      "outputs": []
    },
    {
      "cell_type": "code",
      "metadata": {
        "id": "ITAwYN5m5MdS",
        "colab_type": "code",
        "colab": {
          "base_uri": "https://localhost:8080/",
          "height": 629
        },
        "outputId": "dbbcf2d2-b17f-4c6a-9c3d-e0dcf6dfb5b6"
      },
      "source": [
        "data.info()"
      ],
      "execution_count": 6,
      "outputs": [
        {
          "output_type": "stream",
          "text": [
            "<class 'pandas.core.frame.DataFrame'>\n",
            "RangeIndex: 5819079 entries, 0 to 5819078\n",
            "Data columns (total 31 columns):\n",
            "YEAR                   int64\n",
            "MONTH                  int64\n",
            "DAY                    int64\n",
            "DAY_OF_WEEK            int64\n",
            "AIRLINE                object\n",
            "FLIGHT_NUMBER          int64\n",
            "TAIL_NUMBER            object\n",
            "ORIGIN_AIRPORT         object\n",
            "DESTINATION_AIRPORT    object\n",
            "SCHEDULED_DEPARTURE    int64\n",
            "DEPARTURE_TIME         float64\n",
            "DEPARTURE_DELAY        float64\n",
            "TAXI_OUT               float64\n",
            "WHEELS_OFF             float64\n",
            "SCHEDULED_TIME         float64\n",
            "ELAPSED_TIME           float64\n",
            "AIR_TIME               float64\n",
            "DISTANCE               int64\n",
            "WHEELS_ON              float64\n",
            "TAXI_IN                float64\n",
            "SCHEDULED_ARRIVAL      int64\n",
            "ARRIVAL_TIME           float64\n",
            "ARRIVAL_DELAY          float64\n",
            "DIVERTED               int64\n",
            "CANCELLED              int64\n",
            "CANCELLATION_REASON    object\n",
            "AIR_SYSTEM_DELAY       float64\n",
            "SECURITY_DELAY         float64\n",
            "AIRLINE_DELAY          float64\n",
            "LATE_AIRCRAFT_DELAY    float64\n",
            "WEATHER_DELAY          float64\n",
            "dtypes: float64(16), int64(10), object(5)\n",
            "memory usage: 1.3+ GB\n"
          ],
          "name": "stdout"
        }
      ]
    },
    {
      "cell_type": "code",
      "metadata": {
        "id": "yT8djbQD5OYY",
        "colab_type": "code",
        "colab": {
          "base_uri": "https://localhost:8080/",
          "height": 34
        },
        "outputId": "9d8b21b8-2541-4360-8413-f03983a35b3a"
      },
      "source": [
        "data.shape"
      ],
      "execution_count": 7,
      "outputs": [
        {
          "output_type": "execute_result",
          "data": {
            "text/plain": [
              "(5819079, 31)"
            ]
          },
          "metadata": {
            "tags": []
          },
          "execution_count": 7
        }
      ]
    },
    {
      "cell_type": "code",
      "metadata": {
        "id": "zOPDbmnY5QIO",
        "colab_type": "code",
        "colab": {
          "base_uri": "https://localhost:8080/",
          "height": 317
        },
        "outputId": "d65bbd1f-e87c-4b84-e4f3-fa474b1ea113"
      },
      "source": [
        "data.describe()"
      ],
      "execution_count": 8,
      "outputs": [
        {
          "output_type": "execute_result",
          "data": {
            "text/html": [
              "<div>\n",
              "<style scoped>\n",
              "    .dataframe tbody tr th:only-of-type {\n",
              "        vertical-align: middle;\n",
              "    }\n",
              "\n",
              "    .dataframe tbody tr th {\n",
              "        vertical-align: top;\n",
              "    }\n",
              "\n",
              "    .dataframe thead th {\n",
              "        text-align: right;\n",
              "    }\n",
              "</style>\n",
              "<table border=\"1\" class=\"dataframe\">\n",
              "  <thead>\n",
              "    <tr style=\"text-align: right;\">\n",
              "      <th></th>\n",
              "      <th>YEAR</th>\n",
              "      <th>MONTH</th>\n",
              "      <th>DAY</th>\n",
              "      <th>DAY_OF_WEEK</th>\n",
              "      <th>FLIGHT_NUMBER</th>\n",
              "      <th>SCHEDULED_DEPARTURE</th>\n",
              "      <th>DEPARTURE_TIME</th>\n",
              "      <th>DEPARTURE_DELAY</th>\n",
              "      <th>TAXI_OUT</th>\n",
              "      <th>WHEELS_OFF</th>\n",
              "      <th>SCHEDULED_TIME</th>\n",
              "      <th>ELAPSED_TIME</th>\n",
              "      <th>AIR_TIME</th>\n",
              "      <th>DISTANCE</th>\n",
              "      <th>WHEELS_ON</th>\n",
              "      <th>TAXI_IN</th>\n",
              "      <th>SCHEDULED_ARRIVAL</th>\n",
              "      <th>ARRIVAL_TIME</th>\n",
              "      <th>ARRIVAL_DELAY</th>\n",
              "      <th>DIVERTED</th>\n",
              "      <th>CANCELLED</th>\n",
              "      <th>AIR_SYSTEM_DELAY</th>\n",
              "      <th>SECURITY_DELAY</th>\n",
              "      <th>AIRLINE_DELAY</th>\n",
              "      <th>LATE_AIRCRAFT_DELAY</th>\n",
              "      <th>WEATHER_DELAY</th>\n",
              "    </tr>\n",
              "  </thead>\n",
              "  <tbody>\n",
              "    <tr>\n",
              "      <th>count</th>\n",
              "      <td>5819079.0</td>\n",
              "      <td>5.819079e+06</td>\n",
              "      <td>5.819079e+06</td>\n",
              "      <td>5.819079e+06</td>\n",
              "      <td>5.819079e+06</td>\n",
              "      <td>5.819079e+06</td>\n",
              "      <td>5.732926e+06</td>\n",
              "      <td>5.732926e+06</td>\n",
              "      <td>5.730032e+06</td>\n",
              "      <td>5.730032e+06</td>\n",
              "      <td>5.819073e+06</td>\n",
              "      <td>5.714008e+06</td>\n",
              "      <td>5.714008e+06</td>\n",
              "      <td>5.819079e+06</td>\n",
              "      <td>5.726566e+06</td>\n",
              "      <td>5.726566e+06</td>\n",
              "      <td>5.819079e+06</td>\n",
              "      <td>5.726566e+06</td>\n",
              "      <td>5.714008e+06</td>\n",
              "      <td>5.819079e+06</td>\n",
              "      <td>5.819079e+06</td>\n",
              "      <td>1.063439e+06</td>\n",
              "      <td>1.063439e+06</td>\n",
              "      <td>1.063439e+06</td>\n",
              "      <td>1.063439e+06</td>\n",
              "      <td>1.063439e+06</td>\n",
              "    </tr>\n",
              "    <tr>\n",
              "      <th>mean</th>\n",
              "      <td>2015.0</td>\n",
              "      <td>6.524085e+00</td>\n",
              "      <td>1.570459e+01</td>\n",
              "      <td>3.926941e+00</td>\n",
              "      <td>2.173093e+03</td>\n",
              "      <td>1.329602e+03</td>\n",
              "      <td>1.335204e+03</td>\n",
              "      <td>9.370158e+00</td>\n",
              "      <td>1.607166e+01</td>\n",
              "      <td>1.357171e+03</td>\n",
              "      <td>1.416859e+02</td>\n",
              "      <td>1.370062e+02</td>\n",
              "      <td>1.135116e+02</td>\n",
              "      <td>8.223565e+02</td>\n",
              "      <td>1.471469e+03</td>\n",
              "      <td>7.434971e+00</td>\n",
              "      <td>1.493808e+03</td>\n",
              "      <td>1.476491e+03</td>\n",
              "      <td>4.407057e+00</td>\n",
              "      <td>2.609863e-03</td>\n",
              "      <td>1.544643e-02</td>\n",
              "      <td>1.348057e+01</td>\n",
              "      <td>7.615387e-02</td>\n",
              "      <td>1.896955e+01</td>\n",
              "      <td>2.347284e+01</td>\n",
              "      <td>2.915290e+00</td>\n",
              "    </tr>\n",
              "    <tr>\n",
              "      <th>std</th>\n",
              "      <td>0.0</td>\n",
              "      <td>3.405137e+00</td>\n",
              "      <td>8.783425e+00</td>\n",
              "      <td>1.988845e+00</td>\n",
              "      <td>1.757064e+03</td>\n",
              "      <td>4.837518e+02</td>\n",
              "      <td>4.964233e+02</td>\n",
              "      <td>3.708094e+01</td>\n",
              "      <td>8.895574e+00</td>\n",
              "      <td>4.980094e+02</td>\n",
              "      <td>7.521058e+01</td>\n",
              "      <td>7.421107e+01</td>\n",
              "      <td>7.223082e+01</td>\n",
              "      <td>6.077843e+02</td>\n",
              "      <td>5.221879e+02</td>\n",
              "      <td>5.638548e+00</td>\n",
              "      <td>5.071647e+02</td>\n",
              "      <td>5.263197e+02</td>\n",
              "      <td>3.927130e+01</td>\n",
              "      <td>5.102012e-02</td>\n",
              "      <td>1.233201e-01</td>\n",
              "      <td>2.800368e+01</td>\n",
              "      <td>2.143460e+00</td>\n",
              "      <td>4.816164e+01</td>\n",
              "      <td>4.319702e+01</td>\n",
              "      <td>2.043334e+01</td>\n",
              "    </tr>\n",
              "    <tr>\n",
              "      <th>min</th>\n",
              "      <td>2015.0</td>\n",
              "      <td>1.000000e+00</td>\n",
              "      <td>1.000000e+00</td>\n",
              "      <td>1.000000e+00</td>\n",
              "      <td>1.000000e+00</td>\n",
              "      <td>1.000000e+00</td>\n",
              "      <td>1.000000e+00</td>\n",
              "      <td>-8.200000e+01</td>\n",
              "      <td>1.000000e+00</td>\n",
              "      <td>1.000000e+00</td>\n",
              "      <td>1.800000e+01</td>\n",
              "      <td>1.400000e+01</td>\n",
              "      <td>7.000000e+00</td>\n",
              "      <td>2.100000e+01</td>\n",
              "      <td>1.000000e+00</td>\n",
              "      <td>1.000000e+00</td>\n",
              "      <td>1.000000e+00</td>\n",
              "      <td>1.000000e+00</td>\n",
              "      <td>-8.700000e+01</td>\n",
              "      <td>0.000000e+00</td>\n",
              "      <td>0.000000e+00</td>\n",
              "      <td>0.000000e+00</td>\n",
              "      <td>0.000000e+00</td>\n",
              "      <td>0.000000e+00</td>\n",
              "      <td>0.000000e+00</td>\n",
              "      <td>0.000000e+00</td>\n",
              "    </tr>\n",
              "    <tr>\n",
              "      <th>25%</th>\n",
              "      <td>2015.0</td>\n",
              "      <td>4.000000e+00</td>\n",
              "      <td>8.000000e+00</td>\n",
              "      <td>2.000000e+00</td>\n",
              "      <td>7.300000e+02</td>\n",
              "      <td>9.170000e+02</td>\n",
              "      <td>9.210000e+02</td>\n",
              "      <td>-5.000000e+00</td>\n",
              "      <td>1.100000e+01</td>\n",
              "      <td>9.350000e+02</td>\n",
              "      <td>8.500000e+01</td>\n",
              "      <td>8.200000e+01</td>\n",
              "      <td>6.000000e+01</td>\n",
              "      <td>3.730000e+02</td>\n",
              "      <td>1.054000e+03</td>\n",
              "      <td>4.000000e+00</td>\n",
              "      <td>1.110000e+03</td>\n",
              "      <td>1.059000e+03</td>\n",
              "      <td>-1.300000e+01</td>\n",
              "      <td>0.000000e+00</td>\n",
              "      <td>0.000000e+00</td>\n",
              "      <td>0.000000e+00</td>\n",
              "      <td>0.000000e+00</td>\n",
              "      <td>0.000000e+00</td>\n",
              "      <td>0.000000e+00</td>\n",
              "      <td>0.000000e+00</td>\n",
              "    </tr>\n",
              "    <tr>\n",
              "      <th>50%</th>\n",
              "      <td>2015.0</td>\n",
              "      <td>7.000000e+00</td>\n",
              "      <td>1.600000e+01</td>\n",
              "      <td>4.000000e+00</td>\n",
              "      <td>1.690000e+03</td>\n",
              "      <td>1.325000e+03</td>\n",
              "      <td>1.330000e+03</td>\n",
              "      <td>-2.000000e+00</td>\n",
              "      <td>1.400000e+01</td>\n",
              "      <td>1.343000e+03</td>\n",
              "      <td>1.230000e+02</td>\n",
              "      <td>1.180000e+02</td>\n",
              "      <td>9.400000e+01</td>\n",
              "      <td>6.470000e+02</td>\n",
              "      <td>1.509000e+03</td>\n",
              "      <td>6.000000e+00</td>\n",
              "      <td>1.520000e+03</td>\n",
              "      <td>1.512000e+03</td>\n",
              "      <td>-5.000000e+00</td>\n",
              "      <td>0.000000e+00</td>\n",
              "      <td>0.000000e+00</td>\n",
              "      <td>2.000000e+00</td>\n",
              "      <td>0.000000e+00</td>\n",
              "      <td>2.000000e+00</td>\n",
              "      <td>3.000000e+00</td>\n",
              "      <td>0.000000e+00</td>\n",
              "    </tr>\n",
              "    <tr>\n",
              "      <th>75%</th>\n",
              "      <td>2015.0</td>\n",
              "      <td>9.000000e+00</td>\n",
              "      <td>2.300000e+01</td>\n",
              "      <td>6.000000e+00</td>\n",
              "      <td>3.230000e+03</td>\n",
              "      <td>1.730000e+03</td>\n",
              "      <td>1.740000e+03</td>\n",
              "      <td>7.000000e+00</td>\n",
              "      <td>1.900000e+01</td>\n",
              "      <td>1.754000e+03</td>\n",
              "      <td>1.730000e+02</td>\n",
              "      <td>1.680000e+02</td>\n",
              "      <td>1.440000e+02</td>\n",
              "      <td>1.062000e+03</td>\n",
              "      <td>1.911000e+03</td>\n",
              "      <td>9.000000e+00</td>\n",
              "      <td>1.918000e+03</td>\n",
              "      <td>1.917000e+03</td>\n",
              "      <td>8.000000e+00</td>\n",
              "      <td>0.000000e+00</td>\n",
              "      <td>0.000000e+00</td>\n",
              "      <td>1.800000e+01</td>\n",
              "      <td>0.000000e+00</td>\n",
              "      <td>1.900000e+01</td>\n",
              "      <td>2.900000e+01</td>\n",
              "      <td>0.000000e+00</td>\n",
              "    </tr>\n",
              "    <tr>\n",
              "      <th>max</th>\n",
              "      <td>2015.0</td>\n",
              "      <td>1.200000e+01</td>\n",
              "      <td>3.100000e+01</td>\n",
              "      <td>7.000000e+00</td>\n",
              "      <td>9.855000e+03</td>\n",
              "      <td>2.359000e+03</td>\n",
              "      <td>2.400000e+03</td>\n",
              "      <td>1.988000e+03</td>\n",
              "      <td>2.250000e+02</td>\n",
              "      <td>2.400000e+03</td>\n",
              "      <td>7.180000e+02</td>\n",
              "      <td>7.660000e+02</td>\n",
              "      <td>6.900000e+02</td>\n",
              "      <td>4.983000e+03</td>\n",
              "      <td>2.400000e+03</td>\n",
              "      <td>2.480000e+02</td>\n",
              "      <td>2.400000e+03</td>\n",
              "      <td>2.400000e+03</td>\n",
              "      <td>1.971000e+03</td>\n",
              "      <td>1.000000e+00</td>\n",
              "      <td>1.000000e+00</td>\n",
              "      <td>1.134000e+03</td>\n",
              "      <td>5.730000e+02</td>\n",
              "      <td>1.971000e+03</td>\n",
              "      <td>1.331000e+03</td>\n",
              "      <td>1.211000e+03</td>\n",
              "    </tr>\n",
              "  </tbody>\n",
              "</table>\n",
              "</div>"
            ],
            "text/plain": [
              "            YEAR         MONTH  ...  LATE_AIRCRAFT_DELAY  WEATHER_DELAY\n",
              "count  5819079.0  5.819079e+06  ...         1.063439e+06   1.063439e+06\n",
              "mean      2015.0  6.524085e+00  ...         2.347284e+01   2.915290e+00\n",
              "std          0.0  3.405137e+00  ...         4.319702e+01   2.043334e+01\n",
              "min       2015.0  1.000000e+00  ...         0.000000e+00   0.000000e+00\n",
              "25%       2015.0  4.000000e+00  ...         0.000000e+00   0.000000e+00\n",
              "50%       2015.0  7.000000e+00  ...         3.000000e+00   0.000000e+00\n",
              "75%       2015.0  9.000000e+00  ...         2.900000e+01   0.000000e+00\n",
              "max       2015.0  1.200000e+01  ...         1.331000e+03   1.211000e+03\n",
              "\n",
              "[8 rows x 26 columns]"
            ]
          },
          "metadata": {
            "tags": []
          },
          "execution_count": 8
        }
      ]
    },
    {
      "cell_type": "code",
      "metadata": {
        "id": "rUy-a8nz_sNt",
        "colab_type": "code",
        "colab": {
          "base_uri": "https://localhost:8080/",
          "height": 224
        },
        "outputId": "550a2a45-3873-4819-84aa-f87fd629a3c4"
      },
      "source": [
        "data.head()"
      ],
      "execution_count": 9,
      "outputs": [
        {
          "output_type": "execute_result",
          "data": {
            "text/html": [
              "<div>\n",
              "<style scoped>\n",
              "    .dataframe tbody tr th:only-of-type {\n",
              "        vertical-align: middle;\n",
              "    }\n",
              "\n",
              "    .dataframe tbody tr th {\n",
              "        vertical-align: top;\n",
              "    }\n",
              "\n",
              "    .dataframe thead th {\n",
              "        text-align: right;\n",
              "    }\n",
              "</style>\n",
              "<table border=\"1\" class=\"dataframe\">\n",
              "  <thead>\n",
              "    <tr style=\"text-align: right;\">\n",
              "      <th></th>\n",
              "      <th>YEAR</th>\n",
              "      <th>MONTH</th>\n",
              "      <th>DAY</th>\n",
              "      <th>DAY_OF_WEEK</th>\n",
              "      <th>AIRLINE</th>\n",
              "      <th>FLIGHT_NUMBER</th>\n",
              "      <th>TAIL_NUMBER</th>\n",
              "      <th>ORIGIN_AIRPORT</th>\n",
              "      <th>DESTINATION_AIRPORT</th>\n",
              "      <th>SCHEDULED_DEPARTURE</th>\n",
              "      <th>DEPARTURE_TIME</th>\n",
              "      <th>DEPARTURE_DELAY</th>\n",
              "      <th>TAXI_OUT</th>\n",
              "      <th>WHEELS_OFF</th>\n",
              "      <th>SCHEDULED_TIME</th>\n",
              "      <th>ELAPSED_TIME</th>\n",
              "      <th>AIR_TIME</th>\n",
              "      <th>DISTANCE</th>\n",
              "      <th>WHEELS_ON</th>\n",
              "      <th>TAXI_IN</th>\n",
              "      <th>SCHEDULED_ARRIVAL</th>\n",
              "      <th>ARRIVAL_TIME</th>\n",
              "      <th>ARRIVAL_DELAY</th>\n",
              "      <th>DIVERTED</th>\n",
              "      <th>CANCELLED</th>\n",
              "      <th>CANCELLATION_REASON</th>\n",
              "      <th>AIR_SYSTEM_DELAY</th>\n",
              "      <th>SECURITY_DELAY</th>\n",
              "      <th>AIRLINE_DELAY</th>\n",
              "      <th>LATE_AIRCRAFT_DELAY</th>\n",
              "      <th>WEATHER_DELAY</th>\n",
              "    </tr>\n",
              "  </thead>\n",
              "  <tbody>\n",
              "    <tr>\n",
              "      <th>0</th>\n",
              "      <td>2015</td>\n",
              "      <td>1</td>\n",
              "      <td>1</td>\n",
              "      <td>4</td>\n",
              "      <td>AS</td>\n",
              "      <td>98</td>\n",
              "      <td>N407AS</td>\n",
              "      <td>ANC</td>\n",
              "      <td>SEA</td>\n",
              "      <td>5</td>\n",
              "      <td>2354.0</td>\n",
              "      <td>-11.0</td>\n",
              "      <td>21.0</td>\n",
              "      <td>15.0</td>\n",
              "      <td>205.0</td>\n",
              "      <td>194.0</td>\n",
              "      <td>169.0</td>\n",
              "      <td>1448</td>\n",
              "      <td>404.0</td>\n",
              "      <td>4.0</td>\n",
              "      <td>430</td>\n",
              "      <td>408.0</td>\n",
              "      <td>-22.0</td>\n",
              "      <td>0</td>\n",
              "      <td>0</td>\n",
              "      <td>NaN</td>\n",
              "      <td>NaN</td>\n",
              "      <td>NaN</td>\n",
              "      <td>NaN</td>\n",
              "      <td>NaN</td>\n",
              "      <td>NaN</td>\n",
              "    </tr>\n",
              "    <tr>\n",
              "      <th>1</th>\n",
              "      <td>2015</td>\n",
              "      <td>1</td>\n",
              "      <td>1</td>\n",
              "      <td>4</td>\n",
              "      <td>AA</td>\n",
              "      <td>2336</td>\n",
              "      <td>N3KUAA</td>\n",
              "      <td>LAX</td>\n",
              "      <td>PBI</td>\n",
              "      <td>10</td>\n",
              "      <td>2.0</td>\n",
              "      <td>-8.0</td>\n",
              "      <td>12.0</td>\n",
              "      <td>14.0</td>\n",
              "      <td>280.0</td>\n",
              "      <td>279.0</td>\n",
              "      <td>263.0</td>\n",
              "      <td>2330</td>\n",
              "      <td>737.0</td>\n",
              "      <td>4.0</td>\n",
              "      <td>750</td>\n",
              "      <td>741.0</td>\n",
              "      <td>-9.0</td>\n",
              "      <td>0</td>\n",
              "      <td>0</td>\n",
              "      <td>NaN</td>\n",
              "      <td>NaN</td>\n",
              "      <td>NaN</td>\n",
              "      <td>NaN</td>\n",
              "      <td>NaN</td>\n",
              "      <td>NaN</td>\n",
              "    </tr>\n",
              "    <tr>\n",
              "      <th>2</th>\n",
              "      <td>2015</td>\n",
              "      <td>1</td>\n",
              "      <td>1</td>\n",
              "      <td>4</td>\n",
              "      <td>US</td>\n",
              "      <td>840</td>\n",
              "      <td>N171US</td>\n",
              "      <td>SFO</td>\n",
              "      <td>CLT</td>\n",
              "      <td>20</td>\n",
              "      <td>18.0</td>\n",
              "      <td>-2.0</td>\n",
              "      <td>16.0</td>\n",
              "      <td>34.0</td>\n",
              "      <td>286.0</td>\n",
              "      <td>293.0</td>\n",
              "      <td>266.0</td>\n",
              "      <td>2296</td>\n",
              "      <td>800.0</td>\n",
              "      <td>11.0</td>\n",
              "      <td>806</td>\n",
              "      <td>811.0</td>\n",
              "      <td>5.0</td>\n",
              "      <td>0</td>\n",
              "      <td>0</td>\n",
              "      <td>NaN</td>\n",
              "      <td>NaN</td>\n",
              "      <td>NaN</td>\n",
              "      <td>NaN</td>\n",
              "      <td>NaN</td>\n",
              "      <td>NaN</td>\n",
              "    </tr>\n",
              "    <tr>\n",
              "      <th>3</th>\n",
              "      <td>2015</td>\n",
              "      <td>1</td>\n",
              "      <td>1</td>\n",
              "      <td>4</td>\n",
              "      <td>AA</td>\n",
              "      <td>258</td>\n",
              "      <td>N3HYAA</td>\n",
              "      <td>LAX</td>\n",
              "      <td>MIA</td>\n",
              "      <td>20</td>\n",
              "      <td>15.0</td>\n",
              "      <td>-5.0</td>\n",
              "      <td>15.0</td>\n",
              "      <td>30.0</td>\n",
              "      <td>285.0</td>\n",
              "      <td>281.0</td>\n",
              "      <td>258.0</td>\n",
              "      <td>2342</td>\n",
              "      <td>748.0</td>\n",
              "      <td>8.0</td>\n",
              "      <td>805</td>\n",
              "      <td>756.0</td>\n",
              "      <td>-9.0</td>\n",
              "      <td>0</td>\n",
              "      <td>0</td>\n",
              "      <td>NaN</td>\n",
              "      <td>NaN</td>\n",
              "      <td>NaN</td>\n",
              "      <td>NaN</td>\n",
              "      <td>NaN</td>\n",
              "      <td>NaN</td>\n",
              "    </tr>\n",
              "    <tr>\n",
              "      <th>4</th>\n",
              "      <td>2015</td>\n",
              "      <td>1</td>\n",
              "      <td>1</td>\n",
              "      <td>4</td>\n",
              "      <td>AS</td>\n",
              "      <td>135</td>\n",
              "      <td>N527AS</td>\n",
              "      <td>SEA</td>\n",
              "      <td>ANC</td>\n",
              "      <td>25</td>\n",
              "      <td>24.0</td>\n",
              "      <td>-1.0</td>\n",
              "      <td>11.0</td>\n",
              "      <td>35.0</td>\n",
              "      <td>235.0</td>\n",
              "      <td>215.0</td>\n",
              "      <td>199.0</td>\n",
              "      <td>1448</td>\n",
              "      <td>254.0</td>\n",
              "      <td>5.0</td>\n",
              "      <td>320</td>\n",
              "      <td>259.0</td>\n",
              "      <td>-21.0</td>\n",
              "      <td>0</td>\n",
              "      <td>0</td>\n",
              "      <td>NaN</td>\n",
              "      <td>NaN</td>\n",
              "      <td>NaN</td>\n",
              "      <td>NaN</td>\n",
              "      <td>NaN</td>\n",
              "      <td>NaN</td>\n",
              "    </tr>\n",
              "  </tbody>\n",
              "</table>\n",
              "</div>"
            ],
            "text/plain": [
              "   YEAR  MONTH  DAY  ...  AIRLINE_DELAY LATE_AIRCRAFT_DELAY  WEATHER_DELAY\n",
              "0  2015      1    1  ...            NaN                 NaN            NaN\n",
              "1  2015      1    1  ...            NaN                 NaN            NaN\n",
              "2  2015      1    1  ...            NaN                 NaN            NaN\n",
              "3  2015      1    1  ...            NaN                 NaN            NaN\n",
              "4  2015      1    1  ...            NaN                 NaN            NaN\n",
              "\n",
              "[5 rows x 31 columns]"
            ]
          },
          "metadata": {
            "tags": []
          },
          "execution_count": 9
        }
      ]
    },
    {
      "cell_type": "code",
      "metadata": {
        "id": "6YYGWHv2_utY",
        "colab_type": "code",
        "colab": {
          "base_uri": "https://localhost:8080/",
          "height": 153
        },
        "outputId": "315769fa-8185-40e6-f828-92d92b7c058e"
      },
      "source": [
        "airport.isnull().sum()"
      ],
      "execution_count": 10,
      "outputs": [
        {
          "output_type": "execute_result",
          "data": {
            "text/plain": [
              "IATA_CODE    0\n",
              "AIRPORT      0\n",
              "CITY         0\n",
              "STATE        0\n",
              "COUNTRY      0\n",
              "LATITUDE     3\n",
              "LONGITUDE    3\n",
              "dtype: int64"
            ]
          },
          "metadata": {
            "tags": []
          },
          "execution_count": 10
        }
      ]
    },
    {
      "cell_type": "code",
      "metadata": {
        "id": "p-IuK2L-_xFj",
        "colab_type": "code",
        "colab": {}
      },
      "source": [
        "airport = airport.dropna(subset = ['LATITUDE','LONGITUDE'])"
      ],
      "execution_count": 0,
      "outputs": []
    },
    {
      "cell_type": "code",
      "metadata": {
        "id": "f5g1kpGr_y6V",
        "colab_type": "code",
        "colab": {
          "base_uri": "https://localhost:8080/",
          "height": 153
        },
        "outputId": "988fef91-7f5b-477f-c416-f8b5f2fd1102"
      },
      "source": [
        "airport.isnull().sum()"
      ],
      "execution_count": 12,
      "outputs": [
        {
          "output_type": "execute_result",
          "data": {
            "text/plain": [
              "IATA_CODE    0\n",
              "AIRPORT      0\n",
              "CITY         0\n",
              "STATE        0\n",
              "COUNTRY      0\n",
              "LATITUDE     0\n",
              "LONGITUDE    0\n",
              "dtype: int64"
            ]
          },
          "metadata": {
            "tags": []
          },
          "execution_count": 12
        }
      ]
    },
    {
      "cell_type": "code",
      "metadata": {
        "id": "0uWt1gQm_0Sl",
        "colab_type": "code",
        "colab": {
          "base_uri": "https://localhost:8080/",
          "height": 359
        },
        "outputId": "0a4f5a0e-c9dd-461d-e56a-6d5fc9fdd69a"
      },
      "source": [
        "airport.head(10)"
      ],
      "execution_count": 13,
      "outputs": [
        {
          "output_type": "execute_result",
          "data": {
            "text/html": [
              "<div>\n",
              "<style scoped>\n",
              "    .dataframe tbody tr th:only-of-type {\n",
              "        vertical-align: middle;\n",
              "    }\n",
              "\n",
              "    .dataframe tbody tr th {\n",
              "        vertical-align: top;\n",
              "    }\n",
              "\n",
              "    .dataframe thead th {\n",
              "        text-align: right;\n",
              "    }\n",
              "</style>\n",
              "<table border=\"1\" class=\"dataframe\">\n",
              "  <thead>\n",
              "    <tr style=\"text-align: right;\">\n",
              "      <th></th>\n",
              "      <th>IATA_CODE</th>\n",
              "      <th>AIRPORT</th>\n",
              "      <th>CITY</th>\n",
              "      <th>STATE</th>\n",
              "      <th>COUNTRY</th>\n",
              "      <th>LATITUDE</th>\n",
              "      <th>LONGITUDE</th>\n",
              "    </tr>\n",
              "  </thead>\n",
              "  <tbody>\n",
              "    <tr>\n",
              "      <th>0</th>\n",
              "      <td>ABE</td>\n",
              "      <td>Lehigh Valley International Airport</td>\n",
              "      <td>Allentown</td>\n",
              "      <td>PA</td>\n",
              "      <td>USA</td>\n",
              "      <td>40.65236</td>\n",
              "      <td>-75.44040</td>\n",
              "    </tr>\n",
              "    <tr>\n",
              "      <th>1</th>\n",
              "      <td>ABI</td>\n",
              "      <td>Abilene Regional Airport</td>\n",
              "      <td>Abilene</td>\n",
              "      <td>TX</td>\n",
              "      <td>USA</td>\n",
              "      <td>32.41132</td>\n",
              "      <td>-99.68190</td>\n",
              "    </tr>\n",
              "    <tr>\n",
              "      <th>2</th>\n",
              "      <td>ABQ</td>\n",
              "      <td>Albuquerque International Sunport</td>\n",
              "      <td>Albuquerque</td>\n",
              "      <td>NM</td>\n",
              "      <td>USA</td>\n",
              "      <td>35.04022</td>\n",
              "      <td>-106.60919</td>\n",
              "    </tr>\n",
              "    <tr>\n",
              "      <th>3</th>\n",
              "      <td>ABR</td>\n",
              "      <td>Aberdeen Regional Airport</td>\n",
              "      <td>Aberdeen</td>\n",
              "      <td>SD</td>\n",
              "      <td>USA</td>\n",
              "      <td>45.44906</td>\n",
              "      <td>-98.42183</td>\n",
              "    </tr>\n",
              "    <tr>\n",
              "      <th>4</th>\n",
              "      <td>ABY</td>\n",
              "      <td>Southwest Georgia Regional Airport</td>\n",
              "      <td>Albany</td>\n",
              "      <td>GA</td>\n",
              "      <td>USA</td>\n",
              "      <td>31.53552</td>\n",
              "      <td>-84.19447</td>\n",
              "    </tr>\n",
              "    <tr>\n",
              "      <th>5</th>\n",
              "      <td>ACK</td>\n",
              "      <td>Nantucket Memorial Airport</td>\n",
              "      <td>Nantucket</td>\n",
              "      <td>MA</td>\n",
              "      <td>USA</td>\n",
              "      <td>41.25305</td>\n",
              "      <td>-70.06018</td>\n",
              "    </tr>\n",
              "    <tr>\n",
              "      <th>6</th>\n",
              "      <td>ACT</td>\n",
              "      <td>Waco Regional Airport</td>\n",
              "      <td>Waco</td>\n",
              "      <td>TX</td>\n",
              "      <td>USA</td>\n",
              "      <td>31.61129</td>\n",
              "      <td>-97.23052</td>\n",
              "    </tr>\n",
              "    <tr>\n",
              "      <th>7</th>\n",
              "      <td>ACV</td>\n",
              "      <td>Arcata Airport</td>\n",
              "      <td>Arcata/Eureka</td>\n",
              "      <td>CA</td>\n",
              "      <td>USA</td>\n",
              "      <td>40.97812</td>\n",
              "      <td>-124.10862</td>\n",
              "    </tr>\n",
              "    <tr>\n",
              "      <th>8</th>\n",
              "      <td>ACY</td>\n",
              "      <td>Atlantic City International Airport</td>\n",
              "      <td>Atlantic City</td>\n",
              "      <td>NJ</td>\n",
              "      <td>USA</td>\n",
              "      <td>39.45758</td>\n",
              "      <td>-74.57717</td>\n",
              "    </tr>\n",
              "    <tr>\n",
              "      <th>9</th>\n",
              "      <td>ADK</td>\n",
              "      <td>Adak Airport</td>\n",
              "      <td>Adak</td>\n",
              "      <td>AK</td>\n",
              "      <td>USA</td>\n",
              "      <td>51.87796</td>\n",
              "      <td>-176.64603</td>\n",
              "    </tr>\n",
              "  </tbody>\n",
              "</table>\n",
              "</div>"
            ],
            "text/plain": [
              "  IATA_CODE                              AIRPORT  ...  LATITUDE  LONGITUDE\n",
              "0       ABE  Lehigh Valley International Airport  ...  40.65236  -75.44040\n",
              "1       ABI             Abilene Regional Airport  ...  32.41132  -99.68190\n",
              "2       ABQ    Albuquerque International Sunport  ...  35.04022 -106.60919\n",
              "3       ABR            Aberdeen Regional Airport  ...  45.44906  -98.42183\n",
              "4       ABY   Southwest Georgia Regional Airport  ...  31.53552  -84.19447\n",
              "5       ACK           Nantucket Memorial Airport  ...  41.25305  -70.06018\n",
              "6       ACT                Waco Regional Airport  ...  31.61129  -97.23052\n",
              "7       ACV                       Arcata Airport  ...  40.97812 -124.10862\n",
              "8       ACY  Atlantic City International Airport  ...  39.45758  -74.57717\n",
              "9       ADK                         Adak Airport  ...  51.87796 -176.64603\n",
              "\n",
              "[10 rows x 7 columns]"
            ]
          },
          "metadata": {
            "tags": []
          },
          "execution_count": 13
        }
      ]
    },
    {
      "cell_type": "code",
      "metadata": {
        "id": "NK6OeCyP_1fd",
        "colab_type": "code",
        "colab": {
          "base_uri": "https://localhost:8080/",
          "height": 483
        },
        "outputId": "ab5f5fff-9b37-477c-8e65-ca9ba82e7f0b"
      },
      "source": [
        "airlines"
      ],
      "execution_count": 14,
      "outputs": [
        {
          "output_type": "execute_result",
          "data": {
            "text/html": [
              "<div>\n",
              "<style scoped>\n",
              "    .dataframe tbody tr th:only-of-type {\n",
              "        vertical-align: middle;\n",
              "    }\n",
              "\n",
              "    .dataframe tbody tr th {\n",
              "        vertical-align: top;\n",
              "    }\n",
              "\n",
              "    .dataframe thead th {\n",
              "        text-align: right;\n",
              "    }\n",
              "</style>\n",
              "<table border=\"1\" class=\"dataframe\">\n",
              "  <thead>\n",
              "    <tr style=\"text-align: right;\">\n",
              "      <th></th>\n",
              "      <th>IATA_CODE</th>\n",
              "      <th>AIRLINE</th>\n",
              "    </tr>\n",
              "  </thead>\n",
              "  <tbody>\n",
              "    <tr>\n",
              "      <th>0</th>\n",
              "      <td>UA</td>\n",
              "      <td>United Air Lines Inc.</td>\n",
              "    </tr>\n",
              "    <tr>\n",
              "      <th>1</th>\n",
              "      <td>AA</td>\n",
              "      <td>American Airlines Inc.</td>\n",
              "    </tr>\n",
              "    <tr>\n",
              "      <th>2</th>\n",
              "      <td>US</td>\n",
              "      <td>US Airways Inc.</td>\n",
              "    </tr>\n",
              "    <tr>\n",
              "      <th>3</th>\n",
              "      <td>F9</td>\n",
              "      <td>Frontier Airlines Inc.</td>\n",
              "    </tr>\n",
              "    <tr>\n",
              "      <th>4</th>\n",
              "      <td>B6</td>\n",
              "      <td>JetBlue Airways</td>\n",
              "    </tr>\n",
              "    <tr>\n",
              "      <th>5</th>\n",
              "      <td>OO</td>\n",
              "      <td>Skywest Airlines Inc.</td>\n",
              "    </tr>\n",
              "    <tr>\n",
              "      <th>6</th>\n",
              "      <td>AS</td>\n",
              "      <td>Alaska Airlines Inc.</td>\n",
              "    </tr>\n",
              "    <tr>\n",
              "      <th>7</th>\n",
              "      <td>NK</td>\n",
              "      <td>Spirit Air Lines</td>\n",
              "    </tr>\n",
              "    <tr>\n",
              "      <th>8</th>\n",
              "      <td>WN</td>\n",
              "      <td>Southwest Airlines Co.</td>\n",
              "    </tr>\n",
              "    <tr>\n",
              "      <th>9</th>\n",
              "      <td>DL</td>\n",
              "      <td>Delta Air Lines Inc.</td>\n",
              "    </tr>\n",
              "    <tr>\n",
              "      <th>10</th>\n",
              "      <td>EV</td>\n",
              "      <td>Atlantic Southeast Airlines</td>\n",
              "    </tr>\n",
              "    <tr>\n",
              "      <th>11</th>\n",
              "      <td>HA</td>\n",
              "      <td>Hawaiian Airlines Inc.</td>\n",
              "    </tr>\n",
              "    <tr>\n",
              "      <th>12</th>\n",
              "      <td>MQ</td>\n",
              "      <td>American Eagle Airlines Inc.</td>\n",
              "    </tr>\n",
              "    <tr>\n",
              "      <th>13</th>\n",
              "      <td>VX</td>\n",
              "      <td>Virgin America</td>\n",
              "    </tr>\n",
              "  </tbody>\n",
              "</table>\n",
              "</div>"
            ],
            "text/plain": [
              "   IATA_CODE                       AIRLINE\n",
              "0         UA         United Air Lines Inc.\n",
              "1         AA        American Airlines Inc.\n",
              "2         US               US Airways Inc.\n",
              "3         F9        Frontier Airlines Inc.\n",
              "4         B6               JetBlue Airways\n",
              "5         OO         Skywest Airlines Inc.\n",
              "6         AS          Alaska Airlines Inc.\n",
              "7         NK              Spirit Air Lines\n",
              "8         WN        Southwest Airlines Co.\n",
              "9         DL          Delta Air Lines Inc.\n",
              "10        EV   Atlantic Southeast Airlines\n",
              "11        HA        Hawaiian Airlines Inc.\n",
              "12        MQ  American Eagle Airlines Inc.\n",
              "13        VX                Virgin America"
            ]
          },
          "metadata": {
            "tags": []
          },
          "execution_count": 14
        }
      ]
    },
    {
      "cell_type": "code",
      "metadata": {
        "id": "PzR-DvTn_3lt",
        "colab_type": "code",
        "colab": {
          "base_uri": "https://localhost:8080/",
          "height": 561
        },
        "outputId": "93820bed-5c7c-4323-f5a5-dc54f46b0983"
      },
      "source": [
        "Data_NULL = data.isnull().sum()*100/data.shape[0]\n",
        "Data_NULL"
      ],
      "execution_count": 15,
      "outputs": [
        {
          "output_type": "execute_result",
          "data": {
            "text/plain": [
              "YEAR                    0.000000\n",
              "MONTH                   0.000000\n",
              "DAY                     0.000000\n",
              "DAY_OF_WEEK             0.000000\n",
              "AIRLINE                 0.000000\n",
              "FLIGHT_NUMBER           0.000000\n",
              "TAIL_NUMBER             0.252978\n",
              "ORIGIN_AIRPORT          0.000000\n",
              "DESTINATION_AIRPORT     0.000000\n",
              "SCHEDULED_DEPARTURE     0.000000\n",
              "DEPARTURE_TIME          1.480526\n",
              "DEPARTURE_DELAY         1.480526\n",
              "TAXI_OUT                1.530259\n",
              "WHEELS_OFF              1.530259\n",
              "SCHEDULED_TIME          0.000103\n",
              "ELAPSED_TIME            1.805629\n",
              "AIR_TIME                1.805629\n",
              "DISTANCE                0.000000\n",
              "WHEELS_ON               1.589822\n",
              "TAXI_IN                 1.589822\n",
              "SCHEDULED_ARRIVAL       0.000000\n",
              "ARRIVAL_TIME            1.589822\n",
              "ARRIVAL_DELAY           1.805629\n",
              "DIVERTED                0.000000\n",
              "CANCELLED               0.000000\n",
              "CANCELLATION_REASON    98.455357\n",
              "AIR_SYSTEM_DELAY       81.724960\n",
              "SECURITY_DELAY         81.724960\n",
              "AIRLINE_DELAY          81.724960\n",
              "LATE_AIRCRAFT_DELAY    81.724960\n",
              "WEATHER_DELAY          81.724960\n",
              "dtype: float64"
            ]
          },
          "metadata": {
            "tags": []
          },
          "execution_count": 15
        }
      ]
    },
    {
      "cell_type": "markdown",
      "metadata": {
        "id": "Q7mGb4Gy_-d7",
        "colab_type": "text"
      },
      "source": [
        "We can see that 96% of the values in Cancellation reason column are null for which it is of less use while predicting Delays. Some other columns include 78.2% in Air System Delay, Security Delay, Airline Delay, Weather Delay etc. So I am going to create two Dataset which is having no null values one is by removing all the null values irrespective of different types of Delays and other I am going to take the data set with respect to different types of delays. The first Dataset is named as Flights and the other one is named as Flight_Delays."
      ]
    },
    {
      "cell_type": "code",
      "metadata": {
        "id": "T_N32DZJ_6R8",
        "colab_type": "code",
        "colab": {}
      },
      "source": [
        "# Dropping of subset of null values\n",
        "data1 = data.dropna(subset = [\"TAIL_NUMBER\",'DEPARTURE_TIME','DEPARTURE_DELAY','TAXI_OUT','WHEELS_OFF','SCHEDULED_TIME',\n",
        "             'ELAPSED_TIME','AIR_TIME','WHEELS_ON','TAXI_IN','ARRIVAL_TIME','ARRIVAL_DELAY'])"
      ],
      "execution_count": 0,
      "outputs": []
    },
    {
      "cell_type": "code",
      "metadata": {
        "id": "NnMWlX2PABAS",
        "colab_type": "code",
        "colab": {
          "base_uri": "https://localhost:8080/",
          "height": 34
        },
        "outputId": "042a138d-6374-4beb-b032-2cb55ee73481"
      },
      "source": [
        "data1.shape"
      ],
      "execution_count": 17,
      "outputs": [
        {
          "output_type": "execute_result",
          "data": {
            "text/plain": [
              "(5714008, 31)"
            ]
          },
          "metadata": {
            "tags": []
          },
          "execution_count": 17
        }
      ]
    },
    {
      "cell_type": "code",
      "metadata": {
        "id": "KTW7ml6bACVx",
        "colab_type": "code",
        "colab": {
          "base_uri": "https://localhost:8080/",
          "height": 561
        },
        "outputId": "715936a0-a5fc-41f1-ee23-8b5c5cf7b75e"
      },
      "source": [
        "data1.isnull().sum()"
      ],
      "execution_count": 18,
      "outputs": [
        {
          "output_type": "execute_result",
          "data": {
            "text/plain": [
              "YEAR                         0\n",
              "MONTH                        0\n",
              "DAY                          0\n",
              "DAY_OF_WEEK                  0\n",
              "AIRLINE                      0\n",
              "FLIGHT_NUMBER                0\n",
              "TAIL_NUMBER                  0\n",
              "ORIGIN_AIRPORT               0\n",
              "DESTINATION_AIRPORT          0\n",
              "SCHEDULED_DEPARTURE          0\n",
              "DEPARTURE_TIME               0\n",
              "DEPARTURE_DELAY              0\n",
              "TAXI_OUT                     0\n",
              "WHEELS_OFF                   0\n",
              "SCHEDULED_TIME               0\n",
              "ELAPSED_TIME                 0\n",
              "AIR_TIME                     0\n",
              "DISTANCE                     0\n",
              "WHEELS_ON                    0\n",
              "TAXI_IN                      0\n",
              "SCHEDULED_ARRIVAL            0\n",
              "ARRIVAL_TIME                 0\n",
              "ARRIVAL_DELAY                0\n",
              "DIVERTED                     0\n",
              "CANCELLED                    0\n",
              "CANCELLATION_REASON    5714008\n",
              "AIR_SYSTEM_DELAY       4650569\n",
              "SECURITY_DELAY         4650569\n",
              "AIRLINE_DELAY          4650569\n",
              "LATE_AIRCRAFT_DELAY    4650569\n",
              "WEATHER_DELAY          4650569\n",
              "dtype: int64"
            ]
          },
          "metadata": {
            "tags": []
          },
          "execution_count": 18
        }
      ]
    },
    {
      "cell_type": "code",
      "metadata": {
        "id": "kuRqFAqcFkps",
        "colab_type": "code",
        "colab": {}
      },
      "source": [
        "sb.heatmap(data1.isnull(),yticklabels=False,cbar=False,cmap='viridis')"
      ],
      "execution_count": 0,
      "outputs": []
    },
    {
      "cell_type": "code",
      "metadata": {
        "id": "AL8ANtQfADuU",
        "colab_type": "code",
        "colab": {}
      },
      "source": [
        "# Creting Dataset w.r.t different Types of Delays\n",
        "data11 = data1.dropna(subset = ['AIR_SYSTEM_DELAY','SECURITY_DELAY','AIRLINE_DELAY','LATE_AIRCRAFT_DELAY','WEATHER_DELAY'])\n",
        "data11 = data11.drop(['YEAR','MONTH','DAY','DAY_OF_WEEK','TAIL_NUMBER','SCHEDULED_DEPARTURE','DEPARTURE_TIME','SCHEDULED_TIME',\n",
        "                     'SCHEDULED_ARRIVAL','ARRIVAL_TIME','DIVERTED','CANCELLED','CANCELLATION_REASON','FLIGHT_NUMBER','WHEELS_OFF',\n",
        "                     'WHEELS_ON','AIR_TIME'],axis = 1)"
      ],
      "execution_count": 0,
      "outputs": []
    },
    {
      "cell_type": "code",
      "metadata": {
        "id": "E4bY4WoWAFaJ",
        "colab_type": "code",
        "colab": {
          "base_uri": "https://localhost:8080/",
          "height": 340
        },
        "outputId": "c93a332d-8219-406d-cfcd-fc6cdfcbed6b"
      },
      "source": [
        "data11.info()"
      ],
      "execution_count": 20,
      "outputs": [
        {
          "output_type": "stream",
          "text": [
            "<class 'pandas.core.frame.DataFrame'>\n",
            "Int64Index: 1063439 entries, 27 to 5819071\n",
            "Data columns (total 14 columns):\n",
            "AIRLINE                1063439 non-null object\n",
            "ORIGIN_AIRPORT         1063439 non-null object\n",
            "DESTINATION_AIRPORT    1063439 non-null object\n",
            "DEPARTURE_DELAY        1063439 non-null float64\n",
            "TAXI_OUT               1063439 non-null float64\n",
            "ELAPSED_TIME           1063439 non-null float64\n",
            "DISTANCE               1063439 non-null int64\n",
            "TAXI_IN                1063439 non-null float64\n",
            "ARRIVAL_DELAY          1063439 non-null float64\n",
            "AIR_SYSTEM_DELAY       1063439 non-null float64\n",
            "SECURITY_DELAY         1063439 non-null float64\n",
            "AIRLINE_DELAY          1063439 non-null float64\n",
            "LATE_AIRCRAFT_DELAY    1063439 non-null float64\n",
            "WEATHER_DELAY          1063439 non-null float64\n",
            "dtypes: float64(10), int64(1), object(3)\n",
            "memory usage: 121.7+ MB\n"
          ],
          "name": "stdout"
        }
      ]
    },
    {
      "cell_type": "code",
      "metadata": {
        "id": "GtwR_EqVAGds",
        "colab_type": "code",
        "colab": {}
      },
      "source": [
        "# The other Dataset\n",
        "Flight_Delays = data11"
      ],
      "execution_count": 0,
      "outputs": []
    },
    {
      "cell_type": "code",
      "metadata": {
        "id": "7w4CgtWjAIvo",
        "colab_type": "code",
        "colab": {}
      },
      "source": [
        "# Creating Dataset by removing null values by not focussing fully on different types of Delays\n",
        "data2 = data1.drop(['CANCELLATION_REASON','AIR_SYSTEM_DELAY','SECURITY_DELAY','AIRLINE_DELAY',\n",
        "                    'LATE_AIRCRAFT_DELAY','WEATHER_DELAY'],axis = 1)"
      ],
      "execution_count": 0,
      "outputs": []
    },
    {
      "cell_type": "code",
      "metadata": {
        "id": "KWp5CjR2AKRb",
        "colab_type": "code",
        "colab": {
          "base_uri": "https://localhost:8080/",
          "height": 459
        },
        "outputId": "c2d828a4-84d3-4639-a03f-30b0ae9e8e88"
      },
      "source": [
        "data2.isnull().sum()"
      ],
      "execution_count": 23,
      "outputs": [
        {
          "output_type": "execute_result",
          "data": {
            "text/plain": [
              "YEAR                   0\n",
              "MONTH                  0\n",
              "DAY                    0\n",
              "DAY_OF_WEEK            0\n",
              "AIRLINE                0\n",
              "FLIGHT_NUMBER          0\n",
              "TAIL_NUMBER            0\n",
              "ORIGIN_AIRPORT         0\n",
              "DESTINATION_AIRPORT    0\n",
              "SCHEDULED_DEPARTURE    0\n",
              "DEPARTURE_TIME         0\n",
              "DEPARTURE_DELAY        0\n",
              "TAXI_OUT               0\n",
              "WHEELS_OFF             0\n",
              "SCHEDULED_TIME         0\n",
              "ELAPSED_TIME           0\n",
              "AIR_TIME               0\n",
              "DISTANCE               0\n",
              "WHEELS_ON              0\n",
              "TAXI_IN                0\n",
              "SCHEDULED_ARRIVAL      0\n",
              "ARRIVAL_TIME           0\n",
              "ARRIVAL_DELAY          0\n",
              "DIVERTED               0\n",
              "CANCELLED              0\n",
              "dtype: int64"
            ]
          },
          "metadata": {
            "tags": []
          },
          "execution_count": 23
        }
      ]
    },
    {
      "cell_type": "code",
      "metadata": {
        "id": "J3BfqxQgAMgZ",
        "colab_type": "code",
        "colab": {
          "base_uri": "https://localhost:8080/",
          "height": 34
        },
        "outputId": "59100e86-50fc-4a16-960d-bfb1eae8d8b3"
      },
      "source": [
        "data2.shape"
      ],
      "execution_count": 24,
      "outputs": [
        {
          "output_type": "execute_result",
          "data": {
            "text/plain": [
              "(5714008, 25)"
            ]
          },
          "metadata": {
            "tags": []
          },
          "execution_count": 24
        }
      ]
    },
    {
      "cell_type": "code",
      "metadata": {
        "id": "E76zEn-zANzl",
        "colab_type": "code",
        "colab": {
          "base_uri": "https://localhost:8080/",
          "height": 527
        },
        "outputId": "d9137b64-a2fa-4cac-8168-f27076dc95e8"
      },
      "source": [
        "data2.info()"
      ],
      "execution_count": 25,
      "outputs": [
        {
          "output_type": "stream",
          "text": [
            "<class 'pandas.core.frame.DataFrame'>\n",
            "Int64Index: 5714008 entries, 0 to 5819078\n",
            "Data columns (total 25 columns):\n",
            "YEAR                   int64\n",
            "MONTH                  int64\n",
            "DAY                    int64\n",
            "DAY_OF_WEEK            int64\n",
            "AIRLINE                object\n",
            "FLIGHT_NUMBER          int64\n",
            "TAIL_NUMBER            object\n",
            "ORIGIN_AIRPORT         object\n",
            "DESTINATION_AIRPORT    object\n",
            "SCHEDULED_DEPARTURE    int64\n",
            "DEPARTURE_TIME         float64\n",
            "DEPARTURE_DELAY        float64\n",
            "TAXI_OUT               float64\n",
            "WHEELS_OFF             float64\n",
            "SCHEDULED_TIME         float64\n",
            "ELAPSED_TIME           float64\n",
            "AIR_TIME               float64\n",
            "DISTANCE               int64\n",
            "WHEELS_ON              float64\n",
            "TAXI_IN                float64\n",
            "SCHEDULED_ARRIVAL      int64\n",
            "ARRIVAL_TIME           float64\n",
            "ARRIVAL_DELAY          float64\n",
            "DIVERTED               int64\n",
            "CANCELLED              int64\n",
            "dtypes: float64(11), int64(10), object(4)\n",
            "memory usage: 1.1+ GB\n"
          ],
          "name": "stdout"
        }
      ]
    },
    {
      "cell_type": "code",
      "metadata": {
        "id": "XeS9LmgyAO1A",
        "colab_type": "code",
        "colab": {
          "base_uri": "https://localhost:8080/",
          "height": 34
        },
        "outputId": "e95ede01-4fb5-4112-917b-fd9b29b44f38"
      },
      "source": [
        "data2.DEPARTURE_TIME.isnull().sum()"
      ],
      "execution_count": 26,
      "outputs": [
        {
          "output_type": "execute_result",
          "data": {
            "text/plain": [
              "0"
            ]
          },
          "metadata": {
            "tags": []
          },
          "execution_count": 26
        }
      ]
    },
    {
      "cell_type": "code",
      "metadata": {
        "id": "HhHouJEAAQu7",
        "colab_type": "code",
        "colab": {
          "base_uri": "https://localhost:8080/",
          "height": 34
        },
        "outputId": "0c54c367-1e15-48f2-ca16-e253b584abc8"
      },
      "source": [
        "data2.DEPARTURE_TIME.dtype"
      ],
      "execution_count": 27,
      "outputs": [
        {
          "output_type": "execute_result",
          "data": {
            "text/plain": [
              "dtype('float64')"
            ]
          },
          "metadata": {
            "tags": []
          },
          "execution_count": 27
        }
      ]
    },
    {
      "cell_type": "markdown",
      "metadata": {
        "id": "4Y3pig66AXNy",
        "colab_type": "text"
      },
      "source": [
        "The departure time above is not very much informative so we are going to change it in the datetime format so that we get a better idea of the time."
      ]
    },
    {
      "cell_type": "code",
      "metadata": {
        "id": "51jZQuvOAWeF",
        "colab_type": "code",
        "colab": {}
      },
      "source": [
        "import datetime\n",
        "# Creating a function to change the way of representation of time in the column\n",
        "def Format_Hourmin(hours):\n",
        "        if hours == 2400:\n",
        "            hours = 0\n",
        "        else:\n",
        "            hours = \"{0:04d}\".format(int(hours))\n",
        "            Hourmin = datetime.time(int(hours[0:2]), int(hours[2:4]))\n",
        "            return Hourmin"
      ],
      "execution_count": 0,
      "outputs": []
    },
    {
      "cell_type": "code",
      "metadata": {
        "id": "0wKVxapdATOX",
        "colab_type": "code",
        "colab": {
          "base_uri": "https://localhost:8080/",
          "height": 221
        },
        "outputId": "485eb40f-6114-4f5e-c7ca-c938ff67bc87"
      },
      "source": [
        "data2['Actual_Departure'] =data1['DEPARTURE_TIME'].apply(Format_Hourmin)\n",
        "data2['Actual_Departure']"
      ],
      "execution_count": 31,
      "outputs": [
        {
          "output_type": "execute_result",
          "data": {
            "text/plain": [
              "0          23:54:00\n",
              "1          00:02:00\n",
              "2          00:18:00\n",
              "3          00:15:00\n",
              "4          00:24:00\n",
              "             ...   \n",
              "5819074    23:55:00\n",
              "5819075    23:55:00\n",
              "5819076    23:50:00\n",
              "5819077    23:53:00\n",
              "5819078    00:14:00\n",
              "Name: Actual_Departure, Length: 5714008, dtype: object"
            ]
          },
          "metadata": {
            "tags": []
          },
          "execution_count": 31
        }
      ]
    },
    {
      "cell_type": "code",
      "metadata": {
        "id": "WcaDB8NyAZ6u",
        "colab_type": "code",
        "colab": {
          "base_uri": "https://localhost:8080/",
          "height": 136
        },
        "outputId": "9f859288-4fe5-4ae5-a145-ca14cbc2b990"
      },
      "source": [
        "data2.columns"
      ],
      "execution_count": 32,
      "outputs": [
        {
          "output_type": "execute_result",
          "data": {
            "text/plain": [
              "Index(['YEAR', 'MONTH', 'DAY', 'DAY_OF_WEEK', 'AIRLINE', 'FLIGHT_NUMBER',\n",
              "       'TAIL_NUMBER', 'ORIGIN_AIRPORT', 'DESTINATION_AIRPORT',\n",
              "       'SCHEDULED_DEPARTURE', 'DEPARTURE_TIME', 'DEPARTURE_DELAY', 'TAXI_OUT',\n",
              "       'WHEELS_OFF', 'SCHEDULED_TIME', 'ELAPSED_TIME', 'AIR_TIME', 'DISTANCE',\n",
              "       'WHEELS_ON', 'TAXI_IN', 'SCHEDULED_ARRIVAL', 'ARRIVAL_TIME',\n",
              "       'ARRIVAL_DELAY', 'DIVERTED', 'CANCELLED', 'Actual_Departure'],\n",
              "      dtype='object')"
            ]
          },
          "metadata": {
            "tags": []
          },
          "execution_count": 32
        }
      ]
    },
    {
      "cell_type": "code",
      "metadata": {
        "id": "cXSSpuQEAkgE",
        "colab_type": "code",
        "colab": {
          "base_uri": "https://localhost:8080/",
          "height": 221
        },
        "outputId": "6bf06183-fc5e-48f9-fb13-8caa5cc2cf0c"
      },
      "source": [
        "# Creating Date in the Datetime format\n",
        "data2['Date'] = pd.to_datetime(data2[['YEAR','MONTH','DAY']])\n",
        "data2.Date"
      ],
      "execution_count": 33,
      "outputs": [
        {
          "output_type": "execute_result",
          "data": {
            "text/plain": [
              "0         2015-01-01\n",
              "1         2015-01-01\n",
              "2         2015-01-01\n",
              "3         2015-01-01\n",
              "4         2015-01-01\n",
              "             ...    \n",
              "5819074   2015-12-31\n",
              "5819075   2015-12-31\n",
              "5819076   2015-12-31\n",
              "5819077   2015-12-31\n",
              "5819078   2015-12-31\n",
              "Name: Date, Length: 5714008, dtype: datetime64[ns]"
            ]
          },
          "metadata": {
            "tags": []
          },
          "execution_count": 33
        }
      ]
    },
    {
      "cell_type": "code",
      "metadata": {
        "id": "uUg_TZgqAoEO",
        "colab_type": "code",
        "colab": {}
      },
      "source": [
        "data2['Day'] = data2['Date'].dt.weekday_name"
      ],
      "execution_count": 0,
      "outputs": []
    },
    {
      "cell_type": "code",
      "metadata": {
        "id": "_zScb871AqO3",
        "colab_type": "code",
        "colab": {}
      },
      "source": [
        "# Applying the function to required variables in the dataset\n",
        "data2['Actual_Departure'] =data1['DEPARTURE_TIME'].apply(Format_Hourmin)\n",
        "data2['Scheduled_Arrival'] =data1['SCHEDULED_ARRIVAL'].apply(Format_Hourmin)\n",
        "data2['Scheduled_Departure'] =data1['SCHEDULED_DEPARTURE'].apply(Format_Hourmin)\n",
        "data2['Actual_Arrival'] =data1['ARRIVAL_TIME'].apply(Format_Hourmin)"
      ],
      "execution_count": 0,
      "outputs": []
    },
    {
      "cell_type": "markdown",
      "metadata": {
        "id": "e8_iCbEHAsPL",
        "colab_type": "text"
      },
      "source": [
        "# Merging of 3 data sets\n",
        "Since there are three dataset it is required to merge all the three data set so that we can use it during the visualization in a proper way."
      ]
    },
    {
      "cell_type": "code",
      "metadata": {
        "id": "ck7NboHBArsd",
        "colab_type": "code",
        "colab": {}
      },
      "source": [
        "# Merging on AIRLINE and IATA_CODE\n",
        "data2 = data2.merge(airlines, left_on='AIRLINE', right_on='IATA_CODE', how='inner')"
      ],
      "execution_count": 0,
      "outputs": []
    },
    {
      "cell_type": "code",
      "metadata": {
        "id": "rPgaV5VfBC7u",
        "colab_type": "code",
        "colab": {}
      },
      "source": [
        "data2 = data2.drop(['AIRLINE_x','IATA_CODE'], axis=1)"
      ],
      "execution_count": 0,
      "outputs": []
    },
    {
      "cell_type": "code",
      "metadata": {
        "id": "o80HRP6qBELy",
        "colab_type": "code",
        "colab": {}
      },
      "source": [
        "data2 = data2.rename(columns={\"AIRLINE_y\":\"AIRLINE\"})"
      ],
      "execution_count": 0,
      "outputs": []
    },
    {
      "cell_type": "code",
      "metadata": {
        "id": "dc7sGZMCBFaP",
        "colab_type": "code",
        "colab": {}
      },
      "source": [
        "data2 = data2.merge(airport, left_on='ORIGIN_AIRPORT', right_on='IATA_CODE', how='inner')\n",
        "data2 = data2.merge(airport, left_on='DESTINATION_AIRPORT', right_on='IATA_CODE', how='inner')"
      ],
      "execution_count": 0,
      "outputs": []
    },
    {
      "cell_type": "code",
      "metadata": {
        "id": "e6G00dBjBHAC",
        "colab_type": "code",
        "colab": {
          "base_uri": "https://localhost:8080/",
          "height": 204
        },
        "outputId": "fbe145d3-b69e-41eb-b87c-04d49f0ce6be"
      },
      "source": [
        "data2.columns"
      ],
      "execution_count": 40,
      "outputs": [
        {
          "output_type": "execute_result",
          "data": {
            "text/plain": [
              "Index(['YEAR', 'MONTH', 'DAY', 'DAY_OF_WEEK', 'FLIGHT_NUMBER', 'TAIL_NUMBER',\n",
              "       'ORIGIN_AIRPORT', 'DESTINATION_AIRPORT', 'SCHEDULED_DEPARTURE',\n",
              "       'DEPARTURE_TIME', 'DEPARTURE_DELAY', 'TAXI_OUT', 'WHEELS_OFF',\n",
              "       'SCHEDULED_TIME', 'ELAPSED_TIME', 'AIR_TIME', 'DISTANCE', 'WHEELS_ON',\n",
              "       'TAXI_IN', 'SCHEDULED_ARRIVAL', 'ARRIVAL_TIME', 'ARRIVAL_DELAY',\n",
              "       'DIVERTED', 'CANCELLED', 'Actual_Departure', 'Date', 'Day',\n",
              "       'Scheduled_Arrival', 'Scheduled_Departure', 'Actual_Arrival', 'AIRLINE',\n",
              "       'IATA_CODE_x', 'AIRPORT_x', 'CITY_x', 'STATE_x', 'COUNTRY_x',\n",
              "       'LATITUDE_x', 'LONGITUDE_x', 'IATA_CODE_y', 'AIRPORT_y', 'CITY_y',\n",
              "       'STATE_y', 'COUNTRY_y', 'LATITUDE_y', 'LONGITUDE_y'],\n",
              "      dtype='object')"
            ]
          },
          "metadata": {
            "tags": []
          },
          "execution_count": 40
        }
      ]
    },
    {
      "cell_type": "code",
      "metadata": {
        "id": "sIQszZ1cBIbG",
        "colab_type": "code",
        "colab": {}
      },
      "source": [
        "data2 = data2.drop(['LATITUDE_x', 'LONGITUDE_x',\n",
        "       'STATE_y', 'COUNTRY_y', 'LATITUDE_y', 'LONGITUDE_y','STATE_x', 'COUNTRY_x'], axis=1)"
      ],
      "execution_count": 0,
      "outputs": []
    },
    {
      "cell_type": "code",
      "metadata": {
        "id": "dkcp0c2yBJ0M",
        "colab_type": "code",
        "colab": {}
      },
      "source": [
        "data2 = data2.rename(columns={'IATA_CODE_x':'Org_Airport_Code','AIRPORT_x':'Org_Airport_Name','CITY_x':'Origin_city',\n",
        "                             'IATA_CODE_y':'Dest_Airport_Code','AIRPORT_y':'Dest_Airport_Name','CITY_y':'Destination_city'})"
      ],
      "execution_count": 0,
      "outputs": []
    },
    {
      "cell_type": "code",
      "metadata": {
        "id": "crKbe5HEBLEd",
        "colab_type": "code",
        "colab": {
          "base_uri": "https://localhost:8080/",
          "height": 779
        },
        "outputId": "76231af2-ca77-4301-9589-60dd44bef9c9"
      },
      "source": [
        "data2"
      ],
      "execution_count": 43,
      "outputs": [
        {
          "output_type": "execute_result",
          "data": {
            "text/html": [
              "<div>\n",
              "<style scoped>\n",
              "    .dataframe tbody tr th:only-of-type {\n",
              "        vertical-align: middle;\n",
              "    }\n",
              "\n",
              "    .dataframe tbody tr th {\n",
              "        vertical-align: top;\n",
              "    }\n",
              "\n",
              "    .dataframe thead th {\n",
              "        text-align: right;\n",
              "    }\n",
              "</style>\n",
              "<table border=\"1\" class=\"dataframe\">\n",
              "  <thead>\n",
              "    <tr style=\"text-align: right;\">\n",
              "      <th></th>\n",
              "      <th>YEAR</th>\n",
              "      <th>MONTH</th>\n",
              "      <th>DAY</th>\n",
              "      <th>DAY_OF_WEEK</th>\n",
              "      <th>FLIGHT_NUMBER</th>\n",
              "      <th>TAIL_NUMBER</th>\n",
              "      <th>ORIGIN_AIRPORT</th>\n",
              "      <th>DESTINATION_AIRPORT</th>\n",
              "      <th>SCHEDULED_DEPARTURE</th>\n",
              "      <th>DEPARTURE_TIME</th>\n",
              "      <th>DEPARTURE_DELAY</th>\n",
              "      <th>TAXI_OUT</th>\n",
              "      <th>WHEELS_OFF</th>\n",
              "      <th>SCHEDULED_TIME</th>\n",
              "      <th>ELAPSED_TIME</th>\n",
              "      <th>AIR_TIME</th>\n",
              "      <th>DISTANCE</th>\n",
              "      <th>WHEELS_ON</th>\n",
              "      <th>TAXI_IN</th>\n",
              "      <th>SCHEDULED_ARRIVAL</th>\n",
              "      <th>ARRIVAL_TIME</th>\n",
              "      <th>ARRIVAL_DELAY</th>\n",
              "      <th>DIVERTED</th>\n",
              "      <th>CANCELLED</th>\n",
              "      <th>Actual_Departure</th>\n",
              "      <th>Date</th>\n",
              "      <th>Day</th>\n",
              "      <th>Scheduled_Arrival</th>\n",
              "      <th>Scheduled_Departure</th>\n",
              "      <th>Actual_Arrival</th>\n",
              "      <th>AIRLINE</th>\n",
              "      <th>Org_Airport_Code</th>\n",
              "      <th>Org_Airport_Name</th>\n",
              "      <th>Origin_city</th>\n",
              "      <th>Dest_Airport_Code</th>\n",
              "      <th>Dest_Airport_Name</th>\n",
              "      <th>Destination_city</th>\n",
              "    </tr>\n",
              "  </thead>\n",
              "  <tbody>\n",
              "    <tr>\n",
              "      <th>0</th>\n",
              "      <td>2015</td>\n",
              "      <td>1</td>\n",
              "      <td>1</td>\n",
              "      <td>4</td>\n",
              "      <td>98</td>\n",
              "      <td>N407AS</td>\n",
              "      <td>ANC</td>\n",
              "      <td>SEA</td>\n",
              "      <td>5</td>\n",
              "      <td>2354.0</td>\n",
              "      <td>-11.0</td>\n",
              "      <td>21.0</td>\n",
              "      <td>15.0</td>\n",
              "      <td>205.0</td>\n",
              "      <td>194.0</td>\n",
              "      <td>169.0</td>\n",
              "      <td>1448</td>\n",
              "      <td>404.0</td>\n",
              "      <td>4.0</td>\n",
              "      <td>430</td>\n",
              "      <td>408.0</td>\n",
              "      <td>-22.0</td>\n",
              "      <td>0</td>\n",
              "      <td>0</td>\n",
              "      <td>23:54:00</td>\n",
              "      <td>2015-01-01</td>\n",
              "      <td>Thursday</td>\n",
              "      <td>04:30:00</td>\n",
              "      <td>00:05:00</td>\n",
              "      <td>04:08:00</td>\n",
              "      <td>Alaska Airlines Inc.</td>\n",
              "      <td>ANC</td>\n",
              "      <td>Ted Stevens Anchorage International Airport</td>\n",
              "      <td>Anchorage</td>\n",
              "      <td>SEA</td>\n",
              "      <td>Seattle-Tacoma International Airport</td>\n",
              "      <td>Seattle</td>\n",
              "    </tr>\n",
              "    <tr>\n",
              "      <th>1</th>\n",
              "      <td>2015</td>\n",
              "      <td>1</td>\n",
              "      <td>1</td>\n",
              "      <td>4</td>\n",
              "      <td>108</td>\n",
              "      <td>N309AS</td>\n",
              "      <td>ANC</td>\n",
              "      <td>SEA</td>\n",
              "      <td>45</td>\n",
              "      <td>41.0</td>\n",
              "      <td>-4.0</td>\n",
              "      <td>17.0</td>\n",
              "      <td>58.0</td>\n",
              "      <td>204.0</td>\n",
              "      <td>194.0</td>\n",
              "      <td>173.0</td>\n",
              "      <td>1448</td>\n",
              "      <td>451.0</td>\n",
              "      <td>4.0</td>\n",
              "      <td>509</td>\n",
              "      <td>455.0</td>\n",
              "      <td>-14.0</td>\n",
              "      <td>0</td>\n",
              "      <td>0</td>\n",
              "      <td>00:41:00</td>\n",
              "      <td>2015-01-01</td>\n",
              "      <td>Thursday</td>\n",
              "      <td>05:09:00</td>\n",
              "      <td>00:45:00</td>\n",
              "      <td>04:55:00</td>\n",
              "      <td>Alaska Airlines Inc.</td>\n",
              "      <td>ANC</td>\n",
              "      <td>Ted Stevens Anchorage International Airport</td>\n",
              "      <td>Anchorage</td>\n",
              "      <td>SEA</td>\n",
              "      <td>Seattle-Tacoma International Airport</td>\n",
              "      <td>Seattle</td>\n",
              "    </tr>\n",
              "    <tr>\n",
              "      <th>2</th>\n",
              "      <td>2015</td>\n",
              "      <td>1</td>\n",
              "      <td>1</td>\n",
              "      <td>4</td>\n",
              "      <td>134</td>\n",
              "      <td>N464AS</td>\n",
              "      <td>ANC</td>\n",
              "      <td>SEA</td>\n",
              "      <td>155</td>\n",
              "      <td>140.0</td>\n",
              "      <td>-15.0</td>\n",
              "      <td>17.0</td>\n",
              "      <td>157.0</td>\n",
              "      <td>218.0</td>\n",
              "      <td>198.0</td>\n",
              "      <td>170.0</td>\n",
              "      <td>1448</td>\n",
              "      <td>547.0</td>\n",
              "      <td>11.0</td>\n",
              "      <td>633</td>\n",
              "      <td>558.0</td>\n",
              "      <td>-35.0</td>\n",
              "      <td>0</td>\n",
              "      <td>0</td>\n",
              "      <td>01:40:00</td>\n",
              "      <td>2015-01-01</td>\n",
              "      <td>Thursday</td>\n",
              "      <td>06:33:00</td>\n",
              "      <td>01:55:00</td>\n",
              "      <td>05:58:00</td>\n",
              "      <td>Alaska Airlines Inc.</td>\n",
              "      <td>ANC</td>\n",
              "      <td>Ted Stevens Anchorage International Airport</td>\n",
              "      <td>Anchorage</td>\n",
              "      <td>SEA</td>\n",
              "      <td>Seattle-Tacoma International Airport</td>\n",
              "      <td>Seattle</td>\n",
              "    </tr>\n",
              "    <tr>\n",
              "      <th>3</th>\n",
              "      <td>2015</td>\n",
              "      <td>1</td>\n",
              "      <td>1</td>\n",
              "      <td>4</td>\n",
              "      <td>114</td>\n",
              "      <td>N303AS</td>\n",
              "      <td>ANC</td>\n",
              "      <td>SEA</td>\n",
              "      <td>220</td>\n",
              "      <td>209.0</td>\n",
              "      <td>-11.0</td>\n",
              "      <td>15.0</td>\n",
              "      <td>224.0</td>\n",
              "      <td>200.0</td>\n",
              "      <td>199.0</td>\n",
              "      <td>176.0</td>\n",
              "      <td>1448</td>\n",
              "      <td>620.0</td>\n",
              "      <td>8.0</td>\n",
              "      <td>640</td>\n",
              "      <td>628.0</td>\n",
              "      <td>-12.0</td>\n",
              "      <td>0</td>\n",
              "      <td>0</td>\n",
              "      <td>02:09:00</td>\n",
              "      <td>2015-01-01</td>\n",
              "      <td>Thursday</td>\n",
              "      <td>06:40:00</td>\n",
              "      <td>02:20:00</td>\n",
              "      <td>06:28:00</td>\n",
              "      <td>Alaska Airlines Inc.</td>\n",
              "      <td>ANC</td>\n",
              "      <td>Ted Stevens Anchorage International Airport</td>\n",
              "      <td>Anchorage</td>\n",
              "      <td>SEA</td>\n",
              "      <td>Seattle-Tacoma International Airport</td>\n",
              "      <td>Seattle</td>\n",
              "    </tr>\n",
              "    <tr>\n",
              "      <th>4</th>\n",
              "      <td>2015</td>\n",
              "      <td>1</td>\n",
              "      <td>1</td>\n",
              "      <td>4</td>\n",
              "      <td>730</td>\n",
              "      <td>N423AS</td>\n",
              "      <td>ANC</td>\n",
              "      <td>SEA</td>\n",
              "      <td>505</td>\n",
              "      <td>457.0</td>\n",
              "      <td>-8.0</td>\n",
              "      <td>16.0</td>\n",
              "      <td>513.0</td>\n",
              "      <td>205.0</td>\n",
              "      <td>199.0</td>\n",
              "      <td>179.0</td>\n",
              "      <td>1448</td>\n",
              "      <td>912.0</td>\n",
              "      <td>4.0</td>\n",
              "      <td>930</td>\n",
              "      <td>916.0</td>\n",
              "      <td>-14.0</td>\n",
              "      <td>0</td>\n",
              "      <td>0</td>\n",
              "      <td>04:57:00</td>\n",
              "      <td>2015-01-01</td>\n",
              "      <td>Thursday</td>\n",
              "      <td>09:30:00</td>\n",
              "      <td>05:05:00</td>\n",
              "      <td>09:16:00</td>\n",
              "      <td>Alaska Airlines Inc.</td>\n",
              "      <td>ANC</td>\n",
              "      <td>Ted Stevens Anchorage International Airport</td>\n",
              "      <td>Anchorage</td>\n",
              "      <td>SEA</td>\n",
              "      <td>Seattle-Tacoma International Airport</td>\n",
              "      <td>Seattle</td>\n",
              "    </tr>\n",
              "    <tr>\n",
              "      <th>...</th>\n",
              "      <td>...</td>\n",
              "      <td>...</td>\n",
              "      <td>...</td>\n",
              "      <td>...</td>\n",
              "      <td>...</td>\n",
              "      <td>...</td>\n",
              "      <td>...</td>\n",
              "      <td>...</td>\n",
              "      <td>...</td>\n",
              "      <td>...</td>\n",
              "      <td>...</td>\n",
              "      <td>...</td>\n",
              "      <td>...</td>\n",
              "      <td>...</td>\n",
              "      <td>...</td>\n",
              "      <td>...</td>\n",
              "      <td>...</td>\n",
              "      <td>...</td>\n",
              "      <td>...</td>\n",
              "      <td>...</td>\n",
              "      <td>...</td>\n",
              "      <td>...</td>\n",
              "      <td>...</td>\n",
              "      <td>...</td>\n",
              "      <td>...</td>\n",
              "      <td>...</td>\n",
              "      <td>...</td>\n",
              "      <td>...</td>\n",
              "      <td>...</td>\n",
              "      <td>...</td>\n",
              "      <td>...</td>\n",
              "      <td>...</td>\n",
              "      <td>...</td>\n",
              "      <td>...</td>\n",
              "      <td>...</td>\n",
              "      <td>...</td>\n",
              "      <td>...</td>\n",
              "    </tr>\n",
              "    <tr>\n",
              "      <th>5221995</th>\n",
              "      <td>2015</td>\n",
              "      <td>12</td>\n",
              "      <td>29</td>\n",
              "      <td>2</td>\n",
              "      <td>2734</td>\n",
              "      <td>N884AS</td>\n",
              "      <td>MEI</td>\n",
              "      <td>PIB</td>\n",
              "      <td>2046</td>\n",
              "      <td>2037.0</td>\n",
              "      <td>-9.0</td>\n",
              "      <td>6.0</td>\n",
              "      <td>2043.0</td>\n",
              "      <td>34.0</td>\n",
              "      <td>25.0</td>\n",
              "      <td>17.0</td>\n",
              "      <td>69</td>\n",
              "      <td>2100.0</td>\n",
              "      <td>2.0</td>\n",
              "      <td>2120</td>\n",
              "      <td>2102.0</td>\n",
              "      <td>-18.0</td>\n",
              "      <td>0</td>\n",
              "      <td>0</td>\n",
              "      <td>20:37:00</td>\n",
              "      <td>2015-12-29</td>\n",
              "      <td>Tuesday</td>\n",
              "      <td>21:20:00</td>\n",
              "      <td>20:46:00</td>\n",
              "      <td>21:02:00</td>\n",
              "      <td>Atlantic Southeast Airlines</td>\n",
              "      <td>MEI</td>\n",
              "      <td>Meridian Regional Airport</td>\n",
              "      <td>Meridian</td>\n",
              "      <td>PIB</td>\n",
              "      <td>Hattiesburg-Laurel Regional Airport</td>\n",
              "      <td>Hattiesburg-Laurel</td>\n",
              "    </tr>\n",
              "    <tr>\n",
              "      <th>5221996</th>\n",
              "      <td>2015</td>\n",
              "      <td>12</td>\n",
              "      <td>30</td>\n",
              "      <td>3</td>\n",
              "      <td>2730</td>\n",
              "      <td>N880AS</td>\n",
              "      <td>MEI</td>\n",
              "      <td>PIB</td>\n",
              "      <td>1435</td>\n",
              "      <td>1616.0</td>\n",
              "      <td>101.0</td>\n",
              "      <td>4.0</td>\n",
              "      <td>1620.0</td>\n",
              "      <td>34.0</td>\n",
              "      <td>23.0</td>\n",
              "      <td>14.0</td>\n",
              "      <td>69</td>\n",
              "      <td>1634.0</td>\n",
              "      <td>5.0</td>\n",
              "      <td>1509</td>\n",
              "      <td>1639.0</td>\n",
              "      <td>90.0</td>\n",
              "      <td>0</td>\n",
              "      <td>0</td>\n",
              "      <td>16:16:00</td>\n",
              "      <td>2015-12-30</td>\n",
              "      <td>Wednesday</td>\n",
              "      <td>15:09:00</td>\n",
              "      <td>14:35:00</td>\n",
              "      <td>16:39:00</td>\n",
              "      <td>Atlantic Southeast Airlines</td>\n",
              "      <td>MEI</td>\n",
              "      <td>Meridian Regional Airport</td>\n",
              "      <td>Meridian</td>\n",
              "      <td>PIB</td>\n",
              "      <td>Hattiesburg-Laurel Regional Airport</td>\n",
              "      <td>Hattiesburg-Laurel</td>\n",
              "    </tr>\n",
              "    <tr>\n",
              "      <th>5221997</th>\n",
              "      <td>2015</td>\n",
              "      <td>12</td>\n",
              "      <td>30</td>\n",
              "      <td>3</td>\n",
              "      <td>2734</td>\n",
              "      <td>N907EV</td>\n",
              "      <td>MEI</td>\n",
              "      <td>PIB</td>\n",
              "      <td>2046</td>\n",
              "      <td>2056.0</td>\n",
              "      <td>10.0</td>\n",
              "      <td>12.0</td>\n",
              "      <td>2108.0</td>\n",
              "      <td>34.0</td>\n",
              "      <td>34.0</td>\n",
              "      <td>18.0</td>\n",
              "      <td>69</td>\n",
              "      <td>2126.0</td>\n",
              "      <td>4.0</td>\n",
              "      <td>2120</td>\n",
              "      <td>2130.0</td>\n",
              "      <td>10.0</td>\n",
              "      <td>0</td>\n",
              "      <td>0</td>\n",
              "      <td>20:56:00</td>\n",
              "      <td>2015-12-30</td>\n",
              "      <td>Wednesday</td>\n",
              "      <td>21:20:00</td>\n",
              "      <td>20:46:00</td>\n",
              "      <td>21:30:00</td>\n",
              "      <td>Atlantic Southeast Airlines</td>\n",
              "      <td>MEI</td>\n",
              "      <td>Meridian Regional Airport</td>\n",
              "      <td>Meridian</td>\n",
              "      <td>PIB</td>\n",
              "      <td>Hattiesburg-Laurel Regional Airport</td>\n",
              "      <td>Hattiesburg-Laurel</td>\n",
              "    </tr>\n",
              "    <tr>\n",
              "      <th>5221998</th>\n",
              "      <td>2015</td>\n",
              "      <td>12</td>\n",
              "      <td>31</td>\n",
              "      <td>4</td>\n",
              "      <td>2730</td>\n",
              "      <td>N907EV</td>\n",
              "      <td>MEI</td>\n",
              "      <td>PIB</td>\n",
              "      <td>1435</td>\n",
              "      <td>1421.0</td>\n",
              "      <td>-14.0</td>\n",
              "      <td>9.0</td>\n",
              "      <td>1430.0</td>\n",
              "      <td>34.0</td>\n",
              "      <td>30.0</td>\n",
              "      <td>18.0</td>\n",
              "      <td>69</td>\n",
              "      <td>1448.0</td>\n",
              "      <td>3.0</td>\n",
              "      <td>1509</td>\n",
              "      <td>1451.0</td>\n",
              "      <td>-18.0</td>\n",
              "      <td>0</td>\n",
              "      <td>0</td>\n",
              "      <td>14:21:00</td>\n",
              "      <td>2015-12-31</td>\n",
              "      <td>Thursday</td>\n",
              "      <td>15:09:00</td>\n",
              "      <td>14:35:00</td>\n",
              "      <td>14:51:00</td>\n",
              "      <td>Atlantic Southeast Airlines</td>\n",
              "      <td>MEI</td>\n",
              "      <td>Meridian Regional Airport</td>\n",
              "      <td>Meridian</td>\n",
              "      <td>PIB</td>\n",
              "      <td>Hattiesburg-Laurel Regional Airport</td>\n",
              "      <td>Hattiesburg-Laurel</td>\n",
              "    </tr>\n",
              "    <tr>\n",
              "      <th>5221999</th>\n",
              "      <td>2015</td>\n",
              "      <td>12</td>\n",
              "      <td>31</td>\n",
              "      <td>4</td>\n",
              "      <td>2734</td>\n",
              "      <td>N907EV</td>\n",
              "      <td>MEI</td>\n",
              "      <td>PIB</td>\n",
              "      <td>2046</td>\n",
              "      <td>2020.0</td>\n",
              "      <td>-26.0</td>\n",
              "      <td>7.0</td>\n",
              "      <td>2027.0</td>\n",
              "      <td>34.0</td>\n",
              "      <td>28.0</td>\n",
              "      <td>18.0</td>\n",
              "      <td>69</td>\n",
              "      <td>2045.0</td>\n",
              "      <td>3.0</td>\n",
              "      <td>2120</td>\n",
              "      <td>2048.0</td>\n",
              "      <td>-32.0</td>\n",
              "      <td>0</td>\n",
              "      <td>0</td>\n",
              "      <td>20:20:00</td>\n",
              "      <td>2015-12-31</td>\n",
              "      <td>Thursday</td>\n",
              "      <td>21:20:00</td>\n",
              "      <td>20:46:00</td>\n",
              "      <td>20:48:00</td>\n",
              "      <td>Atlantic Southeast Airlines</td>\n",
              "      <td>MEI</td>\n",
              "      <td>Meridian Regional Airport</td>\n",
              "      <td>Meridian</td>\n",
              "      <td>PIB</td>\n",
              "      <td>Hattiesburg-Laurel Regional Airport</td>\n",
              "      <td>Hattiesburg-Laurel</td>\n",
              "    </tr>\n",
              "  </tbody>\n",
              "</table>\n",
              "<p>5222000 rows × 37 columns</p>\n",
              "</div>"
            ],
            "text/plain": [
              "         YEAR  MONTH  ...                     Dest_Airport_Name    Destination_city\n",
              "0        2015      1  ...  Seattle-Tacoma International Airport             Seattle\n",
              "1        2015      1  ...  Seattle-Tacoma International Airport             Seattle\n",
              "2        2015      1  ...  Seattle-Tacoma International Airport             Seattle\n",
              "3        2015      1  ...  Seattle-Tacoma International Airport             Seattle\n",
              "4        2015      1  ...  Seattle-Tacoma International Airport             Seattle\n",
              "...       ...    ...  ...                                   ...                 ...\n",
              "5221995  2015     12  ...   Hattiesburg-Laurel Regional Airport  Hattiesburg-Laurel\n",
              "5221996  2015     12  ...   Hattiesburg-Laurel Regional Airport  Hattiesburg-Laurel\n",
              "5221997  2015     12  ...   Hattiesburg-Laurel Regional Airport  Hattiesburg-Laurel\n",
              "5221998  2015     12  ...   Hattiesburg-Laurel Regional Airport  Hattiesburg-Laurel\n",
              "5221999  2015     12  ...   Hattiesburg-Laurel Regional Airport  Hattiesburg-Laurel\n",
              "\n",
              "[5222000 rows x 37 columns]"
            ]
          },
          "metadata": {
            "tags": []
          },
          "execution_count": 43
        }
      ]
    },
    {
      "cell_type": "code",
      "metadata": {
        "id": "VQv0bhpQBMSU",
        "colab_type": "code",
        "colab": {}
      },
      "source": [
        "# we are taking the required data into Account for visualization and the Analysis\n",
        "ReqdData = pd.DataFrame(data2[['AIRLINE','Org_Airport_Name','Origin_city',\n",
        "                               'Dest_Airport_Name','Destination_city','ORIGIN_AIRPORT',\n",
        "                               'DESTINATION_AIRPORT','DISTANCE','Actual_Departure','Date','Day',\n",
        "                               'Scheduled_Departure','DEPARTURE_DELAY','Actual_Arrival','Scheduled_Arrival','ARRIVAL_DELAY',\n",
        "                              'SCHEDULED_TIME','ELAPSED_TIME','AIR_TIME','TAXI_IN','TAXI_OUT','DIVERTED',]])"
      ],
      "execution_count": 0,
      "outputs": []
    },
    {
      "cell_type": "code",
      "metadata": {
        "id": "sBImgNAQBN_P",
        "colab_type": "code",
        "colab": {
          "base_uri": "https://localhost:8080/",
          "height": 34
        },
        "outputId": "9a0ceaae-eb7d-4014-fe4e-3cd694dce683"
      },
      "source": [
        "data2.DEPARTURE_TIME.dtype"
      ],
      "execution_count": 45,
      "outputs": [
        {
          "output_type": "execute_result",
          "data": {
            "text/plain": [
              "dtype('float64')"
            ]
          },
          "metadata": {
            "tags": []
          },
          "execution_count": 45
        }
      ]
    },
    {
      "cell_type": "code",
      "metadata": {
        "id": "st9FgpitBPOe",
        "colab_type": "code",
        "colab": {}
      },
      "source": [
        "ReqdData = ReqdData.dropna(subset = ['Actual_Departure','Actual_Arrival'])"
      ],
      "execution_count": 0,
      "outputs": []
    },
    {
      "cell_type": "code",
      "metadata": {
        "id": "n3Cx6JfqBQg1",
        "colab_type": "code",
        "colab": {
          "base_uri": "https://localhost:8080/",
          "height": 476
        },
        "outputId": "d62b7b63-ee0a-469c-b00f-035b1b2d910e"
      },
      "source": [
        "ReqdData.info()"
      ],
      "execution_count": 47,
      "outputs": [
        {
          "output_type": "stream",
          "text": [
            "<class 'pandas.core.frame.DataFrame'>\n",
            "Int64Index: 5219244 entries, 0 to 5221999\n",
            "Data columns (total 22 columns):\n",
            "AIRLINE                object\n",
            "Org_Airport_Name       object\n",
            "Origin_city            object\n",
            "Dest_Airport_Name      object\n",
            "Destination_city       object\n",
            "ORIGIN_AIRPORT         object\n",
            "DESTINATION_AIRPORT    object\n",
            "DISTANCE               int64\n",
            "Actual_Departure       object\n",
            "Date                   datetime64[ns]\n",
            "Day                    object\n",
            "Scheduled_Departure    object\n",
            "DEPARTURE_DELAY        float64\n",
            "Actual_Arrival         object\n",
            "Scheduled_Arrival      object\n",
            "ARRIVAL_DELAY          float64\n",
            "SCHEDULED_TIME         float64\n",
            "ELAPSED_TIME           float64\n",
            "AIR_TIME               float64\n",
            "TAXI_IN                float64\n",
            "TAXI_OUT               float64\n",
            "DIVERTED               int64\n",
            "dtypes: datetime64[ns](1), float64(7), int64(2), object(12)\n",
            "memory usage: 915.9+ MB\n"
          ],
          "name": "stdout"
        }
      ]
    },
    {
      "cell_type": "code",
      "metadata": {
        "id": "mJwSIU-cBRzu",
        "colab_type": "code",
        "colab": {
          "base_uri": "https://localhost:8080/",
          "height": 779
        },
        "outputId": "9588f8d3-a5ea-4614-8e8c-8a33a0e26a24"
      },
      "source": [
        "# Cleaned Dataset for visualization and Analysis\n",
        "Flights = ReqdData\n",
        "Flights"
      ],
      "execution_count": 48,
      "outputs": [
        {
          "output_type": "execute_result",
          "data": {
            "text/html": [
              "<div>\n",
              "<style scoped>\n",
              "    .dataframe tbody tr th:only-of-type {\n",
              "        vertical-align: middle;\n",
              "    }\n",
              "\n",
              "    .dataframe tbody tr th {\n",
              "        vertical-align: top;\n",
              "    }\n",
              "\n",
              "    .dataframe thead th {\n",
              "        text-align: right;\n",
              "    }\n",
              "</style>\n",
              "<table border=\"1\" class=\"dataframe\">\n",
              "  <thead>\n",
              "    <tr style=\"text-align: right;\">\n",
              "      <th></th>\n",
              "      <th>AIRLINE</th>\n",
              "      <th>Org_Airport_Name</th>\n",
              "      <th>Origin_city</th>\n",
              "      <th>Dest_Airport_Name</th>\n",
              "      <th>Destination_city</th>\n",
              "      <th>ORIGIN_AIRPORT</th>\n",
              "      <th>DESTINATION_AIRPORT</th>\n",
              "      <th>DISTANCE</th>\n",
              "      <th>Actual_Departure</th>\n",
              "      <th>Date</th>\n",
              "      <th>Day</th>\n",
              "      <th>Scheduled_Departure</th>\n",
              "      <th>DEPARTURE_DELAY</th>\n",
              "      <th>Actual_Arrival</th>\n",
              "      <th>Scheduled_Arrival</th>\n",
              "      <th>ARRIVAL_DELAY</th>\n",
              "      <th>SCHEDULED_TIME</th>\n",
              "      <th>ELAPSED_TIME</th>\n",
              "      <th>AIR_TIME</th>\n",
              "      <th>TAXI_IN</th>\n",
              "      <th>TAXI_OUT</th>\n",
              "      <th>DIVERTED</th>\n",
              "    </tr>\n",
              "  </thead>\n",
              "  <tbody>\n",
              "    <tr>\n",
              "      <th>0</th>\n",
              "      <td>Alaska Airlines Inc.</td>\n",
              "      <td>Ted Stevens Anchorage International Airport</td>\n",
              "      <td>Anchorage</td>\n",
              "      <td>Seattle-Tacoma International Airport</td>\n",
              "      <td>Seattle</td>\n",
              "      <td>ANC</td>\n",
              "      <td>SEA</td>\n",
              "      <td>1448</td>\n",
              "      <td>23:54:00</td>\n",
              "      <td>2015-01-01</td>\n",
              "      <td>Thursday</td>\n",
              "      <td>00:05:00</td>\n",
              "      <td>-11.0</td>\n",
              "      <td>04:08:00</td>\n",
              "      <td>04:30:00</td>\n",
              "      <td>-22.0</td>\n",
              "      <td>205.0</td>\n",
              "      <td>194.0</td>\n",
              "      <td>169.0</td>\n",
              "      <td>4.0</td>\n",
              "      <td>21.0</td>\n",
              "      <td>0</td>\n",
              "    </tr>\n",
              "    <tr>\n",
              "      <th>1</th>\n",
              "      <td>Alaska Airlines Inc.</td>\n",
              "      <td>Ted Stevens Anchorage International Airport</td>\n",
              "      <td>Anchorage</td>\n",
              "      <td>Seattle-Tacoma International Airport</td>\n",
              "      <td>Seattle</td>\n",
              "      <td>ANC</td>\n",
              "      <td>SEA</td>\n",
              "      <td>1448</td>\n",
              "      <td>00:41:00</td>\n",
              "      <td>2015-01-01</td>\n",
              "      <td>Thursday</td>\n",
              "      <td>00:45:00</td>\n",
              "      <td>-4.0</td>\n",
              "      <td>04:55:00</td>\n",
              "      <td>05:09:00</td>\n",
              "      <td>-14.0</td>\n",
              "      <td>204.0</td>\n",
              "      <td>194.0</td>\n",
              "      <td>173.0</td>\n",
              "      <td>4.0</td>\n",
              "      <td>17.0</td>\n",
              "      <td>0</td>\n",
              "    </tr>\n",
              "    <tr>\n",
              "      <th>2</th>\n",
              "      <td>Alaska Airlines Inc.</td>\n",
              "      <td>Ted Stevens Anchorage International Airport</td>\n",
              "      <td>Anchorage</td>\n",
              "      <td>Seattle-Tacoma International Airport</td>\n",
              "      <td>Seattle</td>\n",
              "      <td>ANC</td>\n",
              "      <td>SEA</td>\n",
              "      <td>1448</td>\n",
              "      <td>01:40:00</td>\n",
              "      <td>2015-01-01</td>\n",
              "      <td>Thursday</td>\n",
              "      <td>01:55:00</td>\n",
              "      <td>-15.0</td>\n",
              "      <td>05:58:00</td>\n",
              "      <td>06:33:00</td>\n",
              "      <td>-35.0</td>\n",
              "      <td>218.0</td>\n",
              "      <td>198.0</td>\n",
              "      <td>170.0</td>\n",
              "      <td>11.0</td>\n",
              "      <td>17.0</td>\n",
              "      <td>0</td>\n",
              "    </tr>\n",
              "    <tr>\n",
              "      <th>3</th>\n",
              "      <td>Alaska Airlines Inc.</td>\n",
              "      <td>Ted Stevens Anchorage International Airport</td>\n",
              "      <td>Anchorage</td>\n",
              "      <td>Seattle-Tacoma International Airport</td>\n",
              "      <td>Seattle</td>\n",
              "      <td>ANC</td>\n",
              "      <td>SEA</td>\n",
              "      <td>1448</td>\n",
              "      <td>02:09:00</td>\n",
              "      <td>2015-01-01</td>\n",
              "      <td>Thursday</td>\n",
              "      <td>02:20:00</td>\n",
              "      <td>-11.0</td>\n",
              "      <td>06:28:00</td>\n",
              "      <td>06:40:00</td>\n",
              "      <td>-12.0</td>\n",
              "      <td>200.0</td>\n",
              "      <td>199.0</td>\n",
              "      <td>176.0</td>\n",
              "      <td>8.0</td>\n",
              "      <td>15.0</td>\n",
              "      <td>0</td>\n",
              "    </tr>\n",
              "    <tr>\n",
              "      <th>4</th>\n",
              "      <td>Alaska Airlines Inc.</td>\n",
              "      <td>Ted Stevens Anchorage International Airport</td>\n",
              "      <td>Anchorage</td>\n",
              "      <td>Seattle-Tacoma International Airport</td>\n",
              "      <td>Seattle</td>\n",
              "      <td>ANC</td>\n",
              "      <td>SEA</td>\n",
              "      <td>1448</td>\n",
              "      <td>04:57:00</td>\n",
              "      <td>2015-01-01</td>\n",
              "      <td>Thursday</td>\n",
              "      <td>05:05:00</td>\n",
              "      <td>-8.0</td>\n",
              "      <td>09:16:00</td>\n",
              "      <td>09:30:00</td>\n",
              "      <td>-14.0</td>\n",
              "      <td>205.0</td>\n",
              "      <td>199.0</td>\n",
              "      <td>179.0</td>\n",
              "      <td>4.0</td>\n",
              "      <td>16.0</td>\n",
              "      <td>0</td>\n",
              "    </tr>\n",
              "    <tr>\n",
              "      <th>...</th>\n",
              "      <td>...</td>\n",
              "      <td>...</td>\n",
              "      <td>...</td>\n",
              "      <td>...</td>\n",
              "      <td>...</td>\n",
              "      <td>...</td>\n",
              "      <td>...</td>\n",
              "      <td>...</td>\n",
              "      <td>...</td>\n",
              "      <td>...</td>\n",
              "      <td>...</td>\n",
              "      <td>...</td>\n",
              "      <td>...</td>\n",
              "      <td>...</td>\n",
              "      <td>...</td>\n",
              "      <td>...</td>\n",
              "      <td>...</td>\n",
              "      <td>...</td>\n",
              "      <td>...</td>\n",
              "      <td>...</td>\n",
              "      <td>...</td>\n",
              "      <td>...</td>\n",
              "    </tr>\n",
              "    <tr>\n",
              "      <th>5221995</th>\n",
              "      <td>Atlantic Southeast Airlines</td>\n",
              "      <td>Meridian Regional Airport</td>\n",
              "      <td>Meridian</td>\n",
              "      <td>Hattiesburg-Laurel Regional Airport</td>\n",
              "      <td>Hattiesburg-Laurel</td>\n",
              "      <td>MEI</td>\n",
              "      <td>PIB</td>\n",
              "      <td>69</td>\n",
              "      <td>20:37:00</td>\n",
              "      <td>2015-12-29</td>\n",
              "      <td>Tuesday</td>\n",
              "      <td>20:46:00</td>\n",
              "      <td>-9.0</td>\n",
              "      <td>21:02:00</td>\n",
              "      <td>21:20:00</td>\n",
              "      <td>-18.0</td>\n",
              "      <td>34.0</td>\n",
              "      <td>25.0</td>\n",
              "      <td>17.0</td>\n",
              "      <td>2.0</td>\n",
              "      <td>6.0</td>\n",
              "      <td>0</td>\n",
              "    </tr>\n",
              "    <tr>\n",
              "      <th>5221996</th>\n",
              "      <td>Atlantic Southeast Airlines</td>\n",
              "      <td>Meridian Regional Airport</td>\n",
              "      <td>Meridian</td>\n",
              "      <td>Hattiesburg-Laurel Regional Airport</td>\n",
              "      <td>Hattiesburg-Laurel</td>\n",
              "      <td>MEI</td>\n",
              "      <td>PIB</td>\n",
              "      <td>69</td>\n",
              "      <td>16:16:00</td>\n",
              "      <td>2015-12-30</td>\n",
              "      <td>Wednesday</td>\n",
              "      <td>14:35:00</td>\n",
              "      <td>101.0</td>\n",
              "      <td>16:39:00</td>\n",
              "      <td>15:09:00</td>\n",
              "      <td>90.0</td>\n",
              "      <td>34.0</td>\n",
              "      <td>23.0</td>\n",
              "      <td>14.0</td>\n",
              "      <td>5.0</td>\n",
              "      <td>4.0</td>\n",
              "      <td>0</td>\n",
              "    </tr>\n",
              "    <tr>\n",
              "      <th>5221997</th>\n",
              "      <td>Atlantic Southeast Airlines</td>\n",
              "      <td>Meridian Regional Airport</td>\n",
              "      <td>Meridian</td>\n",
              "      <td>Hattiesburg-Laurel Regional Airport</td>\n",
              "      <td>Hattiesburg-Laurel</td>\n",
              "      <td>MEI</td>\n",
              "      <td>PIB</td>\n",
              "      <td>69</td>\n",
              "      <td>20:56:00</td>\n",
              "      <td>2015-12-30</td>\n",
              "      <td>Wednesday</td>\n",
              "      <td>20:46:00</td>\n",
              "      <td>10.0</td>\n",
              "      <td>21:30:00</td>\n",
              "      <td>21:20:00</td>\n",
              "      <td>10.0</td>\n",
              "      <td>34.0</td>\n",
              "      <td>34.0</td>\n",
              "      <td>18.0</td>\n",
              "      <td>4.0</td>\n",
              "      <td>12.0</td>\n",
              "      <td>0</td>\n",
              "    </tr>\n",
              "    <tr>\n",
              "      <th>5221998</th>\n",
              "      <td>Atlantic Southeast Airlines</td>\n",
              "      <td>Meridian Regional Airport</td>\n",
              "      <td>Meridian</td>\n",
              "      <td>Hattiesburg-Laurel Regional Airport</td>\n",
              "      <td>Hattiesburg-Laurel</td>\n",
              "      <td>MEI</td>\n",
              "      <td>PIB</td>\n",
              "      <td>69</td>\n",
              "      <td>14:21:00</td>\n",
              "      <td>2015-12-31</td>\n",
              "      <td>Thursday</td>\n",
              "      <td>14:35:00</td>\n",
              "      <td>-14.0</td>\n",
              "      <td>14:51:00</td>\n",
              "      <td>15:09:00</td>\n",
              "      <td>-18.0</td>\n",
              "      <td>34.0</td>\n",
              "      <td>30.0</td>\n",
              "      <td>18.0</td>\n",
              "      <td>3.0</td>\n",
              "      <td>9.0</td>\n",
              "      <td>0</td>\n",
              "    </tr>\n",
              "    <tr>\n",
              "      <th>5221999</th>\n",
              "      <td>Atlantic Southeast Airlines</td>\n",
              "      <td>Meridian Regional Airport</td>\n",
              "      <td>Meridian</td>\n",
              "      <td>Hattiesburg-Laurel Regional Airport</td>\n",
              "      <td>Hattiesburg-Laurel</td>\n",
              "      <td>MEI</td>\n",
              "      <td>PIB</td>\n",
              "      <td>69</td>\n",
              "      <td>20:20:00</td>\n",
              "      <td>2015-12-31</td>\n",
              "      <td>Thursday</td>\n",
              "      <td>20:46:00</td>\n",
              "      <td>-26.0</td>\n",
              "      <td>20:48:00</td>\n",
              "      <td>21:20:00</td>\n",
              "      <td>-32.0</td>\n",
              "      <td>34.0</td>\n",
              "      <td>28.0</td>\n",
              "      <td>18.0</td>\n",
              "      <td>3.0</td>\n",
              "      <td>7.0</td>\n",
              "      <td>0</td>\n",
              "    </tr>\n",
              "  </tbody>\n",
              "</table>\n",
              "<p>5219244 rows × 22 columns</p>\n",
              "</div>"
            ],
            "text/plain": [
              "                             AIRLINE  ... DIVERTED\n",
              "0               Alaska Airlines Inc.  ...        0\n",
              "1               Alaska Airlines Inc.  ...        0\n",
              "2               Alaska Airlines Inc.  ...        0\n",
              "3               Alaska Airlines Inc.  ...        0\n",
              "4               Alaska Airlines Inc.  ...        0\n",
              "...                              ...  ...      ...\n",
              "5221995  Atlantic Southeast Airlines  ...        0\n",
              "5221996  Atlantic Southeast Airlines  ...        0\n",
              "5221997  Atlantic Southeast Airlines  ...        0\n",
              "5221998  Atlantic Southeast Airlines  ...        0\n",
              "5221999  Atlantic Southeast Airlines  ...        0\n",
              "\n",
              "[5219244 rows x 22 columns]"
            ]
          },
          "metadata": {
            "tags": []
          },
          "execution_count": 48
        }
      ]
    },
    {
      "cell_type": "code",
      "metadata": {
        "id": "FWU2ArG7BTNB",
        "colab_type": "code",
        "colab": {
          "base_uri": "https://localhost:8080/",
          "height": 729
        },
        "outputId": "7e8b1f6a-723e-47f9-f09a-54a97d714272"
      },
      "source": [
        "plt.figure(figsize=(10, 10))\n",
        "axis = sb.countplot(x=Flights['Origin_city'], data = Flights,\n",
        "              order=Flights['Origin_city'].value_counts().iloc[:20].index)\n",
        "axis.set_xticklabels(axis.get_xticklabels(), rotation=90, ha=\"right\")\n",
        "plt.tight_layout()\n",
        "plt.show()"
      ],
      "execution_count": 51,
      "outputs": [
        {
          "output_type": "display_data",
          "data": {
            "image/png": "[encoded data removed]",
            "text/plain": [
              "<Figure size 720x720 with 1 Axes>"
            ]
          },
          "metadata": {
            "tags": []
          }
        }
      ]
    },
    {
      "cell_type": "code",
      "metadata": {
        "id": "Om2_uGfdBU7E",
        "colab_type": "code",
        "colab": {
          "base_uri": "https://localhost:8080/",
          "height": 729
        },
        "outputId": "722e0ce4-0800-495c-db4a-543c33818710"
      },
      "source": [
        "# Atlanta has the highest count of flight from origin city\n",
        "plt.figure(figsize=(10, 10))\n",
        "axis = sb.countplot(x=Flights['Org_Airport_Name'], data = Flights,\n",
        "              order=Flights['Org_Airport_Name'].value_counts().iloc[:20].index)\n",
        "axis.set_xticklabels(axis.get_xticklabels(), rotation=90, ha=\"right\")\n",
        "plt.tight_layout()\n",
        "plt.show()"
      ],
      "execution_count": 53,
      "outputs": [
        {
          "output_type": "display_data",
          "data": {
            "image/png": "[encoded data removed]",
            "text/plain": [
              "<Figure size 720x720 with 1 Axes>"
            ]
          },
          "metadata": {
            "tags": []
          }
        }
      ]
    },
    {
      "cell_type": "code",
      "metadata": {
        "id": "NIuB7WFkBjI5",
        "colab_type": "code",
        "colab": {
          "base_uri": "https://localhost:8080/",
          "height": 589
        },
        "outputId": "00d93a10-0b13-468e-8ad9-807082d17901"
      },
      "source": [
        "axis = plt.subplots(figsize=(10,14))\n",
        "Name = Flights[\"AIRLINE\"].unique()\n",
        "size = Flights[\"AIRLINE\"].value_counts()\n",
        "plt.pie(size,labels=Name,autopct='%5.0f%%')\n",
        "plt.show()"
      ],
      "execution_count": 54,
      "outputs": [
        {
          "output_type": "display_data",
          "data": {
            "image/png": "[encoded data removed]",
            "text/plain": [
              "<Figure size 720x1008 with 1 Axes>"
            ]
          },
          "metadata": {
            "tags": []
          }
        }
      ]
    },
    {
      "cell_type": "code",
      "metadata": {
        "id": "tAvUtGrmBoJu",
        "colab_type": "code",
        "colab": {
          "base_uri": "https://localhost:8080/",
          "height": 824
        },
        "outputId": "dab39ba3-1113-4dc9-fc72-6cadce5856ad"
      },
      "source": [
        "axis = plt.subplots(figsize=(10,14))\n",
        "sb.despine(bottom=True, left=True)\n",
        "# Observations with Scatter Plot\n",
        "sb.stripplot(x=\"ARRIVAL_DELAY\", y=\"AIRLINE\",\n",
        "              data = Flights, dodge=True, jitter=True\n",
        "            )\n",
        "plt.show()"
      ],
      "execution_count": 57,
      "outputs": [
        {
          "output_type": "display_data",
          "data": {
            "image/png": "[encoded data removed]",
            "text/plain": [
              "<Figure size 720x1008 with 1 Axes>"
            ]
          },
          "metadata": {
            "tags": []
          }
        }
      ]
    },
    {
      "cell_type": "markdown",
      "metadata": {
        "id": "TgDdMgypByQc",
        "colab_type": "text"
      },
      "source": [
        "American Airlines Inc has the highest Arrival Delay."
      ]
    },
    {
      "cell_type": "code",
      "metadata": {
        "id": "3BQwAfKLBrYr",
        "colab_type": "code",
        "colab": {
          "base_uri": "https://localhost:8080/",
          "height": 994
        },
        "outputId": "9da2a725-934f-446d-c06d-e551d78ae04e"
      },
      "source": [
        "%%html\n",
        "<div class='tableauPlaceholder' id='viz1569936847474' style='position: relative'><noscript><a href='#'><img alt=' ' \n",
        "src='https:&#47;&#47;public.tableau.com&#47;static&#47;images&#47;9B&#47;9BD44NRJ9&#47;1_rss.png' style='border: none'\n",
        "/></a></noscript><object class='tableauViz'  \n",
        "style='display:none;'><param name='host_url' value='https%3A%2F%2Fpublic.tableau.com%2F' \n",
        "/> <param name='embed_code_version' value='3' /> <param name='path' value='shared&#47;9BD44NRJ9' \n",
        "/> <param name='toolbar' value='yes' \n",
        "/><param name='static_image' value='https:&#47;&#47;public.tableau.com&#47;static&#47;images&#47;9B&#47;9BD44NRJ9&#47;1.png' \n",
        "/> <param name='animate_transition' value='yes'\n",
        "/><param name='display_static_image' value='yes' /><param name='display_spinner' value='yes' \n",
        "/><param name='display_overlay' value='yes' /><param name='display_count' value='yes' \n",
        "/><param name='filter' value='publish=yes' /></object></div>                \n",
        "<script type='text/javascript'>                    \n",
        "var divElement = document.getElementById('viz1569936847474');                    \n",
        "var vizElement = divElement.getElementsByTagName('object')[0];                    \n",
        "vizElement.style.width='100%';vizElement.style.height=(divElement.offsetWidth*0.75)+'px';                    \n",
        "var scriptElement = document.createElement('script');                    \n",
        "scriptElement.src = 'https://public.tableau.com/javascripts/api/viz_v1.js';                    \n",
        "vizElement.parentNode.insertBefore(scriptElement, vizElement);               \n",
        "</script>"
      ],
      "execution_count": 58,
      "outputs": [
        {
          "output_type": "display_data",
          "data": {
            "text/html": [
              "<div class='tableauPlaceholder' id='viz1569936847474' style='position: relative'><noscript><a href='#'><img alt=' ' \n",
              "src='https:&#47;&#47;public.tableau.com&#47;static&#47;images&#47;9B&#47;9BD44NRJ9&#47;1_rss.png' style='border: none'\n",
              "/></a></noscript><object class='tableauViz'  \n",
              "style='display:none;'><param name='host_url' value='https%3A%2F%2Fpublic.tableau.com%2F' \n",
              "/> <param name='embed_code_version' value='3' /> <param name='path' value='shared&#47;9BD44NRJ9' \n",
              "/> <param name='toolbar' value='yes' \n",
              "/><param name='static_image' value='https:&#47;&#47;public.tableau.com&#47;static&#47;images&#47;9B&#47;9BD44NRJ9&#47;1.png' \n",
              "/> <param name='animate_transition' value='yes'\n",
              "/><param name='display_static_image' value='yes' /><param name='display_spinner' value='yes' \n",
              "/><param name='display_overlay' value='yes' /><param name='display_count' value='yes' \n",
              "/><param name='filter' value='publish=yes' /></object></div>                \n",
              "<script type='text/javascript'>                    \n",
              "var divElement = document.getElementById('viz1569936847474');                    \n",
              "var vizElement = divElement.getElementsByTagName('object')[0];                    \n",
              "vizElement.style.width='100%';vizElement.style.height=(divElement.offsetWidth*0.75)+'px';                    \n",
              "var scriptElement = document.createElement('script');                    \n",
              "scriptElement.src = 'https://public.tableau.com/javascripts/api/viz_v1.js';                    \n",
              "vizElement.parentNode.insertBefore(scriptElement, vizElement);               \n",
              "</script>"
            ],
            "text/plain": [
              "<IPython.core.display.HTML object>"
            ]
          },
          "metadata": {
            "tags": []
          }
        }
      ]
    },
    {
      "cell_type": "code",
      "metadata": {
        "id": "r2gR-NkrB3sv",
        "colab_type": "code",
        "colab": {
          "base_uri": "https://localhost:8080/",
          "height": 841
        },
        "outputId": "246d43a9-7023-44e3-f981-dbb5adb4d54c"
      },
      "source": [
        "# Plot to show the Taxi In and Taxi Out Time\n",
        "axis = plt.subplots(figsize=(10,14))\n",
        "sb.set_color_codes(\"pastel\")\n",
        "sb.set_context(\"notebook\", font_scale=1.5)\n",
        "axis = sb.barplot(x=\"TAXI_OUT\", y=\"AIRLINE\", data=Flights, color=\"g\")\n",
        "axis = sb.barplot(x=\"TAXI_IN\", y=\"AIRLINE\", data=Flights, color=\"r\")\n",
        "axis.set(xlabel=\"TAXI_TIME (TAXI_OUT: green, TAXI_IN: blue)\")"
      ],
      "execution_count": 60,
      "outputs": [
        {
          "output_type": "execute_result",
          "data": {
            "text/plain": [
              "[Text(0.5, 0, 'TAXI_TIME (TAXI_OUT: green, TAXI_IN: blue)')]"
            ]
          },
          "metadata": {
            "tags": []
          },
          "execution_count": 60
        },
        {
          "output_type": "display_data",
          "data": {
            "image/png": "[encoded data removed]",
            "text/plain": [
              "<Figure size 720x1008 with 1 Axes>"
            ]
          },
          "metadata": {
            "tags": []
          }
        }
      ]
    },
    {
      "cell_type": "code",
      "metadata": {
        "id": "iVvquU55B9nb",
        "colab_type": "code",
        "colab": {
          "base_uri": "https://localhost:8080/",
          "height": 970
        },
        "outputId": "ad0a7956-35ba-4654-d5a4-e550e85c1d25"
      },
      "source": [
        "axis = plt.subplots(figsize=(20,14))\n",
        "sb.heatmap(Flights.corr(),annot = True)\n",
        "plt.show()"
      ],
      "execution_count": 61,
      "outputs": [
        {
          "output_type": "display_data",
          "data": {
            "image/png": "[encoded data removed]",
            "text/plain": [
              "<Figure size 1440x1008 with 2 Axes>"
            ]
          },
          "metadata": {
            "tags": []
          }
        }
      ]
    },
    {
      "cell_type": "markdown",
      "metadata": {
        "id": "DY4GJocxCIVv",
        "colab_type": "text"
      },
      "source": [
        "# Arrival Delay and Departure Delay are highly correlated.\n",
        "It shows that maximum of the Arrival Delays are due to the Departure Delays but some flights has still arrived on time even after departed late from the Origin Airport. Now we need to check why departure Delay is happening in the origin Airport Which may be due to security Delays, Air System Delays etc."
      ]
    },
    {
      "cell_type": "code",
      "metadata": {
        "id": "sOoE5IutCGCy",
        "colab_type": "code",
        "colab": {
          "base_uri": "https://localhost:8080/",
          "height": 994
        },
        "outputId": "3129550c-a694-4ea1-8fc6-f1f201e770a7"
      },
      "source": [
        "%%html\n",
        "<div class='tableauPlaceholder' id='viz1569938215526' style='position: relative'><noscript><a href='#'><img alt=' ' \n",
        "src='https:&#47;&#47;public.tableau.com&#47;static&#47;images&#47;PH&#47;PHNKQPSZG&#47;1_rss.png' style='border: none'\n",
        "/></a></noscript><object class='tableauViz'  style='display:none;'><param name='host_url' value='https%3A%2F%2Fpublic.tableau.com%2F' \n",
        "/> <param name='embed_code_version' value='3' \n",
        "/> <param name='path' value='shared&#47;PHNKQPSZG' \n",
        "/> <param name='toolbar' value='yes' /><param name='static_image' value='https:&#47;&#47;public.tableau.com&#47;static&#47;images&#47;PH&#47;PHNKQPSZG&#47;1.png' \n",
        "/> <param name='animate_transition' value='yes' /><param name='display_static_image' value='yes' /><param name='display_spinner' value='yes'\n",
        "/><param name='display_overlay' value='yes' \n",
        "/><param name='display_count' value='yes' /></object></div>                \n",
        "<script type='text/javascript'>                   \n",
        "var divElement = document.getElementById('viz1569938215526');                   \n",
        "var vizElement = divElement.getElementsByTagName('object')[0];                   \n",
        "vizElement.style.width='100%';vizElement.style.height=(divElement.offsetWidth*0.75)+'px';                   \n",
        "var scriptElement = document.createElement('script');                    \n",
        "scriptElement.src = 'https://public.tableau.com/javascripts/api/viz_v1.js';                   \n",
        "vizElement.parentNode.insertBefore(scriptElement, vizElement);               \n",
        "</script>"
      ],
      "execution_count": 62,
      "outputs": [
        {
          "output_type": "display_data",
          "data": {
            "text/html": [
              "<div class='tableauPlaceholder' id='viz1569938215526' style='position: relative'><noscript><a href='#'><img alt=' ' \n",
              "src='https:&#47;&#47;public.tableau.com&#47;static&#47;images&#47;PH&#47;PHNKQPSZG&#47;1_rss.png' style='border: none'\n",
              "/></a></noscript><object class='tableauViz'  style='display:none;'><param name='host_url' value='https%3A%2F%2Fpublic.tableau.com%2F' \n",
              "/> <param name='embed_code_version' value='3' \n",
              "/> <param name='path' value='shared&#47;PHNKQPSZG' \n",
              "/> <param name='toolbar' value='yes' /><param name='static_image' value='https:&#47;&#47;public.tableau.com&#47;static&#47;images&#47;PH&#47;PHNKQPSZG&#47;1.png' \n",
              "/> <param name='animate_transition' value='yes' /><param name='display_static_image' value='yes' /><param name='display_spinner' value='yes'\n",
              "/><param name='display_overlay' value='yes' \n",
              "/><param name='display_count' value='yes' /></object></div>                \n",
              "<script type='text/javascript'>                   \n",
              "var divElement = document.getElementById('viz1569938215526');                   \n",
              "var vizElement = divElement.getElementsByTagName('object')[0];                   \n",
              "vizElement.style.width='100%';vizElement.style.height=(divElement.offsetWidth*0.75)+'px';                   \n",
              "var scriptElement = document.createElement('script');                    \n",
              "scriptElement.src = 'https://public.tableau.com/javascripts/api/viz_v1.js';                   \n",
              "vizElement.parentNode.insertBefore(scriptElement, vizElement);               \n",
              "</script>"
            ],
            "text/plain": [
              "<IPython.core.display.HTML object>"
            ]
          },
          "metadata": {
            "tags": []
          }
        }
      ]
    },
    {
      "cell_type": "markdown",
      "metadata": {
        "id": "wVfO9QKlCuu1",
        "colab_type": "text"
      },
      "source": [
        "Now, let's make prediction models."
      ]
    },
    {
      "cell_type": "code",
      "metadata": {
        "id": "LX_bxy6dCr20",
        "colab_type": "code",
        "colab": {
          "base_uri": "https://localhost:8080/",
          "height": 394
        },
        "outputId": "795f55af-43b8-4e21-dd80-1349ad7d0a61"
      },
      "source": [
        "Flights.head()"
      ],
      "execution_count": 63,
      "outputs": [
        {
          "output_type": "execute_result",
          "data": {
            "text/html": [
              "<div>\n",
              "<style scoped>\n",
              "    .dataframe tbody tr th:only-of-type {\n",
              "        vertical-align: middle;\n",
              "    }\n",
              "\n",
              "    .dataframe tbody tr th {\n",
              "        vertical-align: top;\n",
              "    }\n",
              "\n",
              "    .dataframe thead th {\n",
              "        text-align: right;\n",
              "    }\n",
              "</style>\n",
              "<table border=\"1\" class=\"dataframe\">\n",
              "  <thead>\n",
              "    <tr style=\"text-align: right;\">\n",
              "      <th></th>\n",
              "      <th>AIRLINE</th>\n",
              "      <th>Org_Airport_Name</th>\n",
              "      <th>Origin_city</th>\n",
              "      <th>Dest_Airport_Name</th>\n",
              "      <th>Destination_city</th>\n",
              "      <th>ORIGIN_AIRPORT</th>\n",
              "      <th>DESTINATION_AIRPORT</th>\n",
              "      <th>DISTANCE</th>\n",
              "      <th>Actual_Departure</th>\n",
              "      <th>Date</th>\n",
              "      <th>Day</th>\n",
              "      <th>Scheduled_Departure</th>\n",
              "      <th>DEPARTURE_DELAY</th>\n",
              "      <th>Actual_Arrival</th>\n",
              "      <th>Scheduled_Arrival</th>\n",
              "      <th>ARRIVAL_DELAY</th>\n",
              "      <th>SCHEDULED_TIME</th>\n",
              "      <th>ELAPSED_TIME</th>\n",
              "      <th>AIR_TIME</th>\n",
              "      <th>TAXI_IN</th>\n",
              "      <th>TAXI_OUT</th>\n",
              "      <th>DIVERTED</th>\n",
              "    </tr>\n",
              "  </thead>\n",
              "  <tbody>\n",
              "    <tr>\n",
              "      <th>0</th>\n",
              "      <td>Alaska Airlines Inc.</td>\n",
              "      <td>Ted Stevens Anchorage International Airport</td>\n",
              "      <td>Anchorage</td>\n",
              "      <td>Seattle-Tacoma International Airport</td>\n",
              "      <td>Seattle</td>\n",
              "      <td>ANC</td>\n",
              "      <td>SEA</td>\n",
              "      <td>1448</td>\n",
              "      <td>23:54:00</td>\n",
              "      <td>2015-01-01</td>\n",
              "      <td>Thursday</td>\n",
              "      <td>00:05:00</td>\n",
              "      <td>-11.0</td>\n",
              "      <td>04:08:00</td>\n",
              "      <td>04:30:00</td>\n",
              "      <td>-22.0</td>\n",
              "      <td>205.0</td>\n",
              "      <td>194.0</td>\n",
              "      <td>169.0</td>\n",
              "      <td>4.0</td>\n",
              "      <td>21.0</td>\n",
              "      <td>0</td>\n",
              "    </tr>\n",
              "    <tr>\n",
              "      <th>1</th>\n",
              "      <td>Alaska Airlines Inc.</td>\n",
              "      <td>Ted Stevens Anchorage International Airport</td>\n",
              "      <td>Anchorage</td>\n",
              "      <td>Seattle-Tacoma International Airport</td>\n",
              "      <td>Seattle</td>\n",
              "      <td>ANC</td>\n",
              "      <td>SEA</td>\n",
              "      <td>1448</td>\n",
              "      <td>00:41:00</td>\n",
              "      <td>2015-01-01</td>\n",
              "      <td>Thursday</td>\n",
              "      <td>00:45:00</td>\n",
              "      <td>-4.0</td>\n",
              "      <td>04:55:00</td>\n",
              "      <td>05:09:00</td>\n",
              "      <td>-14.0</td>\n",
              "      <td>204.0</td>\n",
              "      <td>194.0</td>\n",
              "      <td>173.0</td>\n",
              "      <td>4.0</td>\n",
              "      <td>17.0</td>\n",
              "      <td>0</td>\n",
              "    </tr>\n",
              "    <tr>\n",
              "      <th>2</th>\n",
              "      <td>Alaska Airlines Inc.</td>\n",
              "      <td>Ted Stevens Anchorage International Airport</td>\n",
              "      <td>Anchorage</td>\n",
              "      <td>Seattle-Tacoma International Airport</td>\n",
              "      <td>Seattle</td>\n",
              "      <td>ANC</td>\n",
              "      <td>SEA</td>\n",
              "      <td>1448</td>\n",
              "      <td>01:40:00</td>\n",
              "      <td>2015-01-01</td>\n",
              "      <td>Thursday</td>\n",
              "      <td>01:55:00</td>\n",
              "      <td>-15.0</td>\n",
              "      <td>05:58:00</td>\n",
              "      <td>06:33:00</td>\n",
              "      <td>-35.0</td>\n",
              "      <td>218.0</td>\n",
              "      <td>198.0</td>\n",
              "      <td>170.0</td>\n",
              "      <td>11.0</td>\n",
              "      <td>17.0</td>\n",
              "      <td>0</td>\n",
              "    </tr>\n",
              "    <tr>\n",
              "      <th>3</th>\n",
              "      <td>Alaska Airlines Inc.</td>\n",
              "      <td>Ted Stevens Anchorage International Airport</td>\n",
              "      <td>Anchorage</td>\n",
              "      <td>Seattle-Tacoma International Airport</td>\n",
              "      <td>Seattle</td>\n",
              "      <td>ANC</td>\n",
              "      <td>SEA</td>\n",
              "      <td>1448</td>\n",
              "      <td>02:09:00</td>\n",
              "      <td>2015-01-01</td>\n",
              "      <td>Thursday</td>\n",
              "      <td>02:20:00</td>\n",
              "      <td>-11.0</td>\n",
              "      <td>06:28:00</td>\n",
              "      <td>06:40:00</td>\n",
              "      <td>-12.0</td>\n",
              "      <td>200.0</td>\n",
              "      <td>199.0</td>\n",
              "      <td>176.0</td>\n",
              "      <td>8.0</td>\n",
              "      <td>15.0</td>\n",
              "      <td>0</td>\n",
              "    </tr>\n",
              "    <tr>\n",
              "      <th>4</th>\n",
              "      <td>Alaska Airlines Inc.</td>\n",
              "      <td>Ted Stevens Anchorage International Airport</td>\n",
              "      <td>Anchorage</td>\n",
              "      <td>Seattle-Tacoma International Airport</td>\n",
              "      <td>Seattle</td>\n",
              "      <td>ANC</td>\n",
              "      <td>SEA</td>\n",
              "      <td>1448</td>\n",
              "      <td>04:57:00</td>\n",
              "      <td>2015-01-01</td>\n",
              "      <td>Thursday</td>\n",
              "      <td>05:05:00</td>\n",
              "      <td>-8.0</td>\n",
              "      <td>09:16:00</td>\n",
              "      <td>09:30:00</td>\n",
              "      <td>-14.0</td>\n",
              "      <td>205.0</td>\n",
              "      <td>199.0</td>\n",
              "      <td>179.0</td>\n",
              "      <td>4.0</td>\n",
              "      <td>16.0</td>\n",
              "      <td>0</td>\n",
              "    </tr>\n",
              "  </tbody>\n",
              "</table>\n",
              "</div>"
            ],
            "text/plain": [
              "                AIRLINE  ... DIVERTED\n",
              "0  Alaska Airlines Inc.  ...        0\n",
              "1  Alaska Airlines Inc.  ...        0\n",
              "2  Alaska Airlines Inc.  ...        0\n",
              "3  Alaska Airlines Inc.  ...        0\n",
              "4  Alaska Airlines Inc.  ...        0\n",
              "\n",
              "[5 rows x 22 columns]"
            ]
          },
          "metadata": {
            "tags": []
          },
          "execution_count": 63
        }
      ]
    },
    {
      "cell_type": "code",
      "metadata": {
        "id": "zvZIklWFCzfo",
        "colab_type": "code",
        "colab": {}
      },
      "source": [
        "# Dropping unncecssary columns before prediction\n",
        "Flights1 = Flights.drop(['Org_Airport_Name','Origin_city','Dest_Airport_Name','Destination_city'],axis = 1)"
      ],
      "execution_count": 0,
      "outputs": []
    },
    {
      "cell_type": "code",
      "metadata": {
        "id": "EMjNpqXEC1A8",
        "colab_type": "code",
        "colab": {
          "base_uri": "https://localhost:8080/",
          "height": 119
        },
        "outputId": "31c6a3bf-3ffd-46aa-c6f8-62e62b6760e5"
      },
      "source": [
        "Flights1.columns"
      ],
      "execution_count": 65,
      "outputs": [
        {
          "output_type": "execute_result",
          "data": {
            "text/plain": [
              "Index(['AIRLINE', 'ORIGIN_AIRPORT', 'DESTINATION_AIRPORT', 'DISTANCE',\n",
              "       'Actual_Departure', 'Date', 'Day', 'Scheduled_Departure',\n",
              "       'DEPARTURE_DELAY', 'Actual_Arrival', 'Scheduled_Arrival',\n",
              "       'ARRIVAL_DELAY', 'SCHEDULED_TIME', 'ELAPSED_TIME', 'AIR_TIME',\n",
              "       'TAXI_IN', 'TAXI_OUT', 'DIVERTED'],\n",
              "      dtype='object')"
            ]
          },
          "metadata": {
            "tags": []
          },
          "execution_count": 65
        }
      ]
    },
    {
      "cell_type": "code",
      "metadata": {
        "id": "PA5Tpt5dC2Qj",
        "colab_type": "code",
        "colab": {
          "base_uri": "https://localhost:8080/",
          "height": 298
        },
        "outputId": "6ec26ece-7f57-4e18-8197-196092b4a73b"
      },
      "source": [
        "# To check the Distribution of Air Time\n",
        "sb.distplot(Flights1['AIR_TIME'])\n",
        "plt.show()"
      ],
      "execution_count": 68,
      "outputs": [
        {
          "output_type": "display_data",
          "data": {
            "image/png": "[encoded data removed]",
            "text/plain": [
              "<Figure size 432x288 with 1 Axes>"
            ]
          },
          "metadata": {
            "tags": []
          }
        }
      ]
    },
    {
      "cell_type": "code",
      "metadata": {
        "id": "2JRrKbG7C3sv",
        "colab_type": "code",
        "colab": {
          "base_uri": "https://localhost:8080/",
          "height": 298
        },
        "outputId": "98368f46-d32f-44c1-a579-05116656ff1e"
      },
      "source": [
        "# To check the Distribution of Elapsed Time\n",
        "sb.distplot(Flights1['ELAPSED_TIME'])\n",
        "plt.show()"
      ],
      "execution_count": 69,
      "outputs": [
        {
          "output_type": "display_data",
          "data": {
            "image/png": "[encoded data removed]",
            "text/plain": [
              "<Figure size 432x288 with 1 Axes>"
            ]
          },
          "metadata": {
            "tags": []
          }
        }
      ]
    },
    {
      "cell_type": "code",
      "metadata": {
        "id": "405CfkBdC7dV",
        "colab_type": "code",
        "colab": {
          "base_uri": "https://localhost:8080/",
          "height": 298
        },
        "outputId": "4271135f-0632-40cb-c9ab-71ac91307cba"
      },
      "source": [
        "# To check the Distribution of Taxi IN\n",
        "sb.distplot(Flights1['TAXI_IN'])\n",
        "plt.show()"
      ],
      "execution_count": 70,
      "outputs": [
        {
          "output_type": "display_data",
          "data": {
            "image/png": "[encoded data removed]",
            "text/plain": [
              "<Figure size 432x288 with 1 Axes>"
            ]
          },
          "metadata": {
            "tags": []
          }
        }
      ]
    },
    {
      "cell_type": "code",
      "metadata": {
        "id": "Q8A36xuOC9ia",
        "colab_type": "code",
        "colab": {
          "base_uri": "https://localhost:8080/",
          "height": 298
        },
        "outputId": "2e4aca52-d38e-4fd7-a9aa-a489361c505c"
      },
      "source": [
        "# To check the Distribution of Taxi out\n",
        "sb.distplot(Flights1['TAXI_OUT'])\n",
        "plt.show()"
      ],
      "execution_count": 67,
      "outputs": [
        {
          "output_type": "display_data",
          "data": {
            "image/png": "[encoded data removed]",
            "text/plain": [
              "<Figure size 432x288 with 1 Axes>"
            ]
          },
          "metadata": {
            "tags": []
          }
        }
      ]
    },
    {
      "cell_type": "code",
      "metadata": {
        "id": "WoItZNTSDA0F",
        "colab_type": "code",
        "colab": {}
      },
      "source": [
        "# importing Various regression algorithms \n",
        "from sklearn.preprocessing import StandardScaler\n",
        "from sklearn.model_selection import train_test_split\n",
        "from sklearn.preprocessing import LabelEncoder\n",
        "from sklearn.linear_model import Lasso,LinearRegression,Ridge\n",
        "from sklearn.tree import DecisionTreeRegressor\n",
        "from sklearn.ensemble import RandomForestRegressor,AdaBoostRegressor,BaggingRegressor\n",
        "from sklearn.metrics import mean_absolute_error,mean_squared_error,r2_score"
      ],
      "execution_count": 0,
      "outputs": []
    },
    {
      "cell_type": "code",
      "metadata": {
        "id": "AI5HxxeRDJbv",
        "colab_type": "code",
        "colab": {}
      },
      "source": [
        "Las = Lasso()\n",
        "LinR = LinearRegression()\n",
        "Rid = Ridge()\n",
        "Rfc = RandomForestRegressor(random_state=2)\n",
        "Dtc = DecisionTreeRegressor(random_state = 2)\n",
        "Boost_Lin = AdaBoostRegressor(base_estimator=LinR,random_state=2)\n",
        "Boost_las = AdaBoostRegressor(base_estimator=Las,random_state=2)\n",
        "Boost_rid = AdaBoostRegressor(base_estimator=Rid,random_state=2)\n",
        "Bg_Lin = BaggingRegressor(base_estimator=LinR,random_state=2)\n",
        "Bg_las = BaggingRegressor(base_estimator=Las,random_state=2)\n",
        "Bg_rid = BaggingRegressor(base_estimator=Rid,random_state=2)"
      ],
      "execution_count": 0,
      "outputs": []
    },
    {
      "cell_type": "code",
      "metadata": {
        "id": "Ebx_sRfaDLRP",
        "colab_type": "code",
        "colab": {}
      },
      "source": [
        "le = LabelEncoder()"
      ],
      "execution_count": 0,
      "outputs": []
    },
    {
      "cell_type": "code",
      "metadata": {
        "id": "A8q1jy56DMmq",
        "colab_type": "code",
        "colab": {}
      },
      "source": [
        "# Label encoding features to change categorical variables into numerical one\n",
        "Flights1['AIRLINE']= le.fit_transform(Flights1['AIRLINE'])\n",
        "Flights1['ORIGIN_AIRPORT'] = le.fit_transform(Flights1['ORIGIN_AIRPORT'])\n",
        "Flights1['DESTINATION_AIRPORT'] = le.fit_transform(Flights1['DESTINATION_AIRPORT'])\n",
        "Flights1['Day'] = le.fit_transform(Flights1['Day'])"
      ],
      "execution_count": 0,
      "outputs": []
    },
    {
      "cell_type": "code",
      "metadata": {
        "id": "BVcddWFVDOG4",
        "colab_type": "code",
        "colab": {}
      },
      "source": [
        "Flights1 = Flights1.drop(['Scheduled_Departure','Scheduled_Arrival','Actual_Arrival','Date','Actual_Departure'], axis = 1)"
      ],
      "execution_count": 0,
      "outputs": []
    },
    {
      "cell_type": "code",
      "metadata": {
        "id": "DZ9kTDtiDPfv",
        "colab_type": "code",
        "colab": {
          "base_uri": "https://localhost:8080/",
          "height": 323
        },
        "outputId": "d3ba77ee-1475-40e9-97c6-f070f0ba68f2"
      },
      "source": [
        "Flights1.info()"
      ],
      "execution_count": 76,
      "outputs": [
        {
          "output_type": "stream",
          "text": [
            "<class 'pandas.core.frame.DataFrame'>\n",
            "Int64Index: 5219244 entries, 0 to 5221999\n",
            "Data columns (total 13 columns):\n",
            "AIRLINE                int64\n",
            "ORIGIN_AIRPORT         int64\n",
            "DESTINATION_AIRPORT    int64\n",
            "DISTANCE               int64\n",
            "Day                    int64\n",
            "DEPARTURE_DELAY        float64\n",
            "ARRIVAL_DELAY          float64\n",
            "SCHEDULED_TIME         float64\n",
            "ELAPSED_TIME           float64\n",
            "AIR_TIME               float64\n",
            "TAXI_IN                float64\n",
            "TAXI_OUT               float64\n",
            "DIVERTED               int64\n",
            "dtypes: float64(7), int64(6)\n",
            "memory usage: 557.5 MB\n"
          ],
          "name": "stdout"
        }
      ]
    },
    {
      "cell_type": "code",
      "metadata": {
        "id": "aeuFU76WDQvV",
        "colab_type": "code",
        "colab": {
          "base_uri": "https://localhost:8080/",
          "height": 34
        },
        "outputId": "f7e78cf6-5751-4e8b-af95-dae345f134c4"
      },
      "source": [
        "X = Flights1.drop('ARRIVAL_DELAY',axis = 1)\n",
        "X.shape"
      ],
      "execution_count": 77,
      "outputs": [
        {
          "output_type": "execute_result",
          "data": {
            "text/plain": [
              "(5219244, 12)"
            ]
          },
          "metadata": {
            "tags": []
          },
          "execution_count": 77
        }
      ]
    },
    {
      "cell_type": "code",
      "metadata": {
        "id": "m83q7zCBDTK_",
        "colab_type": "code",
        "colab": {
          "base_uri": "https://localhost:8080/",
          "height": 119
        },
        "outputId": "aa1027de-9fb1-4205-e746-7a6ef7f30002"
      },
      "source": [
        "y = Flights1['ARRIVAL_DELAY']\n",
        "y.head()"
      ],
      "execution_count": 78,
      "outputs": [
        {
          "output_type": "execute_result",
          "data": {
            "text/plain": [
              "0   -22.0\n",
              "1   -14.0\n",
              "2   -35.0\n",
              "3   -12.0\n",
              "4   -14.0\n",
              "Name: ARRIVAL_DELAY, dtype: float64"
            ]
          },
          "metadata": {
            "tags": []
          },
          "execution_count": 78
        }
      ]
    },
    {
      "cell_type": "code",
      "metadata": {
        "id": "MTK07Y0lDUXP",
        "colab_type": "code",
        "colab": {}
      },
      "source": [
        "# Splitting into train and test data set\n",
        "X_train,X_test,y_train,y_test = train_test_split(X,y,test_size=0.3,random_state = 2)"
      ],
      "execution_count": 0,
      "outputs": []
    },
    {
      "cell_type": "code",
      "metadata": {
        "id": "yGOeYlABDVxQ",
        "colab_type": "code",
        "colab": {}
      },
      "source": [
        "sc1=StandardScaler()\n",
        "X_train_sc=sc1.fit_transform(X_train)\n",
        "X_test_sc=sc1.transform(X_test)"
      ],
      "execution_count": 0,
      "outputs": []
    },
    {
      "cell_type": "markdown",
      "metadata": {
        "id": "cv8NYWqaDYgq",
        "colab_type": "text"
      },
      "source": [
        "# Evaluation"
      ]
    },
    {
      "cell_type": "code",
      "metadata": {
        "id": "h-qM3B6DDW8R",
        "colab_type": "code",
        "colab": {
          "base_uri": "https://localhost:8080/",
          "height": 1000
        },
        "outputId": "0adf967d-9575-4e4b-8eb0-7c11ff29302a"
      },
      "source": [
        "for model, name in zip([Las,LinR,Rid,Dtc,Rfc,Boost_Lin,Boost_las,Boost_rid,Bg_Lin,Bg_las,Bg_rid], \n",
        "     ['Lasso','Linear Regression','Ridge','Random forest Regressor','Decision Tree Regressor','Boosted Linear',\n",
        "      'Boosted Lasso','Boosted Ridge','Bagged Linear','Bagged Lasso','Bagged Ridge']):\n",
        "    model1 = model.fit(X_train_sc,y_train)\n",
        "    Y_predict=model1.predict(X_test_sc)\n",
        "    print(name)\n",
        "    print('Mean Absolute Error:', mean_absolute_error(y_test, Y_predict))  \n",
        "    print('Mean Squared Error:', mean_squared_error(y_test, Y_predict))  \n",
        "    print('Root Mean Squared Error:', np.sqrt(mean_squared_error(y_test, Y_predict)))\n",
        "    print('R2 : ',r2_score(y_test, Y_predict))\n",
        "    print()"
      ],
      "execution_count": 81,
      "outputs": [
        {
          "output_type": "stream",
          "text": [
            "Lasso\n",
            "Mean Absolute Error: 7.2803102101678245\n",
            "Mean Squared Error: 97.19065931031936\n",
            "Root Mean Squared Error: 9.858532310152428\n",
            "R2 :  0.9383657079258535\n",
            "\n",
            "Linear Regression\n",
            "Mean Absolute Error: 7.563770924856677e-07\n",
            "Mean Squared Error: 8.755185134224967e-13\n",
            "Root Mean Squared Error: 9.356914627282311e-07\n",
            "R2 :  0.9999999999999994\n",
            "\n",
            "Ridge\n",
            "Mean Absolute Error: 0.00017483173507931927\n",
            "Mean Squared Error: 5.4915919489084134e-08\n",
            "Root Mean Squared Error: 0.00023434145917674093\n",
            "R2 :  0.9999999999651746\n",
            "\n",
            "Random forest Regressor\n",
            "Mean Absolute Error: 0.9692158638475284\n",
            "Mean Squared Error: 8.65024518225491\n",
            "Root Mean Squared Error: 2.9411299159090047\n",
            "R2 :  0.994514372658243\n",
            "\n"
          ],
          "name": "stdout"
        },
        {
          "output_type": "stream",
          "text": [
            "/usr/local/lib/python3.6/dist-packages/sklearn/ensemble/forest.py:245: FutureWarning: The default value of n_estimators will change from 10 in version 0.20 to 100 in 0.22.\n",
            "  \"10 in version 0.20 to 100 in 0.22.\", FutureWarning)\n"
          ],
          "name": "stderr"
        },
        {
          "output_type": "stream",
          "text": [
            "Decision Tree Regressor\n",
            "Mean Absolute Error: 0.6346336061270655\n",
            "Mean Squared Error: 4.2500657182965105\n",
            "Root Mean Squared Error: 2.0615687517753343\n",
            "R2 :  0.9973047842902328\n",
            "\n",
            "Boosted Linear\n",
            "Mean Absolute Error: 8.211741946559569e-14\n",
            "Mean Squared Error: 1.4989275544920236e-26\n",
            "Root Mean Squared Error: 1.2243069690612824e-13\n",
            "R2 :  1.0\n",
            "\n",
            "Boosted Lasso\n",
            "Mean Absolute Error: 2.7801302281400253\n",
            "Mean Squared Error: 14.761901147181632\n",
            "Root Mean Squared Error: 3.842121958915624\n",
            "R2 :  0.9906386134909317\n",
            "\n",
            "Boosted Ridge\n",
            "Mean Absolute Error: 0.008304216837545975\n",
            "Mean Squared Error: 0.00010966322834655522\n",
            "Root Mean Squared Error: 0.01047202121591411\n",
            "R2 :  0.999999930456121\n",
            "\n",
            "Bagged Linear\n",
            "Mean Absolute Error: 8.359172840326256e-07\n",
            "Mean Squared Error: 1.0728260729508979e-12\n",
            "Root Mean Squared Error: 1.0357731764005564e-06\n",
            "R2 :  0.9999999999999993\n",
            "\n",
            "Bagged Lasso\n",
            "Mean Absolute Error: 7.281159722322443\n",
            "Mean Squared Error: 97.22133941612644\n",
            "Root Mean Squared Error: 9.860088205291392\n",
            "R2 :  0.938346251873023\n",
            "\n",
            "Bagged Ridge\n",
            "Mean Absolute Error: 0.00017498263076463994\n",
            "Mean Squared Error: 5.501300718294284e-08\n",
            "Root Mean Squared Error: 0.00023454851775899765\n",
            "R2 :  0.999999999965113\n",
            "\n"
          ],
          "name": "stdout"
        }
      ]
    },
    {
      "cell_type": "code",
      "metadata": {
        "id": "RQToDDPfDikk",
        "colab_type": "code",
        "colab": {
          "base_uri": "https://localhost:8080/",
          "height": 1000
        },
        "outputId": "07a391a9-df8c-4c2f-a2da-7869db1c3325"
      },
      "source": [
        "for model, name in zip([Las,LinR,Rid,Dtc,Rfc,Boost_Lin,Boost_las,Boost_rid,Bg_Lin,Bg_las,Bg_rid], \n",
        "     ['Lasso','Linear Regression','Ridge','Random forest Regressor','Decision Tree Regressor','Boosted Linear',\n",
        "      'Boosted Lasso','Boosted Ridge','Bagged Linear','Bagged Lasso','Bagged Ridge']):\n",
        "    model1 = model.fit(X_train_sc,y_train)\n",
        "    Y_predict=model1.predict(X_test_sc)\n",
        "    print(name)\n",
        "    plt.scatter(y_test, Y_predict)\n",
        "    plt.title(\"Model Analysis\")\n",
        "    plt.xlabel(\"Truth\")\n",
        "    plt.ylabel(\"Prediction\")\n",
        "    plt.show()"
      ],
      "execution_count": 82,
      "outputs": [
        {
          "output_type": "stream",
          "text": [
            "Lasso\n"
          ],
          "name": "stdout"
        },
        {
          "output_type": "display_data",
          "data": {
            "image/png": "[encoded data removed]",
            "text/plain": [
              "<Figure size 432x288 with 1 Axes>"
            ]
          },
          "metadata": {
            "tags": []
          }
        },
        {
          "output_type": "stream",
          "text": [
            "Linear Regression\n"
          ],
          "name": "stdout"
        },
        {
          "output_type": "display_data",
          "data": {
            "image/png": "[encoded data removed]",
            "text/plain": [
              "<Figure size 432x288 with 1 Axes>"
            ]
          },
          "metadata": {
            "tags": []
          }
        },
        {
          "output_type": "stream",
          "text": [
            "Ridge\n"
          ],
          "name": "stdout"
        },
        {
          "output_type": "display_data",
          "data": {
            "image/png": "[encoded data removed]",
            "text/plain": [
              "<Figure size 432x288 with 1 Axes>"
            ]
          },
          "metadata": {
            "tags": []
          }
        },
        {
          "output_type": "stream",
          "text": [
            "Random forest Regressor\n"
          ],
          "name": "stdout"
        },
        {
          "output_type": "display_data",
          "data": {
            "image/png": "[encoded data removed]",
            "text/plain": [
              "<Figure size 432x288 with 1 Axes>"
            ]
          },
          "metadata": {
            "tags": []
          }
        },
        {
          "output_type": "stream",
          "text": [
            "Decision Tree Regressor\n"
          ],
          "name": "stdout"
        },
        {
          "output_type": "display_data",
          "data": {
            "image/png": "[encoded data removed]",
            "text/plain": [
              "<Figure size 432x288 with 1 Axes>"
            ]
          },
          "metadata": {
            "tags": []
          }
        },
        {
          "output_type": "stream",
          "text": [
            "Boosted Linear\n"
          ],
          "name": "stdout"
        },
        {
          "output_type": "display_data",
          "data": {
            "image/png": "[encoded data removed]",
            "text/plain": [
              "<Figure size 432x288 with 1 Axes>"
            ]
          },
          "metadata": {
            "tags": []
          }
        },
        {
          "output_type": "stream",
          "text": [
            "Boosted Lasso\n"
          ],
          "name": "stdout"
        },
        {
          "output_type": "display_data",
          "data": {
            "image/png": "[encoded data removed]",
            "text/plain": [
              "<Figure size 432x288 with 1 Axes>"
            ]
          },
          "metadata": {
            "tags": []
          }
        },
        {
          "output_type": "stream",
          "text": [
            "Boosted Ridge\n"
          ],
          "name": "stdout"
        },
        {
          "output_type": "display_data",
          "data": {
            "image/png": "[encoded data removed]",
            "text/plain": [
              "<Figure size 432x288 with 1 Axes>"
            ]
          },
          "metadata": {
            "tags": []
          }
        },
        {
          "output_type": "stream",
          "text": [
            "Bagged Linear\n"
          ],
          "name": "stdout"
        },
        {
          "output_type": "display_data",
          "data": {
            "image/png": "[encoded data removed]",
            "text/plain": [
              "<Figure size 432x288 with 1 Axes>"
            ]
          },
          "metadata": {
            "tags": []
          }
        },
        {
          "output_type": "stream",
          "text": [
            "Bagged Lasso\n"
          ],
          "name": "stdout"
        },
        {
          "output_type": "display_data",
          "data": {
            "image/png": "[encoded data removed]",
            "text/plain": [
              "<Figure size 432x288 with 1 Axes>"
            ]
          },
          "metadata": {
            "tags": []
          }
        },
        {
          "output_type": "stream",
          "text": [
            "Bagged Ridge\n"
          ],
          "name": "stdout"
        },
        {
          "output_type": "display_data",
          "data": {
            "image/png": "[encoded data removed]",
            "text/plain": [
              "<Figure size 432x288 with 1 Axes>"
            ]
          },
          "metadata": {
            "tags": []
          }
        }
      ]
    },
    {
      "cell_type": "markdown",
      "metadata": {
        "id": "9MqeVtmuD5nf",
        "colab_type": "text"
      },
      "source": [
        "# Conclusion\n",
        "It is concluded that maximum arrival Delays are dependent on the Departure Delays of the Airport. First, I cleaned the data, performed the explorary data analysis, and visualized the data to get some insights from them. After that, I built the regression models and predict the delays of the airlines. \n",
        "\n",
        "We can see that departure delay is the main problem which is creating Delay in the airport. Departure Delays can be caused due Security Delay, Airline System Delays, Airlines Delay etc. Delays can influence the incomes of the airlines so it had to deal with it properly and reduced to maximize the profits of airlines."
      ]
    }
  ]
}